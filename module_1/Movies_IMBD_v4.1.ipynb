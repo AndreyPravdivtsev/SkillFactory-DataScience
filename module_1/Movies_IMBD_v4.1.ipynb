{
 "cells": [
  {
   "cell_type": "code",
   "execution_count": 1,
   "metadata": {
    "_cell_guid": "b1076dfc-b9ad-4769-8c92-a6c4dae69d19",
    "_uuid": "8f2839f25d086af736a60e9eeb907d3b93b6e0e5",
    "colab": {},
    "colab_type": "code",
    "id": "U2D2gTdJVp90"
   },
   "outputs": [],
   "source": [
    "import numpy as np\n",
    "import pandas as pd\n",
    "import seaborn as sns\n",
    "import matplotlib.pyplot as plt\n",
    "import datetime\n",
    "import collections\n",
    "from datetime import datetime\n",
    "from collections import Counter\n",
    "from pandas import DataFrame\n",
    "import calendar\n",
    "from itertools import combinations"
   ]
  },
  {
   "cell_type": "code",
   "execution_count": 2,
   "metadata": {
    "_cell_guid": "79c7e3d0-c299-4dcb-8224-4455121ee9b0",
    "_uuid": "d629ff2d2480ee46fbb7e2d37f6b5fab8052498a",
    "colab": {},
    "colab_type": "code",
    "id": "oyGfxL3eVp9-"
   },
   "outputs": [
    {
     "data": {
      "text/html": [
       "<div>\n",
       "<style scoped>\n",
       "    .dataframe tbody tr th:only-of-type {\n",
       "        vertical-align: middle;\n",
       "    }\n",
       "\n",
       "    .dataframe tbody tr th {\n",
       "        vertical-align: top;\n",
       "    }\n",
       "\n",
       "    .dataframe thead th {\n",
       "        text-align: right;\n",
       "    }\n",
       "</style>\n",
       "<table border=\"1\" class=\"dataframe\">\n",
       "  <thead>\n",
       "    <tr style=\"text-align: right;\">\n",
       "      <th></th>\n",
       "      <th>imdb_id</th>\n",
       "      <th>budget</th>\n",
       "      <th>revenue</th>\n",
       "      <th>original_title</th>\n",
       "      <th>cast</th>\n",
       "      <th>director</th>\n",
       "      <th>tagline</th>\n",
       "      <th>overview</th>\n",
       "      <th>runtime</th>\n",
       "      <th>genres</th>\n",
       "      <th>production_companies</th>\n",
       "      <th>release_date</th>\n",
       "      <th>vote_average</th>\n",
       "      <th>release_year</th>\n",
       "    </tr>\n",
       "  </thead>\n",
       "  <tbody>\n",
       "    <tr>\n",
       "      <th>538</th>\n",
       "      <td>tt0159273</td>\n",
       "      <td>40000000</td>\n",
       "      <td>91753202</td>\n",
       "      <td>Behind Enemy Lines</td>\n",
       "      <td>Owen Wilson|Gene Hackman|Gabriel Macht|Charles...</td>\n",
       "      <td>John Moore</td>\n",
       "      <td>His only weapon is his will to survive.</td>\n",
       "      <td>While flying a routine reconnaissance mission ...</td>\n",
       "      <td>106</td>\n",
       "      <td>Action|Drama|Thriller|War</td>\n",
       "      <td>Twentieth Century Fox Film Corporation|Davis E...</td>\n",
       "      <td>11/17/2001</td>\n",
       "      <td>5.9</td>\n",
       "      <td>2001</td>\n",
       "    </tr>\n",
       "    <tr>\n",
       "      <th>1829</th>\n",
       "      <td>tt0208003</td>\n",
       "      <td>30000000</td>\n",
       "      <td>173959438</td>\n",
       "      <td>Big Momma's House</td>\n",
       "      <td>Martin Lawrence|Nia Long|Paul Giamatti|Jascha ...</td>\n",
       "      <td>Raja Gosnell</td>\n",
       "      <td>This FBI agent is going undercover... and he's...</td>\n",
       "      <td>When a street-smart FBI agent is sent to Georg...</td>\n",
       "      <td>98</td>\n",
       "      <td>Crime|Comedy</td>\n",
       "      <td>Twentieth Century Fox Film Corporation|Regency...</td>\n",
       "      <td>5/31/2000</td>\n",
       "      <td>5.7</td>\n",
       "      <td>2000</td>\n",
       "    </tr>\n",
       "    <tr>\n",
       "      <th>137</th>\n",
       "      <td>tt2109248</td>\n",
       "      <td>210000000</td>\n",
       "      <td>245500000</td>\n",
       "      <td>Transformers: Age of Extinction</td>\n",
       "      <td>Mark Wahlberg|Stanley Tucci|Nicola Peltz|Jack ...</td>\n",
       "      <td>Michael Bay</td>\n",
       "      <td>This is not war. It's extinction.</td>\n",
       "      <td>As humanity picks up the pieces, following the...</td>\n",
       "      <td>165</td>\n",
       "      <td>Science Fiction|Action|Adventure</td>\n",
       "      <td>Paramount Pictures|Amblin Entertainment|Di Bon...</td>\n",
       "      <td>6/25/2014</td>\n",
       "      <td>5.9</td>\n",
       "      <td>2014</td>\n",
       "    </tr>\n",
       "  </tbody>\n",
       "</table>\n",
       "</div>"
      ],
      "text/plain": [
       "        imdb_id     budget    revenue                   original_title  \\\n",
       "538   tt0159273   40000000   91753202               Behind Enemy Lines   \n",
       "1829  tt0208003   30000000  173959438                Big Momma's House   \n",
       "137   tt2109248  210000000  245500000  Transformers: Age of Extinction   \n",
       "\n",
       "                                                   cast      director  \\\n",
       "538   Owen Wilson|Gene Hackman|Gabriel Macht|Charles...    John Moore   \n",
       "1829  Martin Lawrence|Nia Long|Paul Giamatti|Jascha ...  Raja Gosnell   \n",
       "137   Mark Wahlberg|Stanley Tucci|Nicola Peltz|Jack ...   Michael Bay   \n",
       "\n",
       "                                                tagline  \\\n",
       "538             His only weapon is his will to survive.   \n",
       "1829  This FBI agent is going undercover... and he's...   \n",
       "137                   This is not war. It's extinction.   \n",
       "\n",
       "                                               overview  runtime  \\\n",
       "538   While flying a routine reconnaissance mission ...      106   \n",
       "1829  When a street-smart FBI agent is sent to Georg...       98   \n",
       "137   As humanity picks up the pieces, following the...      165   \n",
       "\n",
       "                                genres  \\\n",
       "538          Action|Drama|Thriller|War   \n",
       "1829                      Crime|Comedy   \n",
       "137   Science Fiction|Action|Adventure   \n",
       "\n",
       "                                   production_companies release_date  \\\n",
       "538   Twentieth Century Fox Film Corporation|Davis E...   11/17/2001   \n",
       "1829  Twentieth Century Fox Film Corporation|Regency...    5/31/2000   \n",
       "137   Paramount Pictures|Amblin Entertainment|Di Bon...    6/25/2014   \n",
       "\n",
       "      vote_average  release_year  \n",
       "538            5.9          2001  \n",
       "1829           5.7          2000  \n",
       "137            5.9          2014  "
      ]
     },
     "execution_count": 2,
     "metadata": {},
     "output_type": "execute_result"
    }
   ],
   "source": [
    "data_orig = pd.read_csv('movie_bd_v5.csv') # data_orig хранит оригинальную базу данных, которую не будем изменять\n",
    "data_orig.sample(3)"
   ]
  },
  {
   "cell_type": "code",
   "execution_count": 3,
   "metadata": {
    "colab": {},
    "colab_type": "code",
    "id": "CoYUnagMVp-C"
   },
   "outputs": [
    {
     "data": {
      "text/html": [
       "<div>\n",
       "<style scoped>\n",
       "    .dataframe tbody tr th:only-of-type {\n",
       "        vertical-align: middle;\n",
       "    }\n",
       "\n",
       "    .dataframe tbody tr th {\n",
       "        vertical-align: top;\n",
       "    }\n",
       "\n",
       "    .dataframe thead th {\n",
       "        text-align: right;\n",
       "    }\n",
       "</style>\n",
       "<table border=\"1\" class=\"dataframe\">\n",
       "  <thead>\n",
       "    <tr style=\"text-align: right;\">\n",
       "      <th></th>\n",
       "      <th>budget</th>\n",
       "      <th>revenue</th>\n",
       "      <th>runtime</th>\n",
       "      <th>vote_average</th>\n",
       "      <th>release_year</th>\n",
       "    </tr>\n",
       "  </thead>\n",
       "  <tbody>\n",
       "    <tr>\n",
       "      <th>count</th>\n",
       "      <td>1.889000e+03</td>\n",
       "      <td>1.889000e+03</td>\n",
       "      <td>1889.000000</td>\n",
       "      <td>1889.000000</td>\n",
       "      <td>1889.000000</td>\n",
       "    </tr>\n",
       "    <tr>\n",
       "      <th>mean</th>\n",
       "      <td>5.431083e+07</td>\n",
       "      <td>1.553653e+08</td>\n",
       "      <td>109.658549</td>\n",
       "      <td>6.140762</td>\n",
       "      <td>2007.860773</td>\n",
       "    </tr>\n",
       "    <tr>\n",
       "      <th>std</th>\n",
       "      <td>4.858721e+07</td>\n",
       "      <td>2.146698e+08</td>\n",
       "      <td>18.017041</td>\n",
       "      <td>0.764763</td>\n",
       "      <td>4.468841</td>\n",
       "    </tr>\n",
       "    <tr>\n",
       "      <th>min</th>\n",
       "      <td>5.000000e+06</td>\n",
       "      <td>2.033165e+06</td>\n",
       "      <td>63.000000</td>\n",
       "      <td>3.300000</td>\n",
       "      <td>2000.000000</td>\n",
       "    </tr>\n",
       "    <tr>\n",
       "      <th>25%</th>\n",
       "      <td>2.000000e+07</td>\n",
       "      <td>3.456058e+07</td>\n",
       "      <td>97.000000</td>\n",
       "      <td>5.600000</td>\n",
       "      <td>2004.000000</td>\n",
       "    </tr>\n",
       "    <tr>\n",
       "      <th>50%</th>\n",
       "      <td>3.800000e+07</td>\n",
       "      <td>8.361541e+07</td>\n",
       "      <td>107.000000</td>\n",
       "      <td>6.100000</td>\n",
       "      <td>2008.000000</td>\n",
       "    </tr>\n",
       "    <tr>\n",
       "      <th>75%</th>\n",
       "      <td>7.200000e+07</td>\n",
       "      <td>1.782626e+08</td>\n",
       "      <td>120.000000</td>\n",
       "      <td>6.600000</td>\n",
       "      <td>2012.000000</td>\n",
       "    </tr>\n",
       "    <tr>\n",
       "      <th>max</th>\n",
       "      <td>3.800000e+08</td>\n",
       "      <td>2.781506e+09</td>\n",
       "      <td>214.000000</td>\n",
       "      <td>8.100000</td>\n",
       "      <td>2015.000000</td>\n",
       "    </tr>\n",
       "  </tbody>\n",
       "</table>\n",
       "</div>"
      ],
      "text/plain": [
       "             budget       revenue      runtime  vote_average  release_year\n",
       "count  1.889000e+03  1.889000e+03  1889.000000   1889.000000   1889.000000\n",
       "mean   5.431083e+07  1.553653e+08   109.658549      6.140762   2007.860773\n",
       "std    4.858721e+07  2.146698e+08    18.017041      0.764763      4.468841\n",
       "min    5.000000e+06  2.033165e+06    63.000000      3.300000   2000.000000\n",
       "25%    2.000000e+07  3.456058e+07    97.000000      5.600000   2004.000000\n",
       "50%    3.800000e+07  8.361541e+07   107.000000      6.100000   2008.000000\n",
       "75%    7.200000e+07  1.782626e+08   120.000000      6.600000   2012.000000\n",
       "max    3.800000e+08  2.781506e+09   214.000000      8.100000   2015.000000"
      ]
     },
     "execution_count": 3,
     "metadata": {},
     "output_type": "execute_result"
    }
   ],
   "source": [
    "data_orig.describe()"
   ]
  },
  {
   "cell_type": "code",
   "execution_count": 4,
   "metadata": {},
   "outputs": [
    {
     "name": "stdout",
     "output_type": "stream",
     "text": [
      "<class 'pandas.core.frame.DataFrame'>\n",
      "RangeIndex: 1889 entries, 0 to 1888\n",
      "Data columns (total 14 columns):\n",
      " #   Column                Non-Null Count  Dtype  \n",
      "---  ------                --------------  -----  \n",
      " 0   imdb_id               1889 non-null   object \n",
      " 1   budget                1889 non-null   int64  \n",
      " 2   revenue               1889 non-null   int64  \n",
      " 3   original_title        1889 non-null   object \n",
      " 4   cast                  1889 non-null   object \n",
      " 5   director              1889 non-null   object \n",
      " 6   tagline               1889 non-null   object \n",
      " 7   overview              1889 non-null   object \n",
      " 8   runtime               1889 non-null   int64  \n",
      " 9   genres                1889 non-null   object \n",
      " 10  production_companies  1889 non-null   object \n",
      " 11  release_date          1889 non-null   object \n",
      " 12  vote_average          1889 non-null   float64\n",
      " 13  release_year          1889 non-null   int64  \n",
      "dtypes: float64(1), int64(4), object(9)\n",
      "memory usage: 206.7+ KB\n"
     ]
    }
   ],
   "source": [
    "data_orig.info()"
   ]
  },
  {
   "cell_type": "markdown",
   "metadata": {
    "colab_type": "text",
    "id": "DTIt7ezGVp-G"
   },
   "source": [
    "# Предобработка"
   ]
  },
  {
   "cell_type": "code",
   "execution_count": 5,
   "metadata": {
    "colab": {},
    "colab_type": "code",
    "id": "jNb40DwKVp-H"
   },
   "outputs": [
    {
     "name": "stdout",
     "output_type": "stream",
     "text": [
      "<class 'pandas.core.frame.DataFrame'>\n",
      "RangeIndex: 1889 entries, 0 to 1888\n",
      "Data columns (total 17 columns):\n",
      " #   Column                Non-Null Count  Dtype  \n",
      "---  ------                --------------  -----  \n",
      " 0   imdb_id               1889 non-null   object \n",
      " 1   vote_average          1889 non-null   float64\n",
      " 2   budget                1889 non-null   int64  \n",
      " 3   revenue               1889 non-null   int64  \n",
      " 4   profit                1889 non-null   int64  \n",
      " 5   original_title        1889 non-null   object \n",
      " 6   cast                  1889 non-null   object \n",
      " 7   director              1889 non-null   object \n",
      " 8   tagline               1889 non-null   object \n",
      " 9   overview              1889 non-null   object \n",
      " 10  runtime               1889 non-null   int64  \n",
      " 11  genres                1889 non-null   object \n",
      " 12  production_companies  1889 non-null   object \n",
      " 13  release_date          1889 non-null   object \n",
      " 14  release_year          1889 non-null   int64  \n",
      " 15  release_month         1889 non-null   int64  \n",
      " 16  release_day           1889 non-null   int64  \n",
      "dtypes: float64(1), int64(7), object(9)\n",
      "memory usage: 251.0+ KB\n"
     ]
    },
    {
     "data": {
      "text/html": [
       "<div>\n",
       "<style scoped>\n",
       "    .dataframe tbody tr th:only-of-type {\n",
       "        vertical-align: middle;\n",
       "    }\n",
       "\n",
       "    .dataframe tbody tr th {\n",
       "        vertical-align: top;\n",
       "    }\n",
       "\n",
       "    .dataframe thead th {\n",
       "        text-align: right;\n",
       "    }\n",
       "</style>\n",
       "<table border=\"1\" class=\"dataframe\">\n",
       "  <thead>\n",
       "    <tr style=\"text-align: right;\">\n",
       "      <th></th>\n",
       "      <th>imdb_id</th>\n",
       "      <th>vote_average</th>\n",
       "      <th>budget</th>\n",
       "      <th>revenue</th>\n",
       "      <th>profit</th>\n",
       "      <th>original_title</th>\n",
       "      <th>cast</th>\n",
       "      <th>director</th>\n",
       "      <th>tagline</th>\n",
       "      <th>overview</th>\n",
       "      <th>runtime</th>\n",
       "      <th>genres</th>\n",
       "      <th>production_companies</th>\n",
       "      <th>release_date</th>\n",
       "      <th>release_year</th>\n",
       "      <th>release_month</th>\n",
       "      <th>release_day</th>\n",
       "    </tr>\n",
       "  </thead>\n",
       "  <tbody>\n",
       "    <tr>\n",
       "      <th>13</th>\n",
       "      <td>tt2120120</td>\n",
       "      <td>5.8</td>\n",
       "      <td>88000000</td>\n",
       "      <td>243637091</td>\n",
       "      <td>155637091</td>\n",
       "      <td>Pixels</td>\n",
       "      <td>[Adam Sandler, Michelle Monaghan, Peter Dinkla...</td>\n",
       "      <td>[Chris Columbus]</td>\n",
       "      <td>Game On.</td>\n",
       "      <td>Video game experts are recruited by the milita...</td>\n",
       "      <td>105</td>\n",
       "      <td>[Action, Comedy, Science Fiction]</td>\n",
       "      <td>[Columbia Pictures, Happy Madison Productions]</td>\n",
       "      <td>2015-07-16</td>\n",
       "      <td>2015</td>\n",
       "      <td>7</td>\n",
       "      <td>16</td>\n",
       "    </tr>\n",
       "    <tr>\n",
       "      <th>1618</th>\n",
       "      <td>tt0337921</td>\n",
       "      <td>6.0</td>\n",
       "      <td>25000000</td>\n",
       "      <td>56422687</td>\n",
       "      <td>31422687</td>\n",
       "      <td>Cellular</td>\n",
       "      <td>[Chris Evans, Kim Basinger, Jason Statham, Jes...</td>\n",
       "      <td>[David R. Ellis]</td>\n",
       "      <td>If the signal dies so does she</td>\n",
       "      <td>A young man receives an emergency phone call o...</td>\n",
       "      <td>94</td>\n",
       "      <td>[Action, Adventure, Crime, Thriller]</td>\n",
       "      <td>[New Line Cinema]</td>\n",
       "      <td>2004-09-06</td>\n",
       "      <td>2004</td>\n",
       "      <td>9</td>\n",
       "      <td>6</td>\n",
       "    </tr>\n",
       "  </tbody>\n",
       "</table>\n",
       "</div>"
      ],
      "text/plain": [
       "        imdb_id  vote_average    budget    revenue     profit original_title  \\\n",
       "13    tt2120120           5.8  88000000  243637091  155637091         Pixels   \n",
       "1618  tt0337921           6.0  25000000   56422687   31422687       Cellular   \n",
       "\n",
       "                                                   cast          director  \\\n",
       "13    [Adam Sandler, Michelle Monaghan, Peter Dinkla...  [Chris Columbus]   \n",
       "1618  [Chris Evans, Kim Basinger, Jason Statham, Jes...  [David R. Ellis]   \n",
       "\n",
       "                             tagline  \\\n",
       "13                          Game On.   \n",
       "1618  If the signal dies so does she   \n",
       "\n",
       "                                               overview  runtime  \\\n",
       "13    Video game experts are recruited by the milita...      105   \n",
       "1618  A young man receives an emergency phone call o...       94   \n",
       "\n",
       "                                    genres  \\\n",
       "13       [Action, Comedy, Science Fiction]   \n",
       "1618  [Action, Adventure, Crime, Thriller]   \n",
       "\n",
       "                                production_companies release_date  \\\n",
       "13    [Columbia Pictures, Happy Madison Productions]   2015-07-16   \n",
       "1618                               [New Line Cinema]   2004-09-06   \n",
       "\n",
       "      release_year  release_month  release_day  \n",
       "13            2015              7           16  \n",
       "1618          2004              9            6  "
      ]
     },
     "execution_count": 5,
     "metadata": {},
     "output_type": "execute_result"
    }
   ],
   "source": [
    "answers = {}  # создадим словарь для ответов\n",
    "data = {}\n",
    "data = data_orig.copy()  #не будем изменять оригинальную базу данных,\n",
    "\n",
    "#далее работаем только с data\n",
    "\n",
    "# предобработки колонок\n",
    "\n",
    "\n",
    "#1. the time given in the dataset is in string format.\n",
    "#So we need to change this in datetime format\n",
    "#data[\"datetime\"]=data.revenue-data.budget\n",
    "def date2datetime(date):\n",
    "    return datetime.strptime(date, '%m/%d/%Y').date()\n",
    "\n",
    "\n",
    "#data.release_date=data.release_date.apply(date2datetime)\n",
    "data[\"release_date\"] = data.release_date.map(\n",
    "    lambda x: datetime.strptime(x, '%m/%d/%Y').date())\n",
    "data[\"release_month\"] = data.release_date.map(lambda x: x.month)\n",
    "data[\"release_day\"] = data.release_date.map(lambda x: x.day)\n",
    "\n",
    "#2. we have to know profit of the movies.\n",
    "# profit = revenue - budget\n",
    "data[\"profit\"] = data.revenue - data.budget\n",
    "\n",
    "#3. it would be nice to have profit column just after revenue and budget\n",
    "#to do this we have to put column -1 between 2 and 3\n",
    "cols = data.columns.tolist()\n",
    "cols = cols[0:3] + cols[-1:] + cols[3:-1]\n",
    "\n",
    "#4. it would be nice to have release date and year together and score at the beginning\n",
    "#to do this we have to put column -2 between 0 and 1\n",
    "cols = cols[0:1] + cols[-4:-3] + cols[1:-4] + cols[-3:]\n",
    "data = data[cols]\n",
    "\n",
    "\n",
    "#5. it is more comfortable to have genres, cast and production_companies as a list instead of str with sep=\"|\"\n",
    "def str2list(in_str):\n",
    "    return list(in_str.split(\"|\"))\n",
    "\n",
    "\n",
    "data.genres = data.genres.apply(str2list)\n",
    "data.cast = data.cast.apply(str2list)\n",
    "data.production_companies = data.production_companies.apply(str2list)\n",
    "data.director = data.director.apply(str2list)\n",
    "\n",
    "\n",
    "# функция создает словарь со счетчиком уникальных значений. Входные данные столбец dataframe\n",
    "def cols_in_DataFrame(x_ser):\n",
    "    x_dict = {}\n",
    "    for x_list in x_ser:\n",
    "        for x in x_list:\n",
    "            x_dict.setdefault(x, 0)\n",
    "            x_dict[x] += 1\n",
    "    return DataFrame.from_dict(x_dict, orient='index',columns=[\"col\"])\\\n",
    "             .sort_values(by=\"col\",ascending=False)\n",
    "\n",
    "\n",
    "# функция создает словарь со счетчиком уникальных значений. Входные данные столбец dataframe\n",
    "def cols_in_counter(x_ser):\n",
    "    count = collections.Counter()\n",
    "    for x_list in x_ser:\n",
    "        for x in x_list:\n",
    "            count[x] += 1\n",
    "    return count\n",
    "\n",
    "\n",
    "data.info()\n",
    "\n",
    "data.describe()\n",
    "\n",
    "data.sample(2)"
   ]
  },
  {
   "cell_type": "markdown",
   "metadata": {
    "colab_type": "text",
    "id": "YxZaH-nPVp-L"
   },
   "source": [
    "# 1. У какого фильма из списка самый большой бюджет?"
   ]
  },
  {
   "cell_type": "markdown",
   "metadata": {
    "colab_type": "text",
    "id": "Nd-G5gX6Vp-M"
   },
   "source": [
    "Использовать варианты ответов в коде решения запрещено.    \n",
    "Вы думаете и в жизни у вас будут варианты ответов?)"
   ]
  },
  {
   "cell_type": "markdown",
   "metadata": {},
   "source": [
    "ВАРИАНТ 1"
   ]
  },
  {
   "cell_type": "code",
   "execution_count": 6,
   "metadata": {
    "colab": {},
    "colab_type": "code",
    "id": "uVnXAY5RVp-O"
   },
   "outputs": [
    {
     "name": "stdout",
     "output_type": "stream",
     "text": [
      "Answer:\n",
      "Pirates of the Caribbean: On Stranger Tides (tt1298650)\n",
      "budget is 380000000$\n"
     ]
    }
   ],
   "source": [
    "#\"+\" верно\n",
    "data_line = data[data.budget == data.budget.max()].iloc[0]\n",
    "\n",
    "answers['1'] = data_line[\"original_title\"] + \" (\" + data_line[\"imdb_id\"] + \")\"\n",
    "\n",
    "print(\"Answer:\")\n",
    "print(answers[\"1\"])\n",
    "print(\"budget is {}$\".format(data_line[\"budget\"]))"
   ]
  },
  {
   "cell_type": "markdown",
   "metadata": {
    "colab_type": "text",
    "id": "K7L3nbRXVp-X"
   },
   "source": [
    "ВАРИАНТ 2"
   ]
  },
  {
   "cell_type": "code",
   "execution_count": 7,
   "metadata": {
    "colab": {},
    "colab_type": "code",
    "id": "OGaoQI7rVp-X"
   },
   "outputs": [
    {
     "name": "stdout",
     "output_type": "stream",
     "text": [
      "Answer:\n",
      "Pirates of the Caribbean: On Stranger Tides (tt1298650)\n",
      "budget is 380000000$\n"
     ]
    }
   ],
   "source": [
    "#\"+\" верно\n",
    "data_line = data.loc[data['budget'].sort_values(ascending=False).index[0]]\n",
    "\n",
    "answers['1'] = data_line[\"original_title\"] + \" (\" + data_line[\"imdb_id\"] + \")\"\n",
    "\n",
    "print(\"Answer:\")\n",
    "print(answers[\"1\"])\n",
    "print(\"budget is {}$\".format(data_line[\"budget\"]))"
   ]
  },
  {
   "cell_type": "markdown",
   "metadata": {
    "colab_type": "text",
    "id": "FNRbbI3vVp-c"
   },
   "source": [
    "# 2. Какой из фильмов самый длительный (в минутах)?"
   ]
  },
  {
   "cell_type": "markdown",
   "metadata": {},
   "source": [
    "ВАРИАНТ 1"
   ]
  },
  {
   "cell_type": "code",
   "execution_count": 8,
   "metadata": {
    "colab": {},
    "colab_type": "code",
    "id": "vHAoEXNTVp-d"
   },
   "outputs": [
    {
     "name": "stdout",
     "output_type": "stream",
     "text": [
      "Answer:\n",
      "Gods and Generals (tt0279111)\n",
      "runtime is 214 min\n"
     ]
    }
   ],
   "source": [
    "#\"+\" верно\n",
    "data_line = data[data.runtime == data.runtime.max()].iloc[0]\n",
    "\n",
    "answers['2'] = data_line[\"original_title\"] + \" (\" + data_line[\"imdb_id\"] + \")\"\n",
    "\n",
    "print(\"Answer:\")\n",
    "print(answers[\"2\"])\n",
    "print(\"runtime is {} min\".format(data_line[\"runtime\"]))"
   ]
  },
  {
   "cell_type": "markdown",
   "metadata": {
    "colab": {},
    "colab_type": "code",
    "id": "ot-VX2XrVp-g"
   },
   "source": [
    "ВАРИАНТ 2\n",
    "\n"
   ]
  },
  {
   "cell_type": "code",
   "execution_count": 9,
   "metadata": {},
   "outputs": [
    {
     "name": "stdout",
     "output_type": "stream",
     "text": [
      "Answer:\n",
      "Gods and Generals (tt0279111)\n",
      "runtime is 214 min\n"
     ]
    }
   ],
   "source": [
    "#\"+\" верно\n",
    "data_line = data.loc[data['runtime'].sort_values(ascending=False).index[0]]\n",
    "\n",
    "answers['2'] = data_line[\"original_title\"] + \" (\" + data_line[\"imdb_id\"] + \")\"\n",
    "\n",
    "print(\"Answer:\")\n",
    "print(answers[\"2\"])\n",
    "print(\"runtime is {} min\".format(data_line[\"runtime\"]))"
   ]
  },
  {
   "cell_type": "markdown",
   "metadata": {
    "colab_type": "text",
    "id": "bapLlpW8Vp-k"
   },
   "source": [
    "# 3. Какой из фильмов самый короткий (в минутах)?\n",
    "\n",
    "\n",
    "\n"
   ]
  },
  {
   "cell_type": "markdown",
   "metadata": {
    "colab": {},
    "colab_type": "code",
    "id": "YBxaSHuAVp-l"
   },
   "source": [
    "ВАРИАНТ 1"
   ]
  },
  {
   "cell_type": "code",
   "execution_count": 10,
   "metadata": {},
   "outputs": [
    {
     "name": "stdout",
     "output_type": "stream",
     "text": [
      "Answer:\n",
      "Winnie the Pooh (tt1449283)\n",
      "runtime is 63 min\n"
     ]
    }
   ],
   "source": [
    "#\"+\" верно\n",
    "data_line = data[data.runtime == data.runtime.min()].iloc[0]\n",
    "\n",
    "answers['3'] = data_line[\"original_title\"] + \" (\" + data_line[\"imdb_id\"] + \")\"\n",
    "\n",
    "print(\"Answer:\")\n",
    "print(answers[\"3\"])\n",
    "print(\"runtime is {} min\".format(data_line[\"runtime\"]))"
   ]
  },
  {
   "cell_type": "markdown",
   "metadata": {},
   "source": [
    "ВАРИАНТ 2"
   ]
  },
  {
   "cell_type": "code",
   "execution_count": 11,
   "metadata": {},
   "outputs": [
    {
     "name": "stdout",
     "output_type": "stream",
     "text": [
      "Answer:\n",
      "Winnie the Pooh (tt1449283)\n",
      "runtime is 63 min\n"
     ]
    }
   ],
   "source": [
    "#\"+\" верно\n",
    "data_line = data.loc[data['runtime'].sort_values(ascending=True).index[0]]\n",
    "\n",
    "answers['3'] = data_line[\"original_title\"] + \" (\" + data_line[\"imdb_id\"] + \")\"\n",
    "\n",
    "print(\"Answer:\")\n",
    "print(answers[\"3\"])\n",
    "print(\"runtime is {} min\".format(data_line[\"runtime\"]))"
   ]
  },
  {
   "cell_type": "markdown",
   "metadata": {
    "colab_type": "text",
    "id": "TfQbxbfNVp-p"
   },
   "source": [
    "# 4. Какова средняя длительность фильмов?\n"
   ]
  },
  {
   "cell_type": "markdown",
   "metadata": {
    "colab": {},
    "colab_type": "code",
    "id": "5K6dKZYVVp-q"
   },
   "source": [
    "ВАРИАНТ 1"
   ]
  },
  {
   "cell_type": "code",
   "execution_count": 12,
   "metadata": {},
   "outputs": [
    {
     "name": "stdout",
     "output_type": "stream",
     "text": [
      "Answer:\n",
      "110 min\n"
     ]
    }
   ],
   "source": [
    "#\"+\" верно\n",
    "answers['4'] = round(data.runtime.mean())\n",
    "\n",
    "print(\"Answer:\")\n",
    "print(str(answers[\"4\"]) + \" min\")"
   ]
  },
  {
   "cell_type": "code",
   "execution_count": 13,
   "metadata": {},
   "outputs": [
    {
     "name": "stdout",
     "output_type": "stream",
     "text": [
      "Answer:\n",
      "110.0 min\n"
     ]
    }
   ],
   "source": [
    "#\"+\" верно\n",
    "answers['4'] = round(data.runtime.sum() / len(data))\n",
    "\n",
    "print(\"Answer:\")\n",
    "print(str(answers[\"4\"]) + \" min\")"
   ]
  },
  {
   "cell_type": "markdown",
   "metadata": {
    "colab_type": "text",
    "id": "r5TvbnT_Vp-u"
   },
   "source": [
    "# 5. Каково медианное значение длительности фильмов? "
   ]
  },
  {
   "cell_type": "markdown",
   "metadata": {
    "colab": {},
    "colab_type": "code",
    "id": "iBROplKnVp-v"
   },
   "source": [
    "ВАРИАНТ 1"
   ]
  },
  {
   "cell_type": "code",
   "execution_count": 14,
   "metadata": {},
   "outputs": [
    {
     "name": "stdout",
     "output_type": "stream",
     "text": [
      "Answer:\n",
      "107 min\n"
     ]
    }
   ],
   "source": [
    "#\"+\" верно\n",
    "answers['5'] = round(data.runtime.median())\n",
    "\n",
    "print(\"Answer:\")\n",
    "print(str(answers[\"5\"]) + \" min\")"
   ]
  },
  {
   "cell_type": "markdown",
   "metadata": {},
   "source": [
    "ВАРИАНТ 2"
   ]
  },
  {
   "cell_type": "code",
   "execution_count": 15,
   "metadata": {},
   "outputs": [
    {
     "name": "stdout",
     "output_type": "stream",
     "text": [
      "Answer:\n",
      "107 min\n"
     ]
    }
   ],
   "source": [
    "#\"+\" верно\n",
    "# index of median value for data_frame data; this is correct for odd length\n",
    "median_index = (len(data) - 1) // 2 + 1 - 1\n",
    "answers['5'] = round(\n",
    "    data['runtime'].sort_values(ascending=True).iloc[median_index])\n",
    "\n",
    "print(\"Answer:\")\n",
    "print(str(answers[\"5\"]) + \" min\")"
   ]
  },
  {
   "cell_type": "markdown",
   "metadata": {
    "colab_type": "text",
    "id": "39P-deDSVp-y"
   },
   "source": [
    "# 6. Какой самый прибыльный фильм?\n",
    "#### Внимание! Здесь и далее под «прибылью» или «убытками» понимается разность между сборами и бюджетом фильма. (прибыль = сборы - бюджет) в нашем датасете это будет (profit = revenue - budget) "
   ]
  },
  {
   "cell_type": "markdown",
   "metadata": {
    "colab": {},
    "colab_type": "code",
    "id": "UYZh4T9WVp-y"
   },
   "source": [
    "ВАРИАНТ 1"
   ]
  },
  {
   "cell_type": "code",
   "execution_count": 16,
   "metadata": {},
   "outputs": [
    {
     "name": "stdout",
     "output_type": "stream",
     "text": [
      "Answer:\n",
      "Avatar (tt0499549)\n",
      "profit is 2544505847$\n"
     ]
    }
   ],
   "source": [
    "#\"+\" верно\n",
    "data_line = data[data[\"profit\"] == data[\"profit\"].max()].iloc[0]\n",
    "\n",
    "answers['6'] = data_line[\"original_title\"] + \" (\" + data_line[\"imdb_id\"] + \")\"\n",
    "\n",
    "print(\"Answer:\")\n",
    "print(answers[\"6\"])\n",
    "print(\"profit is {}$\".format(data_line[\"profit\"]))"
   ]
  },
  {
   "cell_type": "markdown",
   "metadata": {},
   "source": [
    "ВАРИАНТ 2"
   ]
  },
  {
   "cell_type": "code",
   "execution_count": 17,
   "metadata": {},
   "outputs": [
    {
     "name": "stdout",
     "output_type": "stream",
     "text": [
      "Answer:\n",
      "Avatar (tt0499549)\n",
      "profit is 2544505847$\n"
     ]
    }
   ],
   "source": [
    "#\"+\" верно\n",
    "data_line = data.loc[data['profit'].sort_values(ascending=False).index[0]]\n",
    "\n",
    "answers['6'] = data_line[\"original_title\"] + \" (\" + data_line[\"imdb_id\"] + \")\"\n",
    "\n",
    "print(\"Answer:\")\n",
    "print(answers[\"6\"])\n",
    "print(\"profit is {}$\".format(data_line[\"profit\"]))"
   ]
  },
  {
   "cell_type": "markdown",
   "metadata": {
    "colab_type": "text",
    "id": "M99JmIX4Vp-2"
   },
   "source": [
    "# 7. Какой фильм самый убыточный? "
   ]
  },
  {
   "cell_type": "markdown",
   "metadata": {},
   "source": [
    "ВАРИАНТ 1"
   ]
  },
  {
   "cell_type": "code",
   "execution_count": 18,
   "metadata": {},
   "outputs": [
    {
     "name": "stdout",
     "output_type": "stream",
     "text": [
      "Answer:\n",
      "The Lone Ranger (tt1210819)\n",
      "profit is -165710090$\n"
     ]
    }
   ],
   "source": [
    "#\"+\" верно\n",
    "data_line = data[data.profit == data.profit.min()].iloc[0]\n",
    "\n",
    "answers['7'] = data_line[\"original_title\"] + \" (\" + data_line[\"imdb_id\"] + \")\"\n",
    "\n",
    "print(\"Answer:\")\n",
    "print(answers[\"7\"])\n",
    "print(\"profit is {}$\".format(data_line[\"profit\"]))"
   ]
  },
  {
   "cell_type": "markdown",
   "metadata": {},
   "source": [
    "ВАРИАНТ 2"
   ]
  },
  {
   "cell_type": "code",
   "execution_count": 19,
   "metadata": {
    "colab": {},
    "colab_type": "code",
    "id": "w-D2m4XPVp-3"
   },
   "outputs": [
    {
     "name": "stdout",
     "output_type": "stream",
     "text": [
      "Answer:\n",
      "The Lone Ranger (tt1210819)\n",
      "profit is -165710090$\n"
     ]
    }
   ],
   "source": [
    "#\"+\" верно\n",
    "data_line = data.loc[data['profit'].sort_values(ascending=True).index[0]]\n",
    "\n",
    "answers['7'] = data_line[\"original_title\"] + \" (\" + data_line[\"imdb_id\"] + \")\"\n",
    "\n",
    "print(\"Answer:\")\n",
    "print(answers[\"7\"])\n",
    "print(\"profit is {}$\".format(data_line[\"profit\"]))"
   ]
  },
  {
   "cell_type": "markdown",
   "metadata": {
    "colab_type": "text",
    "id": "wEOM5ERVVp-6"
   },
   "source": [
    "# 8. У скольких фильмов из датасета объем сборов оказался выше бюджета?"
   ]
  },
  {
   "cell_type": "markdown",
   "metadata": {
    "colab": {},
    "colab_type": "code",
    "id": "y00_7HD6Vp-7"
   },
   "source": [
    "ВАРИАНТ 1"
   ]
  },
  {
   "cell_type": "code",
   "execution_count": 20,
   "metadata": {},
   "outputs": [
    {
     "name": "stdout",
     "output_type": "stream",
     "text": [
      "Answer:\n",
      "1478\n"
     ]
    }
   ],
   "source": [
    "#\"+\" верно\n",
    "answers['8'] = len(data[data.revenue > data.budget])\n",
    "\n",
    "print(\"Answer:\")\n",
    "print(answers[\"8\"])"
   ]
  },
  {
   "cell_type": "markdown",
   "metadata": {},
   "source": [
    "ВАРИАНТ 2"
   ]
  },
  {
   "cell_type": "code",
   "execution_count": 21,
   "metadata": {},
   "outputs": [
    {
     "name": "stdout",
     "output_type": "stream",
     "text": [
      "Answer:\n",
      "1478\n"
     ]
    }
   ],
   "source": [
    "#\"+\" верно\n",
    "answers['8'] = len(data[data.profit > 0])\n",
    "\n",
    "print(\"Answer:\")\n",
    "print(answers[\"8\"])"
   ]
  },
  {
   "cell_type": "markdown",
   "metadata": {
    "colab_type": "text",
    "id": "xhpspA9KVp_A"
   },
   "source": [
    "# 9. Какой фильм оказался самым кассовым в 2008 году?"
   ]
  },
  {
   "cell_type": "markdown",
   "metadata": {
    "colab": {},
    "colab_type": "code",
    "id": "MoUyQr9RVp_B"
   },
   "source": [
    "ВАРИАНТ 1"
   ]
  },
  {
   "cell_type": "code",
   "execution_count": 22,
   "metadata": {},
   "outputs": [
    {
     "name": "stdout",
     "output_type": "stream",
     "text": [
      "Answer:\n",
      "The Dark Knight (tt0468569)\n",
      "profit is 816921825$\n"
     ]
    }
   ],
   "source": [
    "#\"+\" верно\n",
    "data_2008 = data[data.release_year == 2008]\n",
    "data_line = data_2008[data_2008.profit==data_2008.profit.max()]\\\n",
    "            .iloc[0]\n",
    "\n",
    "answers['9'] = data_line[\"original_title\"] + \" (\" + data_line[\"imdb_id\"] + \")\"\n",
    "\n",
    "print(\"Answer:\")\n",
    "print(answers[\"9\"])\n",
    "print(\"profit is {}$\".format(data_line[\"profit\"]))"
   ]
  },
  {
   "cell_type": "markdown",
   "metadata": {},
   "source": [
    "ВАРИАНТ 2"
   ]
  },
  {
   "cell_type": "code",
   "execution_count": 23,
   "metadata": {},
   "outputs": [
    {
     "name": "stdout",
     "output_type": "stream",
     "text": [
      "Answer:\n",
      "The Dark Knight (tt0468569)\n",
      "profit is 816921825$\n"
     ]
    }
   ],
   "source": [
    "#\"+\" верно\n",
    "data_line = data.loc[data\\\n",
    "                   [data.release_year==2008]\\\n",
    "                   ['profit']\\\n",
    "                   .sort_values(ascending=False)\\\n",
    "                   .index[0]]\n",
    "\n",
    "answers['9'] = data_line[\"original_title\"] + \" (\" + data_line[\"imdb_id\"] + \")\"\n",
    "\n",
    "print(\"Answer:\")\n",
    "print(answers[\"9\"])\n",
    "print(\"profit is {}$\".format(data_line[\"profit\"]))"
   ]
  },
  {
   "cell_type": "markdown",
   "metadata": {
    "colab_type": "text",
    "id": "Zi4hDKidVp_F"
   },
   "source": [
    "# 10. Самый убыточный фильм за период с 2012 по 2014 г. (включительно)?\n"
   ]
  },
  {
   "cell_type": "markdown",
   "metadata": {},
   "source": [
    "ВАРИАНТ 1"
   ]
  },
  {
   "cell_type": "code",
   "execution_count": 24,
   "metadata": {},
   "outputs": [
    {
     "name": "stdout",
     "output_type": "stream",
     "text": [
      "Answer:\n",
      "The Lone Ranger (tt1210819)\n",
      "profit is -165710090$\n"
     ]
    }
   ],
   "source": [
    "#\"+\" верно\n",
    "data_2012_14 = data[(2012 <= data.release_year) & (data.release_year <= 2014)]\n",
    "data_line = data_2012_14[data_2012_14.profit==data_2012_14.profit.min()]\\\n",
    "            .iloc[0]\n",
    "\n",
    "answers['10'] = data_line[\"original_title\"] + \" (\" + data_line[\"imdb_id\"] + \")\"\n",
    "\n",
    "print(\"Answer:\")\n",
    "print(answers[\"10\"])\n",
    "print(\"profit is {}$\".format(data_line[\"profit\"]))"
   ]
  },
  {
   "cell_type": "markdown",
   "metadata": {},
   "source": [
    "ВАРИАНТ 2"
   ]
  },
  {
   "cell_type": "code",
   "execution_count": 25,
   "metadata": {
    "colab": {},
    "colab_type": "code",
    "id": "XqyRmufJVp_F"
   },
   "outputs": [
    {
     "name": "stdout",
     "output_type": "stream",
     "text": [
      "Answer:\n",
      "The Lone Ranger (tt1210819)\n",
      "profit is -165710090$\n"
     ]
    }
   ],
   "source": [
    "#\"+\" верно\n",
    "data_line = data.loc[data\\\n",
    "                   [(2012<=data.release_year)&(data.release_year<=2014)]\\\n",
    "                   ['profit']\\\n",
    "                   .sort_values(ascending=True)\\\n",
    "                   .index[0]]\n",
    "\n",
    "answers['10'] = data_line[\"original_title\"] + \" (\" + data_line[\"imdb_id\"] + \")\"\n",
    "\n",
    "print(\"Answer:\")\n",
    "print(answers[\"10\"])\n",
    "print(\"profit is {}$\".format(data_line[\"profit\"]))"
   ]
  },
  {
   "cell_type": "markdown",
   "metadata": {
    "colab_type": "text",
    "id": "EA7Sa9dkVp_I"
   },
   "source": [
    "# 11. Какого жанра фильмов больше всего?"
   ]
  },
  {
   "cell_type": "markdown",
   "metadata": {
    "colab": {},
    "colab_type": "code",
    "id": "zsJAwJ8QVp_J"
   },
   "source": [
    "ВАРИАНТ 1"
   ]
  },
  {
   "cell_type": "code",
   "execution_count": 26,
   "metadata": {},
   "outputs": [
    {
     "name": "stdout",
     "output_type": "stream",
     "text": [
      "Answer:\n",
      "Drama\n",
      "occured 782 times\n"
     ]
    }
   ],
   "source": [
    "#\"+\" верно\n",
    "genres_pd = cols_in_DataFrame(data[\"genres\"])\n",
    "\n",
    "answers['11'] = genres_pd.index[0]\n",
    "\n",
    "print(\"Answer:\")\n",
    "print(answers[\"11\"])\n",
    "print(\"occured {} times\".format(genres_pd.iloc[0].col))"
   ]
  },
  {
   "cell_type": "markdown",
   "metadata": {},
   "source": [
    "ВАРИАНТ 2"
   ]
  },
  {
   "cell_type": "code",
   "execution_count": 27,
   "metadata": {},
   "outputs": [
    {
     "name": "stdout",
     "output_type": "stream",
     "text": [
      "Answer:\n",
      "Drama\n",
      "occured 782 times\n"
     ]
    }
   ],
   "source": [
    "#\"+\" верно\n",
    "genres_dict = cols_in_counter(data[\"genres\"])\n",
    "\n",
    "answers['11'] = genres_dict.most_common(1)[0][0]\n",
    "\n",
    "print(\"Answer:\")\n",
    "print(answers[\"11\"])\n",
    "print(\"occured {} times\".format(genres_dict.most_common(1)[0][1]))"
   ]
  },
  {
   "cell_type": "markdown",
   "metadata": {},
   "source": [
    "Вариант 3, лучшее решение"
   ]
  },
  {
   "cell_type": "code",
   "execution_count": 28,
   "metadata": {},
   "outputs": [
    {
     "name": "stdout",
     "output_type": "stream",
     "text": [
      "Answer:\n",
      "Drama\n",
      "occured 782 times\n"
     ]
    }
   ],
   "source": [
    "#\"+\" верно\n",
    "genres_series = data[\"genres\"]\\\n",
    "                .explode()\\\n",
    "                .value_counts()\n",
    "\n",
    "answers['11'] = genres_series.index[0]\n",
    "\n",
    "print(\"Answer:\")\n",
    "print(answers[\"11\"])\n",
    "print(\"occured {} times\".format(genres_series[0]))"
   ]
  },
  {
   "cell_type": "markdown",
   "metadata": {
    "colab_type": "text",
    "id": "T9_bPWpkVp_Q"
   },
   "source": [
    "# 12. Фильмы какого жанра чаще всего становятся прибыльными? "
   ]
  },
  {
   "cell_type": "markdown",
   "metadata": {
    "colab": {},
    "colab_type": "code",
    "id": "Tmt8MaK1Vp_R"
   },
   "source": [
    "ВАРИАНТ 1"
   ]
  },
  {
   "cell_type": "code",
   "execution_count": 29,
   "metadata": {},
   "outputs": [
    {
     "name": "stdout",
     "output_type": "stream",
     "text": [
      "Answer:\n",
      "Drama\n",
      "occured 560 times\n"
     ]
    }
   ],
   "source": [
    "#\"+\" верно\n",
    "genres_pd = cols_in_DataFrame(data[data.profit > 0][\"genres\"])\n",
    "\n",
    "answers['12'] = genres_pd.index[0]\n",
    "\n",
    "print(\"Answer:\")\n",
    "print(answers[\"12\"])\n",
    "print(\"occured {} times\".format(genres_pd.iloc[0].col))"
   ]
  },
  {
   "cell_type": "markdown",
   "metadata": {},
   "source": [
    "ВАРИАНТ 2"
   ]
  },
  {
   "cell_type": "code",
   "execution_count": 30,
   "metadata": {},
   "outputs": [
    {
     "name": "stdout",
     "output_type": "stream",
     "text": [
      "Answer:\n",
      "Drama\n",
      "occured 560 times\n"
     ]
    }
   ],
   "source": [
    "#\"+\" верно\n",
    "genres_dict = cols_in_counter(data[data.profit > 0][\"genres\"])\n",
    "\n",
    "answers['12'] = genres_dict.most_common(1)[0][0]\n",
    "\n",
    "print(\"Answer:\")\n",
    "print(answers[\"12\"])\n",
    "print(\"occured {} times\".format(genres_dict.most_common(1)[0][1]))"
   ]
  },
  {
   "cell_type": "markdown",
   "metadata": {},
   "source": [
    "ВАРИАНТ 3"
   ]
  },
  {
   "cell_type": "code",
   "execution_count": 31,
   "metadata": {},
   "outputs": [
    {
     "name": "stdout",
     "output_type": "stream",
     "text": [
      "Answer:\n",
      "Drama\n",
      "occured 560 times\n"
     ]
    }
   ],
   "source": [
    "#\"+\" верно\n",
    "genres_series = data[data.profit>0][\"genres\"]\\\n",
    "                        .explode()\\\n",
    "                        .value_counts()\n",
    "\n",
    "answers['12'] = genres_series.index[0]\n",
    "\n",
    "print(\"Answer:\")\n",
    "print(answers[\"12\"])\n",
    "print(\"occured {} times\".format(genres_series[0]))"
   ]
  },
  {
   "cell_type": "markdown",
   "metadata": {},
   "source": [
    "ВАРИАНТ 4. Тут правильно учитывается слово \"чаще\" в вопросе, как доля или вероятность."
   ]
  },
  {
   "cell_type": "code",
   "execution_count": 32,
   "metadata": {},
   "outputs": [
    {
     "name": "stdout",
     "output_type": "stream",
     "text": [
      "Answer:\n",
      "Documentary\n",
      "occured in 87.5%\n"
     ]
    }
   ],
   "source": [
    "genres = DataFrame()\n",
    "\n",
    "genres_profitable = DataFrame(data[data.profit>0][\"genres\"]\\\n",
    "                        .explode()\\\n",
    "                        .value_counts())\n",
    "genres = DataFrame(data[\"genres\"]\\\n",
    "                .explode()\\\n",
    "                .value_counts())\n",
    "genres.columns = [\"total\"]\n",
    "\n",
    "genres[\"profitable\"] = genres_profitable.copy()\n",
    "genres[\"fraction\"] = genres[\"profitable\"] / genres[\"total\"]\n",
    "genres = genres.sort_values(by=\"fraction\", ascending=False).fillna(0)\n",
    "\n",
    "answers['12_alternative'] = genres.index[0]\n",
    "\n",
    "print(\"Answer:\")\n",
    "print(answers[\"12_alternative\"])\n",
    "print(\"occured in {}%\".format(genres.fraction[0] * 100))"
   ]
  },
  {
   "cell_type": "markdown",
   "metadata": {
    "colab_type": "text",
    "id": "0F23bgsDVp_U"
   },
   "source": [
    "# 13. У какого режиссера самые большие суммарные кассовые сбооры?"
   ]
  },
  {
   "cell_type": "code",
   "execution_count": 33,
   "metadata": {
    "colab": {},
    "colab_type": "code",
    "id": "K6Z3J8ygVp_X"
   },
   "outputs": [
    {
     "name": "stdout",
     "output_type": "stream",
     "text": [
      "Answer:\n",
      "Peter Jackson\n",
      "she/he made 6490593685$\n"
     ]
    }
   ],
   "source": [
    "#\"+\" верно\n",
    "ans13 = data[[\"director\",\"revenue\"]]\\\n",
    "        .explode(\"director\")\\\n",
    "        .groupby(by = 'director')\\\n",
    "        .revenue.sum()\\\n",
    "        .sort_values(ascending = False)\n",
    "\n",
    "answers['13'] = ans13.index[0]\n",
    "\n",
    "print(\"Answer:\")\n",
    "print(answers[\"13\"])\n",
    "print(\"she/he made {}$\".format(ans13[0]))\n",
    "\n",
    "#решение не учитывает соавторство"
   ]
  },
  {
   "cell_type": "markdown",
   "metadata": {
    "colab_type": "text",
    "id": "PsYC9FgRVp_a"
   },
   "source": [
    "# 14. Какой режисер снял больше всего фильмов в стиле Action?"
   ]
  },
  {
   "cell_type": "code",
   "execution_count": 34,
   "metadata": {
    "colab": {},
    "colab_type": "code",
    "id": "wd2M-wHeVp_b"
   },
   "outputs": [
    {
     "name": "stdout",
     "output_type": "stream",
     "text": [
      "Answer:\n",
      "Robert Rodriguez\n",
      "she/he made 9 movies\n"
     ]
    }
   ],
   "source": [
    "#\"+\" верно\n",
    "data_exp = data[[\"genres\",\"director\"]]\\\n",
    "        .explode(\"genres\")\\\n",
    "        .explode(\"director\")\n",
    "\n",
    "ans14 = data_exp[data_exp.genres==\"Action\"]\\\n",
    "        .groupby(by = 'director')\\\n",
    "        .director\\\n",
    "        .agg(['count'])\\\n",
    "        .sort_values(by='count', ascending=False)\\\n",
    "        .head(10)\n",
    "\n",
    "answers['14'] = ans14.index[0]\n",
    "\n",
    "print(\"Answer:\")\n",
    "print(answers[\"14\"])\n",
    "print(\"she/he made {} movies\".format(ans14[\"count\"][0]))"
   ]
  },
  {
   "cell_type": "markdown",
   "metadata": {
    "colab_type": "text",
    "id": "PQ0KciD7Vp_f"
   },
   "source": [
    "# 15. Фильмы с каким актером принесли самые высокие кассовые сборы в 2012 году? "
   ]
  },
  {
   "cell_type": "code",
   "execution_count": 35,
   "metadata": {
    "colab": {},
    "colab_type": "code",
    "id": "aga62oeKVp_g"
   },
   "outputs": [
    {
     "name": "stdout",
     "output_type": "stream",
     "text": [
      "Answer:\n",
      "Chris Hemsworth\n",
      "movies with her/him made 2027450773$ in 2012\n"
     ]
    }
   ],
   "source": [
    "#\"+\" верно\n",
    "ans15 = data[data.release_year == 2012][['cast', 'revenue']]\\\n",
    "    .explode('cast')\\\n",
    "    .groupby(by = 'cast')\\\n",
    "    .revenue.sum()\\\n",
    "    .sort_values(ascending = False)\n",
    "\n",
    "answers['15'] = ans15.index[0]\n",
    "\n",
    "print(\"Answer:\")\n",
    "print(answers[\"15\"])\n",
    "print(\"movies with her/him made {}$ in 2012\".format(ans15[0]))"
   ]
  },
  {
   "cell_type": "markdown",
   "metadata": {
    "colab_type": "text",
    "id": "mWHyyL7QVp_j"
   },
   "source": [
    "# 16. Какой актер снялся в большем количестве высокобюджетных фильмов?"
   ]
  },
  {
   "cell_type": "code",
   "execution_count": 36,
   "metadata": {
    "colab": {},
    "colab_type": "code",
    "id": "qQtmHKTFVp_k"
   },
   "outputs": [
    {
     "name": "stdout",
     "output_type": "stream",
     "text": [
      "Answer:\n",
      "Matt Damon\n",
      "He/she starred in 18 high-budget movies.\n"
     ]
    }
   ],
   "source": [
    "# высокобюджетный понимаем, как выше среднего\n",
    "ans16 = data[data.budget > data.budget.mean()]['cast'].explode().value_counts()\n",
    "\n",
    "answers['16'] = ans16.index[0]\n",
    "\n",
    "print(\"Answer:\")\n",
    "print(answers[\"16\"])\n",
    "print(\"He/she starred in {} high-budget movies.\".format(ans16[0]))"
   ]
  },
  {
   "cell_type": "markdown",
   "metadata": {
    "colab_type": "text",
    "id": "NIh6AaW5Vp_n"
   },
   "source": [
    "# 17. В фильмах какого жанра больше всего снимался Nicolas Cage? "
   ]
  },
  {
   "cell_type": "code",
   "execution_count": 37,
   "metadata": {
    "colab": {},
    "colab_type": "code",
    "id": "H74SJDIBVp_n"
   },
   "outputs": [
    {
     "name": "stdout",
     "output_type": "stream",
     "text": [
      "Answer:\n",
      "Action\n",
      "Nicolas Cage starred in Action movies 17 times.\n"
     ]
    }
   ],
   "source": [
    "#\"+\" верно\n",
    "data_exp = data[[\"genres\", \"cast\"]].explode(\"cast\")\n",
    "\n",
    "ans17 = data_exp[data_exp.cast ==\n",
    "                 \"Nicolas Cage\"][\"genres\"].explode().value_counts()\n",
    "\n",
    "answers['17'] = ans17.index[0]\n",
    "\n",
    "print(\"Answer:\")\n",
    "print(answers[\"17\"])\n",
    "print(\"Nicolas Cage starred in {} movies {} times.\".format(\n",
    "    ans17.index[0], ans17[0]))"
   ]
  },
  {
   "cell_type": "markdown",
   "metadata": {
    "colab_type": "text",
    "id": "RqOmPRfWVp_q"
   },
   "source": [
    "# 18. Самый убыточный фильм от Paramount Pictures"
   ]
  },
  {
   "cell_type": "code",
   "execution_count": 38,
   "metadata": {
    "colab": {},
    "colab_type": "code",
    "id": "9E_B0Y96Vp_r"
   },
   "outputs": [
    {
     "name": "stdout",
     "output_type": "stream",
     "text": [
      "Answer:\n",
      "K-19: The Widowmaker\n",
      "The worst movie from Paramount Pictures is the K-19: The Widowmaker. The loss was -64831034$\n"
     ]
    }
   ],
   "source": [
    "#\"+\" верно\n",
    "data_exp = data[[\"profit\",\"production_companies\",\"original_title\"]]\\\n",
    "        .explode(\"production_companies\")\n",
    "ans18 = data_exp[data_exp.production_companies==\"Paramount Pictures\"][[\"profit\",\"original_title\"]]\\\n",
    "                .sort_values(by = \"profit\", ascending=True)\\\n",
    "                .iloc[0]\n",
    "\n",
    "answers['18'] = ans18.original_title\n",
    "\n",
    "print(\"Answer:\")\n",
    "print(answers[\"18\"])\n",
    "print(\"The worst movie from Paramount Pictures is the {}. The loss was {}$\".\n",
    "      format(ans18.original_title, ans18.profit))"
   ]
  },
  {
   "cell_type": "markdown",
   "metadata": {
    "colab_type": "text",
    "id": "vS8Ur6ddVp_u"
   },
   "source": [
    "# 19. Какой год стал самым успешным по суммарным кассовым сборам?"
   ]
  },
  {
   "cell_type": "code",
   "execution_count": 39,
   "metadata": {
    "colab": {},
    "colab_type": "code",
    "id": "Dnbt4GdIVp_v"
   },
   "outputs": [
    {
     "name": "stdout",
     "output_type": "stream",
     "text": [
      "Answer:\n",
      "2015\n",
      "The higherst annual revenue was in 2015 and it was 25449202382$\n"
     ]
    }
   ],
   "source": [
    "#\"+\" верно\n",
    "ans19 = data[[\"revenue\",\"release_year\"]]\\\n",
    "    .groupby(by = 'release_year')\\\n",
    "    .revenue.sum()\\\n",
    "    .sort_values(ascending = False)\n",
    "\n",
    "answers['19'] = ans19.index[0]\n",
    "\n",
    "print(\"Answer:\")\n",
    "print(answers[\"19\"])\n",
    "print(\"The higherst annual revenue was in {} and it was {}$\".format(\n",
    "    ans19.index[0], ans19.iloc[0]))"
   ]
  },
  {
   "cell_type": "markdown",
   "metadata": {
    "colab_type": "text",
    "id": "JAzJh4QAVp_z"
   },
   "source": [
    "# 20. Какой самый прибыльный год для студии Warner Bros?"
   ]
  },
  {
   "cell_type": "code",
   "execution_count": 40,
   "metadata": {
    "colab": {},
    "colab_type": "code",
    "id": "wgVu02DEVp_0"
   },
   "outputs": [
    {
     "name": "stdout",
     "output_type": "stream",
     "text": [
      "Answer:\n",
      "2007\n",
      "The higherst annual profit for Warner Bros. was in 2007 and it was 2167 M$\n"
     ]
    }
   ],
   "source": [
    "#\"-\" неверно\n",
    "\"\"\"\n",
    "Проблема в том, что есть много разных отделений/разных компаний:\n",
    "\"Warner Bros.\"\n",
    "\"Warner Bros. Pictures\"\n",
    "\"Warner Bros. Animation\"\n",
    "\"Warner Bros. Interactive Entertainment\"\n",
    "которые иногда даже участвуют в создании одного фильма... поэтому такой подход к решению (если нужно собрать все компании) \n",
    "будет неверным. Если же нужно найти только точные названия, то это хороший подход.\n",
    "\"\"\"\n",
    "\n",
    "data_profit = data[[\"profit\",\"release_year\",\"production_companies\"]]\\\n",
    "            .explode(\"production_companies\")\n",
    "\n",
    "ans20 = data_profit[(data_profit.production_companies==\"Warner Bros.\")]\\\n",
    "    .groupby(by = 'release_year')\\\n",
    "    .profit.sum()\\\n",
    "    .sort_values(ascending = False)\n",
    "\n",
    "answers['20_alternative'] = ans20.index[0]\n",
    "print(\"Answer:\")\n",
    "print(answers[\"20_alternative\"])\n",
    "print(\"The higherst annual profit for Warner Bros. was in {} and it was {} M$\".\n",
    "      format(ans20.index[0], round(ans20.iloc[0] // 1000000)))"
   ]
  },
  {
   "cell_type": "markdown",
   "metadata": {},
   "source": [
    "Вариант 2"
   ]
  },
  {
   "cell_type": "code",
   "execution_count": 41,
   "metadata": {},
   "outputs": [
    {
     "name": "stdout",
     "output_type": "stream",
     "text": [
      "Answer:\n",
      "2014\n",
      "The higherst annual profit for Warner Bros. was in 2014 and it was 2295 M$\n"
     ]
    }
   ],
   "source": [
    "#\"+\" верно\n",
    "\n",
    "data_profit = data_orig[[\n",
    "    \"revenue\", \"budget\", \"release_year\", \"production_companies\"\n",
    "]].copy()\n",
    "\n",
    "#data_profit_WB = data_profit[data_profit[\"production_companies\"].map(lambda x: True if 'Warner Bros' in x else False)].copy() # alternative to the next string\n",
    "data_profit_WB = data_profit[data_profit.production_companies.str.contains(\n",
    "    \"Warner Bros.\", na=False)].copy()\n",
    "\n",
    "data_profit_WB[\"profit\"] = data_profit_WB.revenue - data_profit_WB.budget\n",
    "\n",
    "ans20 = data_profit_WB\\\n",
    "    .groupby(by = 'release_year')\\\n",
    "    .profit.sum()\\\n",
    "    .sort_values(ascending = False)\n",
    "\n",
    "answers['20'] = ans20.index[0]\n",
    "\n",
    "print(\"Answer:\")\n",
    "print(answers[\"20\"])\n",
    "print(\"The higherst annual profit for Warner Bros. was in {} and it was {} M$\".\n",
    "      format(ans20.index[0], round(ans20.iloc[0] // 1000000)))"
   ]
  },
  {
   "cell_type": "markdown",
   "metadata": {
    "colab_type": "text",
    "id": "8Im1S2HRVp_4"
   },
   "source": [
    "# 21. В каком месяце за все годы суммарно вышло больше всего фильмов?"
   ]
  },
  {
   "cell_type": "code",
   "execution_count": 42,
   "metadata": {
    "colab": {},
    "colab_type": "code",
    "id": "lev6TH7gVp_4"
   },
   "outputs": [
    {
     "name": "stdout",
     "output_type": "stream",
     "text": [
      "Answer:\n",
      "September\n",
      "Most of the movie releases were in September.\n"
     ]
    }
   ],
   "source": [
    "#\"+\" верно\n",
    "\n",
    "ans21 = data[\"release_month\"]\\\n",
    "    .value_counts()\n",
    "\n",
    "answers['21'] = calendar.month_name[ans21.index[0]]\n",
    "\n",
    "print(\"Answer:\")\n",
    "print(answers[\"21\"])\n",
    "print(\"Most of the movie releases were in {}.\".format(answers['21']))"
   ]
  },
  {
   "cell_type": "markdown",
   "metadata": {
    "colab_type": "text",
    "id": "uAJsZ_NeVp_7"
   },
   "source": [
    "# 22. Сколько суммарно вышло фильмов летом? (за июнь, июль, август)"
   ]
  },
  {
   "cell_type": "code",
   "execution_count": 43,
   "metadata": {},
   "outputs": [
    {
     "name": "stdout",
     "output_type": "stream",
     "text": [
      "Answer:\n",
      "450\n",
      "In June, July and August were released 450 movies.\n"
     ]
    }
   ],
   "source": [
    "#\"+\" верно\n",
    "\n",
    "answers['22'] = len(data[(data.release_month >= 6)\n",
    "                         & (data.release_month <= 8)])\n",
    "\n",
    "print(\"Answer:\")\n",
    "print(answers[\"22\"])\n",
    "print(\"In June, July and August were released {} movies.\".format(\n",
    "    answers['22']))"
   ]
  },
  {
   "cell_type": "markdown",
   "metadata": {
    "colab_type": "text",
    "id": "G94ppOY1VqAA"
   },
   "source": [
    "# 23. Для какого режиссера зима – самое продуктивное время года? "
   ]
  },
  {
   "cell_type": "code",
   "execution_count": 44,
   "metadata": {
    "colab": {},
    "colab_type": "code",
    "id": "RhNTsamuVqAB"
   },
   "outputs": [
    {
     "name": "stdout",
     "output_type": "stream",
     "text": [
      "Answer:\n",
      "Peter Jackson\n",
      "Winter is the favorite season of Peter Jackson.\n"
     ]
    }
   ],
   "source": [
    "#\"+\" верно\n",
    "\n",
    "winter_directors = data[(data.release_month==12)|(data.release_month==1)|(data.release_month==2)]\\\n",
    "        [\"director\"]\\\n",
    "        .explode()\\\n",
    "        .value_counts()\n",
    "\n",
    "answers['23'] = winter_directors.index[0]\n",
    "\n",
    "print(\"Answer:\")\n",
    "print(answers[\"23\"])\n",
    "print(\"Winter is the favorite season of {}.\".format(answers['23']))"
   ]
  },
  {
   "cell_type": "markdown",
   "metadata": {
    "colab_type": "text",
    "id": "RBo0JVjVVqAF"
   },
   "source": [
    "# 24. Какая студия дает самые длинные названия своим фильмам по количеству символов?"
   ]
  },
  {
   "cell_type": "code",
   "execution_count": 45,
   "metadata": {
    "colab": {},
    "colab_type": "code",
    "id": "QRGS8L0iVqAG"
   },
   "outputs": [
    {
     "name": "stdout",
     "output_type": "stream",
     "text": [
      "Answer:\n",
      "Four By Two Productions\n",
      "Company Four By Two Productions gives the longerst titles that is in average 83.0 symbols.\n"
     ]
    }
   ],
   "source": [
    "#\"+\" верно\n",
    "\n",
    "data24 = data[[\"original_title\",\"production_companies\"]]\\\n",
    "        .explode(\"production_companies\")\n",
    "\n",
    "data24[\"title_length\"] = data24['original_title'].map(lambda x: len(x))\n",
    "\n",
    "ans24 = data24\\\n",
    "        .groupby(by = 'production_companies')\\\n",
    "        .title_length.mean()\\\n",
    "        .sort_values(ascending = False)\n",
    "\n",
    "answers['24'] = ans24.index[0]\n",
    "print(\"Answer:\")\n",
    "print(answers[\"24\"])\n",
    "print(\"Company {} gives the longerst titles that is in average {} symbols.\".\n",
    "      format(ans24.index[0], ans24[0]))"
   ]
  },
  {
   "cell_type": "markdown",
   "metadata": {
    "colab_type": "text",
    "id": "9G0hbvR7VqAK"
   },
   "source": [
    "# 25. Описание фильмов какой студии в среднем самые длинные по количеству слов?"
   ]
  },
  {
   "cell_type": "code",
   "execution_count": 46,
   "metadata": {
    "colab": {},
    "colab_type": "code",
    "id": "Ge2GsLNxVqAK"
   },
   "outputs": [
    {
     "name": "stdout",
     "output_type": "stream",
     "text": [
      "Answer:\n",
      "Midnight Picture Show\n",
      "Company Midnight Picture Show give in average overviews with the higherst number of words that is in average 175.0 words.\n"
     ]
    }
   ],
   "source": [
    "#\"+\" верно\n",
    "\n",
    "data25 = data[[\"overview\",\"production_companies\"]]\\\n",
    "        .explode(\"production_companies\")\n",
    "\n",
    "data25[\"overview_numwords\"] = data25['overview'].map(\n",
    "    lambda x: len(x.split(\" \")))\n",
    "\n",
    "ans25 = data25\\\n",
    "        .groupby(by = 'production_companies')\\\n",
    "        .overview_numwords.mean()\\\n",
    "        .sort_values(ascending = False)\n",
    "\n",
    "answers['25'] = ans25.index[0]\n",
    "print(\"Answer:\")\n",
    "print(answers[\"25\"])\n",
    "print(\n",
    "    \"Company {} give in average overviews with the higherst number of words that is in average {} words.\"\n",
    "    .format(ans25.index[0], ans25[0]))"
   ]
  },
  {
   "cell_type": "markdown",
   "metadata": {
    "colab_type": "text",
    "id": "FJ1AFt90VqAP"
   },
   "source": [
    "# 26. Какие фильмы входят в 1 процент лучших по рейтингу? \n",
    "по vote_average"
   ]
  },
  {
   "cell_type": "markdown",
   "metadata": {},
   "source": [
    "ВАРИАНТ 1 (по такому определению такой фильм только 1)"
   ]
  },
  {
   "cell_type": "code",
   "execution_count": 47,
   "metadata": {
    "colab": {},
    "colab_type": "code",
    "id": "8qmJVq4CVqAQ"
   },
   "outputs": [
    {
     "name": "stdout",
     "output_type": "stream",
     "text": [
      "Answer:\n",
      "The Dark Knight\n",
      "The Dark Knight is in top 1% of the imdb score.\n"
     ]
    }
   ],
   "source": [
    "#\"+\" верно\n",
    "\n",
    "data_vote_sort = data[[\"vote_average\",\"original_title\"]]\\\n",
    "                .sort_values(by=\"vote_average\",ascending = False)\n",
    "\n",
    "max_vote = data_vote_sort.vote_average.iloc[0]\n",
    "\n",
    "min_vote = data_vote_sort.vote_average.iloc[-1]\n",
    "\n",
    "ans26 = data_vote_sort[data_vote_sort.vote_average > max_vote -\n",
    "                       (max_vote - min_vote) / 100]\n",
    "\n",
    "answers['26'] = ans26.original_title.iloc[0]\n",
    "print(\"Answer:\")\n",
    "print(answers[\"26\"])\n",
    "print(\"{} is in top 1% of the imdb score.\".format(answers['26']))"
   ]
  },
  {
   "cell_type": "markdown",
   "metadata": {},
   "source": [
    "ВАРИАНТ 2 (таких фильмов много, выбор топ 1% всех фильмов)"
   ]
  },
  {
   "cell_type": "code",
   "execution_count": 48,
   "metadata": {},
   "outputs": [
    {
     "data": {
      "text/html": [
       "<div>\n",
       "<style scoped>\n",
       "    .dataframe tbody tr th:only-of-type {\n",
       "        vertical-align: middle;\n",
       "    }\n",
       "\n",
       "    .dataframe tbody tr th {\n",
       "        vertical-align: top;\n",
       "    }\n",
       "\n",
       "    .dataframe thead th {\n",
       "        text-align: right;\n",
       "    }\n",
       "</style>\n",
       "<table border=\"1\" class=\"dataframe\">\n",
       "  <thead>\n",
       "    <tr style=\"text-align: right;\">\n",
       "      <th></th>\n",
       "      <th>vote_average</th>\n",
       "      <th>original_title</th>\n",
       "    </tr>\n",
       "  </thead>\n",
       "  <tbody>\n",
       "    <tr>\n",
       "      <th>599</th>\n",
       "      <td>8.1</td>\n",
       "      <td>The Dark Knight</td>\n",
       "    </tr>\n",
       "    <tr>\n",
       "      <th>118</th>\n",
       "      <td>8.0</td>\n",
       "      <td>Interstellar</td>\n",
       "    </tr>\n",
       "    <tr>\n",
       "      <th>125</th>\n",
       "      <td>8.0</td>\n",
       "      <td>The Imitation Game</td>\n",
       "    </tr>\n",
       "    <tr>\n",
       "      <th>9</th>\n",
       "      <td>8.0</td>\n",
       "      <td>Inside Out</td>\n",
       "    </tr>\n",
       "    <tr>\n",
       "      <th>34</th>\n",
       "      <td>8.0</td>\n",
       "      <td>Room</td>\n",
       "    </tr>\n",
       "    <tr>\n",
       "      <th>1183</th>\n",
       "      <td>7.9</td>\n",
       "      <td>The Wolf of Wall Street</td>\n",
       "    </tr>\n",
       "    <tr>\n",
       "      <th>128</th>\n",
       "      <td>7.9</td>\n",
       "      <td>Gone Girl</td>\n",
       "    </tr>\n",
       "    <tr>\n",
       "      <th>1191</th>\n",
       "      <td>7.9</td>\n",
       "      <td>12 Years a Slave</td>\n",
       "    </tr>\n",
       "    <tr>\n",
       "      <th>119</th>\n",
       "      <td>7.9</td>\n",
       "      <td>Guardians of the Galaxy</td>\n",
       "    </tr>\n",
       "    <tr>\n",
       "      <th>1081</th>\n",
       "      <td>7.9</td>\n",
       "      <td>The Lord of the Rings: The Return of the King</td>\n",
       "    </tr>\n",
       "    <tr>\n",
       "      <th>1800</th>\n",
       "      <td>7.9</td>\n",
       "      <td>Memento</td>\n",
       "    </tr>\n",
       "    <tr>\n",
       "      <th>370</th>\n",
       "      <td>7.9</td>\n",
       "      <td>Inception</td>\n",
       "    </tr>\n",
       "    <tr>\n",
       "      <th>872</th>\n",
       "      <td>7.9</td>\n",
       "      <td>The Pianist</td>\n",
       "    </tr>\n",
       "    <tr>\n",
       "      <th>138</th>\n",
       "      <td>7.9</td>\n",
       "      <td>The Grand Budapest Hotel</td>\n",
       "    </tr>\n",
       "    <tr>\n",
       "      <th>1188</th>\n",
       "      <td>7.8</td>\n",
       "      <td>Her</td>\n",
       "    </tr>\n",
       "    <tr>\n",
       "      <th>28</th>\n",
       "      <td>7.8</td>\n",
       "      <td>Spotlight</td>\n",
       "    </tr>\n",
       "    <tr>\n",
       "      <th>124</th>\n",
       "      <td>7.8</td>\n",
       "      <td>Big Hero 6</td>\n",
       "    </tr>\n",
       "    <tr>\n",
       "      <th>177</th>\n",
       "      <td>7.8</td>\n",
       "      <td>The Fault in Our Stars</td>\n",
       "    </tr>\n",
       "  </tbody>\n",
       "</table>\n",
       "</div>"
      ],
      "text/plain": [
       "      vote_average                                 original_title\n",
       "599            8.1                                The Dark Knight\n",
       "118            8.0                                   Interstellar\n",
       "125            8.0                             The Imitation Game\n",
       "9              8.0                                     Inside Out\n",
       "34             8.0                                           Room\n",
       "1183           7.9                        The Wolf of Wall Street\n",
       "128            7.9                                      Gone Girl\n",
       "1191           7.9                               12 Years a Slave\n",
       "119            7.9                        Guardians of the Galaxy\n",
       "1081           7.9  The Lord of the Rings: The Return of the King\n",
       "1800           7.9                                        Memento\n",
       "370            7.9                                      Inception\n",
       "872            7.9                                    The Pianist\n",
       "138            7.9                       The Grand Budapest Hotel\n",
       "1188           7.8                                            Her\n",
       "28             7.8                                      Spotlight\n",
       "124            7.8                                     Big Hero 6\n",
       "177            7.8                         The Fault in Our Stars"
      ]
     },
     "metadata": {},
     "output_type": "display_data"
    }
   ],
   "source": [
    "#\"+\" верно\n",
    "\n",
    "ans26 = data[[\"vote_average\",\"original_title\"]]\\\n",
    "        .sort_values(by=\"vote_average\",ascending = False)\\\n",
    "        .head(len(data)//100)\n",
    "\n",
    "display(ans26)\n",
    "\n",
    "answers['26'] = \"Inside Out, The Dark Knight, 12 Years a Slave\""
   ]
  },
  {
   "cell_type": "markdown",
   "metadata": {
    "colab_type": "text",
    "id": "MdXsUXbCVqAV"
   },
   "source": [
    "# 27. Какие актеры чаще всего снимаются в одном фильме вместе?\n"
   ]
  },
  {
   "cell_type": "markdown",
   "metadata": {},
   "source": [
    "ВАРИАНТ 1 (не оптимальное решение)"
   ]
  },
  {
   "cell_type": "code",
   "execution_count": 49,
   "metadata": {},
   "outputs": [
    {
     "data": {
      "text/plain": [
       "'one actor from a pair and how often are they together'"
      ]
     },
     "metadata": {},
     "output_type": "display_data"
    },
    {
     "data": {
      "text/plain": [
       "cast\n",
       "Rupert Grint        8\n",
       "Daniel Radcliffe    8\n",
       "Emma Watson         8\n",
       "Johnny Depp         6\n",
       "Owen Wilson         6\n",
       "dtype: int64"
      ]
     },
     "metadata": {},
     "output_type": "display_data"
    },
    {
     "data": {
      "text/plain": [
       "'check Rupert Grint favourite partners'"
      ]
     },
     "metadata": {},
     "output_type": "display_data"
    },
    {
     "name": "stdout",
     "output_type": "stream",
     "text": [
      "Answer:\n",
      "Rupert Grint, Daniel Radcliffe, Emma Watson\n",
      "\n",
      "Rupert Grint, Daniel Radcliffe, Emma Watson are 8 times together.\n"
     ]
    }
   ],
   "source": [
    "#\"+\" верно\n",
    "\n",
    "data_cast = data[[\"cast\"]].copy()\n",
    "data_cast[\"cast2\"] = data[\"cast\"]\n",
    "data_cast[\"times_together\"] = 1\n",
    "\n",
    "data27 = data_cast.explode(\"cast\").explode(\"cast2\")\n",
    "\n",
    "data27 = data27.loc[data27[\"cast\"] != data27[\"cast2\"]]\n",
    "\n",
    "pivot = data27.pivot_table(values=['times_together'],\n",
    "                           index=['cast2'],\n",
    "                           columns=['cast'],\n",
    "                           aggfunc='sum',\n",
    "                           fill_value=0)\n",
    "\n",
    "pivot2 = pivot['times_together']\\\n",
    "        .max()\\\n",
    "        .sort_values(ascending=False)\n",
    "\n",
    "display(\"one actor from a pair and how often are they together\")\n",
    "display(pivot2.head(5))\n",
    "\n",
    "display(\"check Rupert Grint favourite partners\")\n",
    "pivot.loc[\"Rupert Grint\"].sort_values(ascending=False).head(3)\n",
    "\n",
    "answers[\n",
    "    '27'] = pivot2.index[0] + \", \" + pivot2.index[1] + \", \" + pivot2.index[2]\n",
    "print(\"Answer:\")\n",
    "print(answers[\"27\"])\n",
    "print(\"\\n{} are {} times together.\".format(answers['27'], pivot2.iloc[0]))"
   ]
  },
  {
   "cell_type": "markdown",
   "metadata": {},
   "source": [
    "ВАРИАНТ 2"
   ]
  },
  {
   "cell_type": "code",
   "execution_count": 50,
   "metadata": {},
   "outputs": [
    {
     "name": "stdout",
     "output_type": "stream",
     "text": [
      "Answer:\n",
      "Daniel Radcliffe Emma Watson, Emma Watson Rupert Grint, Daniel Radcliffe Rupert Grint\n",
      "There are 3 couples that are often together. \n",
      "They are Daniel Radcliffe Emma Watson, Emma Watson Rupert Grint, Daniel Radcliffe Rupert Grint\n"
     ]
    }
   ],
   "source": [
    "#\"+\" верно\n",
    "actor_list = data.cast.copy()\n",
    "combo_list = []\n",
    "\n",
    "for i in actor_list:\n",
    "    for j in combinations(i, 2):\n",
    "        combo_list.append(' '.join(sorted(j)))\n",
    "combo_list = pd.DataFrame(combo_list)\n",
    "combo_list.columns = ['actor_combinations']\n",
    "\n",
    "ans27=combo_list.actor_combinations\\\n",
    "                    .value_counts()\\\n",
    "                    .head(5)\n",
    "\n",
    "answers['27'] = ans27.index[0] + \", \" + ans27.index[1] + \", \" + ans27.index[2]\n",
    "print(\"Answer:\")\n",
    "print(answers[\"27\"])\n",
    "print(\"There are 3 couples that are often together. \\nThey are {}\".format(\n",
    "    answers['27']))"
   ]
  },
  {
   "cell_type": "markdown",
   "metadata": {
    "colab_type": "text",
    "id": "U0nONFnGVqAX"
   },
   "source": [
    "# Submission"
   ]
  },
  {
   "cell_type": "code",
   "execution_count": 51,
   "metadata": {
    "colab": {},
    "colab_type": "code",
    "id": "IfcaRO9-VqAX",
    "outputId": "0f132912-32bb-4196-c98c-abfbc4ad5a5f"
   },
   "outputs": [
    {
     "data": {
      "text/plain": [
       "{'1': 'Pirates of the Caribbean: On Stranger Tides (tt1298650)',\n",
       " '2': 'Gods and Generals (tt0279111)',\n",
       " '3': 'Winnie the Pooh (tt1449283)',\n",
       " '4': 110.0,\n",
       " '5': 107,\n",
       " '6': 'Avatar (tt0499549)',\n",
       " '7': 'The Lone Ranger (tt1210819)',\n",
       " '8': 1478,\n",
       " '9': 'The Dark Knight (tt0468569)',\n",
       " '10': 'The Lone Ranger (tt1210819)',\n",
       " '11': 'Drama',\n",
       " '12': 'Drama',\n",
       " '12_alternative': 'Documentary',\n",
       " '13': 'Peter Jackson',\n",
       " '14': 'Robert Rodriguez',\n",
       " '15': 'Chris Hemsworth',\n",
       " '16': 'Matt Damon',\n",
       " '17': 'Action',\n",
       " '18': 'K-19: The Widowmaker',\n",
       " '19': 2015,\n",
       " '20_alternative': 2007,\n",
       " '20': 2014,\n",
       " '21': 'September',\n",
       " '22': 450,\n",
       " '23': 'Peter Jackson',\n",
       " '24': 'Four By Two Productions',\n",
       " '25': 'Midnight Picture Show',\n",
       " '26': 'Inside Out, The Dark Knight, 12 Years a Slave',\n",
       " '27': 'Daniel Radcliffe Emma Watson, Emma Watson Rupert Grint, Daniel Radcliffe Rupert Grint'}"
      ]
     },
     "execution_count": 51,
     "metadata": {},
     "output_type": "execute_result"
    }
   ],
   "source": [
    "# в конце можно посмотреть свои ответы к каждому вопросу\n",
    "answers"
   ]
  },
  {
   "cell_type": "code",
   "execution_count": 52,
   "metadata": {
    "colab": {},
    "colab_type": "code",
    "id": "SiRmHPl8VqAd"
   },
   "outputs": [
    {
     "data": {
      "text/plain": [
       "29"
      ]
     },
     "execution_count": 52,
     "metadata": {},
     "output_type": "execute_result"
    }
   ],
   "source": [
    "# и убедиться что ни чего не пропустил)\n",
    "# есть дополнительный альтернативный ответ на вопрос 12 и 20\n",
    "len(answers)"
   ]
  }
 ],
 "metadata": {
  "colab": {
   "name": "Copy of [SF-DST] Movies IMBD v4.1 TEMPLATE.ipynb",
   "provenance": []
  },
  "kernelspec": {
   "display_name": "Python 3",
   "language": "python",
   "name": "python3"
  },
  "language_info": {
   "codemirror_mode": {
    "name": "ipython",
    "version": 3
   },
   "file_extension": ".py",
   "mimetype": "text/x-python",
   "name": "python",
   "nbconvert_exporter": "python",
   "pygments_lexer": "ipython3",
   "version": "3.7.6"
  },
  "toc": {
   "base_numbering": 1,
   "nav_menu": {},
   "number_sections": true,
   "sideBar": true,
   "skip_h1_title": false,
   "title_cell": "Table of Contents",
   "title_sidebar": "Contents",
   "toc_cell": false,
   "toc_position": {},
   "toc_section_display": true,
   "toc_window_display": false
  },
  "varInspector": {
   "cols": {
    "lenName": 16,
    "lenType": 16,
    "lenVar": 40
   },
   "kernels_config": {
    "python": {
     "delete_cmd_postfix": "",
     "delete_cmd_prefix": "del ",
     "library": "var_list.py",
     "varRefreshCmd": "print(var_dic_list())"
    },
    "r": {
     "delete_cmd_postfix": ") ",
     "delete_cmd_prefix": "rm(",
     "library": "var_list.r",
     "varRefreshCmd": "cat(var_dic_list()) "
    }
   },
   "types_to_exclude": [
    "module",
    "function",
    "builtin_function_or_method",
    "instance",
    "_Feature"
   ],
   "window_display": false
  }
 },
 "nbformat": 4,
 "nbformat_minor": 1
}
