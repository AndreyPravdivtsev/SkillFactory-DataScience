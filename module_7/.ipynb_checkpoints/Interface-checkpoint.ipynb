{
 "cells": [
  {
   "cell_type": "code",
   "execution_count": 36,
   "id": "ff692162",
   "metadata": {},
   "outputs": [
    {
     "name": "stderr",
     "output_type": "stream",
     "text": [
      "2021-06-29 20:45:56.117 INFO    nmslib: M                   = 16\n",
      "2021-06-29 20:45:56.120 INFO    nmslib: indexThreadQty      = 8\n",
      "2021-06-29 20:45:56.121 INFO    nmslib: efConstruction      = 200\n",
      "2021-06-29 20:45:56.123 INFO    nmslib: maxM\t\t\t          = 16\n",
      "2021-06-29 20:45:56.124 INFO    nmslib: maxM0\t\t\t          = 32\n",
      "2021-06-29 20:45:56.124 INFO    nmslib: mult                = 0.360674\n",
      "2021-06-29 20:45:56.127 INFO    nmslib: skip_optimized_index= 0\n",
      "2021-06-29 20:45:56.129 INFO    nmslib: delaunay_type       = 2\n",
      "2021-06-29 20:45:56.130 INFO    nmslib: Set HNSW query-time parameters:\n",
      "2021-06-29 20:45:56.132 INFO    nmslib: ef(Search)         =20\n",
      "2021-06-29 20:45:56.135 INFO    nmslib: algoType           =2\n",
      "2021-06-29 20:45:56.553 INFO    nmslib: \n",
      "The vector space is CosineSimilarity\n",
      "2021-06-29 20:45:56.554 INFO    nmslib: Vector length=30\n",
      "2021-06-29 20:45:56.555 INFO    nmslib: searchMethod\t\t\t  = 3\n",
      "2021-06-29 20:45:56.557 INFO    nmslib: Making optimized index\n",
      "2021-06-29 20:45:56.567 INFO    nmslib: Finished making optimized index\n",
      "2021-06-29 20:45:56.569 INFO    nmslib: Maximum level = 3\n",
      "2021-06-29 20:45:56.571 INFO    nmslib: Total memory allocated for optimized index+data: 2 Mb\n"
     ]
    }
   ],
   "source": [
    "import streamlit as st\n",
    "import numpy as np\n",
    "import pandas as pd\n",
    "import lightfm as lf\n",
    "import nmslib\n",
    "import pickle\n",
    "import scipy.sparse as sparse\n",
    "\n",
    "def nearest_books_nms(book_id, index, n=10):\n",
    "    \"\"\"Функция для поиска ближайших соседей, возвращает построенный индекс\"\"\"\n",
    "    nn = index.knnQuery(item_embeddings[book_id], k=n)\n",
    "    return nn\n",
    "\n",
    "def get_names(index):\n",
    "    \"\"\"\n",
    "    input - idx of books\n",
    "    Функция для возвращения имени книг\n",
    "    return - list of names\n",
    "    \"\"\"\n",
    "    names = []\n",
    "    for idx in index:\n",
    "        names.append('Book name:  {} '.format(\n",
    "            name_mapper[idx]) + '  Book Author: {}'.format(author_mapper[idx]))\n",
    "    return names\n",
    "\n",
    "def read_files(folder_name='data'):\n",
    "    \"\"\"\n",
    "    Функция для чтения файлов + преобразование к  нижнему регистру\n",
    "    \"\"\"\n",
    "    ratings = pd.read_csv(folder_name+'/ratings.csv')\n",
    "    books = pd.read_csv(folder_name+'/books.csv')\n",
    "    books['title'] = books.title.str.lower()\n",
    "    return ratings, books \n",
    "\n",
    "def make_mappers():\n",
    "    \"\"\"\n",
    "    Функция для создания отображения id в title\n",
    "    \"\"\"\n",
    "    #print(books.columns)\n",
    "    \n",
    "    name_mapper = dict(zip(books.book_id, books.title))\n",
    "    author_mapper = dict(zip(books.book_id, books.authors))\n",
    "\n",
    "    return name_mapper, author_mapper\n",
    "\n",
    "def load_embeddings():\n",
    "    \"\"\"\n",
    "    Функция для загрузки векторных представлений\n",
    "    \"\"\"\n",
    "    with open('item_embeddings.pickle', 'rb') as f:\n",
    "        item_embeddings = pickle.load(f)\n",
    "\n",
    "    # Тут мы используем nmslib, чтобы создать наш быстрый knn\n",
    "    nms_idx = nmslib.init(method='hnsw', space='cosinesimil')\n",
    "    nms_idx.addDataPointBatch(item_embeddings)\n",
    "    nms_idx.createIndex(print_progress=True)\n",
    "    return item_embeddings,nms_idx\n",
    "\n",
    "#Загружаем данные\n",
    "ratings, books  = read_files(folder_name='data') \n",
    "name_mapper, author_mapper = make_mappers()\n",
    "item_embeddings,nms_idx = load_embeddings()"
   ]
  },
  {
   "cell_type": "code",
   "execution_count": 33,
   "id": "6f823297",
   "metadata": {},
   "outputs": [],
   "source": [
    "# ! pip install streamlit"
   ]
  },
  {
   "cell_type": "code",
   "execution_count": null,
   "id": "a9edbea6",
   "metadata": {},
   "outputs": [],
   "source": [
    "! streamlit run first.py"
   ]
  },
  {
   "cell_type": "code",
   "execution_count": null,
   "id": "cb058bb7",
   "metadata": {},
   "outputs": [],
   "source": []
  }
 ],
 "metadata": {
  "kernelspec": {
   "display_name": "Python 3",
   "language": "python",
   "name": "python3"
  },
  "language_info": {
   "codemirror_mode": {
    "name": "ipython",
    "version": 3
   },
   "file_extension": ".py",
   "mimetype": "text/x-python",
   "name": "python",
   "nbconvert_exporter": "python",
   "pygments_lexer": "ipython3",
   "version": "3.8.8"
  }
 },
 "nbformat": 4,
 "nbformat_minor": 5
}
