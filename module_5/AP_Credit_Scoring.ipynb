{
 "cells": [
  {
   "cell_type": "markdown",
   "metadata": {},
   "source": [
    "# Резултаты (что было проделано)\n",
    "1. В данных нет пропусков практически, только в категории образование. Тестирование показало, что лучше всего пропуски заменить на SCH, чем добавлять новую категорию (без обр). \n",
    "2. Данные по дате регистрации заявки на получение кредита были переведены в численные значения (в единицах \"день\"). \n",
    "3. Все численные параметры были до полинома 2й степени перемножены и добавлены в рассмотрение.  \n",
    "4. Были попытки добавления полиномов более высокого порядка, но значительных преимуществ это не принесло.\n",
    "5. Все численные переменные были логорифмированы, что сделало их распределение более нормальным и улучшело предсказание.\n",
    "6. В некоторых данных есть выбросы (например, очень высокие доходы), но с ними решено было ничего не делать. \n",
    "7. Сравнивал оптимизацию гиперпараметров (2 массива гиперпараметров сравнивались отдельно) оптимизирую f1 и roc_auc. f1 дает более высокую прибыль (см. далее), а roc_auc повышает скоринг (этот параметр сравнивается в лидерборде).\n",
    "8. roc_auc, confusion_matrix и public leader board scoring, а также короткое описание изменений написаны в df=results в конце документа. Там видно, что если гиперпараметры не оптимизировать, или оптимизировать для roc_auc, то f1 будет низким, также как и предполагаемая выручка компании. Это происходит из-за большого колличества ложно-отрицательных предсказаний (выдача заведомо дефолтных-кредитов).\n",
    "9. Вывод, roc_auc хороший параметр, но f1 лучше отображает потребности компании, а лучше ввести функцию типа profit.\n",
    "10. Пробовал разные типы разбиения данных: train_test_split, KFold, StratifiedShuffleSplit, они все показывали похожие на train_test_split метрики. \n",
    "11. Лучший результат на Kaggle LeaderBoard от 20210211, 9 место Andrey Pravdivtsev скоринг 0.73850.\n",
    "\n",
    "\n",
    "# Что еще можно было бы сделать?\n",
    "1. Добавить например обратные величины от численных,  например 1/days, и создать на их освное другие переменные.\n",
    "2. Протестировать вклад от устранения выбросов в данных. \n",
    "3. Попробовать oversampling/undersampling.\n",
    "4. Другие модели, отличные от LogisticRegression\n",
    "5. Более аккуратно переписать ноутбук для публикации, возможно с добавление классов. \n",
    "\n",
    "\n"
   ]
  },
  {
   "cell_type": "code",
   "execution_count": 84,
   "metadata": {
    "_cell_guid": "b1076dfc-b9ad-4769-8c92-a6c4dae69d19",
    "_uuid": "8f2839f25d086af736a60e9eeb907d3b93b6e0e5"
   },
   "outputs": [],
   "source": [
    "import numpy as np\n",
    "import pandas as pd\n",
    "import matplotlib.pyplot as plt\n",
    "import seaborn as sns\n",
    "import os\n",
    "from statsmodels.graphics.mosaicplot import mosaic\n",
    "from sklearn.feature_selection import f_classif\n",
    "from sklearn.model_selection import train_test_split\n",
    "from sklearn.linear_model import LogisticRegression\n",
    "from sklearn.metrics import plot_confusion_matrix\n",
    "from sklearn.metrics import confusion_matrix\n",
    "from sklearn.preprocessing import LabelEncoder, OrdinalEncoder\n",
    "from sklearn.metrics import roc_curve, roc_auc_score\n",
    "from sklearn.preprocessing import OneHotEncoder, StandardScaler\n",
    "from sklearn.feature_selection import mutual_info_classif\n",
    "import itertools\n",
    "from sklearn.model_selection import GridSearchCV\n",
    "from sklearn.model_selection import StratifiedShuffleSplit\n",
    "from sklearn.model_selection import KFold\n",
    "from sklearn.preprocessing import PolynomialFeatures\n",
    "import json\n",
    "opt=False\n",
    "# baseline составлен из SF Scoring Model и выполнения задания на курсе"
   ]
  },
  {
   "cell_type": "markdown",
   "metadata": {
    "_cell_guid": "79c7e3d0-c299-4dcb-8224-4455121ee9b0",
    "_uuid": "d629ff2d2480ee46fbb7e2d37f6b5fab8052498a",
    "collapsed": true
   },
   "source": [
    "Информация из анкетных данных заемщиков (train.csv and test.csv):\n",
    "\n",
    "* client_id - идентификатор клиента,\n",
    "* education - уровень образования,\n",
    "* sex - пол заемщика,\n",
    "* age - возраст заемщика,\n",
    "* car - флаг наличия автомобиля,\n",
    "* car_type - флаг автомобиля иномарки,\n",
    "* decline_app_cnt - количество отказанных прошлых заявок,\n",
    "* good_work - флаг наличия \"хорошей\" работы,\n",
    "* bki_request_cnt - количество запросов в БКИ,\n",
    "* home_address - категоризатор домашнего адреса,\n",
    "* work_address - категоризатор рабочего адреса,\n",
    "* income - доход заемщика,\n",
    "* foreign_passport - наличие загранпаспорта,\n",
    "* sna - связь заемщика с клиентами банка,\n",
    "* first_time - давность наличия информации о заемщике,\n",
    "* score_bki - скоринговый балл по данным из БКИ,\n",
    "* region_rating - рейтинг региона,\n",
    "* app_date - дата подачи заявки,\n",
    "* default - флаг дефолта по кредиту."
   ]
  },
  {
   "cell_type": "markdown",
   "metadata": {},
   "source": [
    "# Все функции"
   ]
  },
  {
   "cell_type": "code",
   "execution_count": 39,
   "metadata": {},
   "outputs": [],
   "source": [
    "def plot_cmatrix(model, X, y, title=None, **kwargs):\n",
    "    disp = plot_confusion_matrix(model, X_test, y_test, **kwargs)\n",
    "    disp.ax_.set_ylabel('Истинный класс')\n",
    "    disp.ax_.set_xlabel('Предсказанный класс')\n",
    "    if title:\n",
    "        disp.ax_.set_title(title)\n",
    "        \n",
    "def plot_grid(nplots, max_cols=2, figsize=(800/72, 600/72)):\n",
    "    ncols = min(nplots, max_cols)\n",
    "    nrows = (nplots // ncols) + min(1, (nplots % ncols))\n",
    "    fig, axs = plt.subplots(ncols=ncols, nrows=nrows, figsize=figsize, constrained_layout=True)\n",
    "    if nrows == 1:\n",
    "        return axs\n",
    "    return [axs[index // ncols, index % ncols] for index in range(nplots)]\n",
    "\n",
    "def plot_correlation_matrix(corr, annot=False):\n",
    "    mask = np.triu(np.ones_like(corr, dtype=np.bool))\n",
    "    cmap=sns.diverging_palette(220, 20, as_cmap=True)\n",
    "    sns.heatmap(corr, annot=annot, fmt='.2f', mask=mask,\n",
    "                cmap=cmap, vmax=1, vmin=-1, square=True, \n",
    "                linewidths=.5, cbar_kws={\"shrink\": .5})\n",
    "    \n",
    "def prepare_space(df, num_features, bin_features, cat_features, target):\n",
    "    X_num = StandardScaler().fit_transform(df[num_features].values)\n",
    "    X_bin = df[bin_features].values\n",
    "    X_cat = OneHotEncoder(sparse=False).fit_transform(df[cat_features].values)\n",
    "    X = np.hstack([X_num, X_bin, X_cat])\n",
    "    Y = df[target].values\n",
    "    return X, Y\n",
    "\n",
    "def plot_roc_curve(y_true, y_score):\n",
    "    fpr, tpr, _ = roc_curve(y_true, y_score)\n",
    "    auc = roc_auc_score(y_true, y_score)\n",
    "\n",
    "    plt.figure()\n",
    "    plt.plot(fpr, tpr, color='darkorange', lw=2, label='ROC curve (area = %0.4f)' % auc)\n",
    "    plt.plot([0, 1], [0, 1], color='navy', lw=2, linestyle='--')\n",
    "    plt.xlabel('False Positive Rate')\n",
    "    plt.ylabel('True Positive Rate')\n",
    "    plt.title('Receiver operating characteristic')\n",
    "    plt.legend(loc=\"lower right\")\n",
    "    plt.show()\n",
    "    \n",
    "def test_model_roc_cm(X_test,y_test):\n",
    "    proba = model.predict_proba(X_test)[:, 1]\n",
    "    plot_roc_curve(y_test, proba)\n",
    "\n",
    "    axs = plot_grid(2, figsize=(800/72, 300/72))\n",
    "    plot_cmatrix(model, X_test, y_test, title='Абсолютные значения', display_labels=['0', '1'], ax=axs[0]);\n",
    "    plot_cmatrix(model, X_test, y_test, title='Нормализованные значения', \n",
    "                 normalize='pred', display_labels=['0', '1'], ax=axs[1]);\n",
    "    \n",
    "    \n",
    "def hyper_estimator(X_train,y_train,fit=\"f1\"):\n",
    "    estimator = LogisticRegression(random_state=RANDOM_SEED, max_iter=200)\n",
    "\n",
    "    param_grid = [\n",
    "        {\n",
    "            'penalty': ['l1'],\n",
    "            'solver': ['liblinear', 'saga'],\n",
    "            'class_weight':['none', 'balanced'], \n",
    "            'multi_class': ['auto','ovr'],\n",
    "        },\n",
    "        {\n",
    "            'penalty': ['l2'],\n",
    "            'solver': ['newton-cg', 'lbfgs', 'liblinear', 'sag', 'saga'],\n",
    "            'class_weight':['none', 'balanced'], \n",
    "            'multi_class': ['auto','ovr'],\n",
    "        },\n",
    "        {\n",
    "            'penalty': ['elasticnet'],\n",
    "            'solver': ['saga'],\n",
    "            'class_weight':['none', 'balanced'], \n",
    "            'multi_class': ['auto','ovr'],\n",
    "        },\n",
    "        {\n",
    "            'penalty': ['none'],\n",
    "            'solver': ['newton-cg', 'lbfgs', 'sag', 'saga'],\n",
    "            'class_weight':['none', 'balanced'], \n",
    "            'multi_class': ['auto','ovr'],\n",
    "        },\n",
    "    ]\n",
    "\n",
    "    gs = GridSearchCV(estimator, param_grid, n_jobs=-1, scoring=fit, cv=5).fit(X_train, y_train)\n",
    "    return gs"
   ]
  },
  {
   "cell_type": "markdown",
   "metadata": {},
   "source": [
    "# Считываем данные"
   ]
  },
  {
   "cell_type": "code",
   "execution_count": 40,
   "metadata": {},
   "outputs": [
    {
     "data": {
      "text/html": [
       "<div>\n",
       "<style scoped>\n",
       "    .dataframe tbody tr th:only-of-type {\n",
       "        vertical-align: middle;\n",
       "    }\n",
       "\n",
       "    .dataframe tbody tr th {\n",
       "        vertical-align: top;\n",
       "    }\n",
       "\n",
       "    .dataframe thead th {\n",
       "        text-align: right;\n",
       "    }\n",
       "</style>\n",
       "<table border=\"1\" class=\"dataframe\">\n",
       "  <thead>\n",
       "    <tr style=\"text-align: right;\">\n",
       "      <th></th>\n",
       "      <th>nunique</th>\n",
       "      <th>&lt;lambda&gt;</th>\n",
       "      <th>null</th>\n",
       "      <th>dtype</th>\n",
       "    </tr>\n",
       "  </thead>\n",
       "  <tbody>\n",
       "    <tr>\n",
       "      <th>_test</th>\n",
       "      <td>2</td>\n",
       "      <td>[False, True]</td>\n",
       "      <td>0</td>\n",
       "      <td>bool</td>\n",
       "    </tr>\n",
       "    <tr>\n",
       "      <th>client_id</th>\n",
       "      <td>110148</td>\n",
       "      <td>[25905, 63161, 25887, 16222, 101655, 41415, 28...</td>\n",
       "      <td>0</td>\n",
       "      <td>int64</td>\n",
       "    </tr>\n",
       "    <tr>\n",
       "      <th>app_date</th>\n",
       "      <td>120</td>\n",
       "      <td>[01FEB2014, 12MAR2014, 23JAN2014, 18APR2014, 1...</td>\n",
       "      <td>0</td>\n",
       "      <td>object</td>\n",
       "    </tr>\n",
       "    <tr>\n",
       "      <th>education</th>\n",
       "      <td>5</td>\n",
       "      <td>[SCH, GRD, UGR, PGR, ACD, nan]</td>\n",
       "      <td>478</td>\n",
       "      <td>object</td>\n",
       "    </tr>\n",
       "    <tr>\n",
       "      <th>sex</th>\n",
       "      <td>2</td>\n",
       "      <td>[M, F]</td>\n",
       "      <td>0</td>\n",
       "      <td>object</td>\n",
       "    </tr>\n",
       "    <tr>\n",
       "      <th>age</th>\n",
       "      <td>52</td>\n",
       "      <td>[62, 59, 25, 53, 48, 27, 39, 50, 54, 29]</td>\n",
       "      <td>0</td>\n",
       "      <td>int64</td>\n",
       "    </tr>\n",
       "    <tr>\n",
       "      <th>car</th>\n",
       "      <td>2</td>\n",
       "      <td>[Y, N]</td>\n",
       "      <td>0</td>\n",
       "      <td>object</td>\n",
       "    </tr>\n",
       "    <tr>\n",
       "      <th>car_type</th>\n",
       "      <td>2</td>\n",
       "      <td>[Y, N]</td>\n",
       "      <td>0</td>\n",
       "      <td>object</td>\n",
       "    </tr>\n",
       "    <tr>\n",
       "      <th>decline_app_cnt</th>\n",
       "      <td>24</td>\n",
       "      <td>[0, 2, 1, 3, 4, 6, 5, 7, 8, 9]</td>\n",
       "      <td>0</td>\n",
       "      <td>int64</td>\n",
       "    </tr>\n",
       "    <tr>\n",
       "      <th>good_work</th>\n",
       "      <td>2</td>\n",
       "      <td>[0, 1]</td>\n",
       "      <td>0</td>\n",
       "      <td>int64</td>\n",
       "    </tr>\n",
       "    <tr>\n",
       "      <th>score_bki</th>\n",
       "      <td>102618</td>\n",
       "      <td>[-2.00875292, -1.53227621, -1.40814226, -2.057...</td>\n",
       "      <td>0</td>\n",
       "      <td>float64</td>\n",
       "    </tr>\n",
       "    <tr>\n",
       "      <th>bki_request_cnt</th>\n",
       "      <td>40</td>\n",
       "      <td>[1, 3, 2, 0, 4, 7, 5, 8, 6, 13]</td>\n",
       "      <td>0</td>\n",
       "      <td>int64</td>\n",
       "    </tr>\n",
       "    <tr>\n",
       "      <th>region_rating</th>\n",
       "      <td>7</td>\n",
       "      <td>[50, 80, 60, 40, 70, 20, 30]</td>\n",
       "      <td>0</td>\n",
       "      <td>int64</td>\n",
       "    </tr>\n",
       "    <tr>\n",
       "      <th>home_address</th>\n",
       "      <td>3</td>\n",
       "      <td>[1, 2, 3]</td>\n",
       "      <td>0</td>\n",
       "      <td>int64</td>\n",
       "    </tr>\n",
       "    <tr>\n",
       "      <th>work_address</th>\n",
       "      <td>3</td>\n",
       "      <td>[2, 3, 1]</td>\n",
       "      <td>0</td>\n",
       "      <td>int64</td>\n",
       "    </tr>\n",
       "    <tr>\n",
       "      <th>income</th>\n",
       "      <td>1207</td>\n",
       "      <td>[18000, 19000, 30000, 10000, 15000, 28000, 450...</td>\n",
       "      <td>0</td>\n",
       "      <td>int64</td>\n",
       "    </tr>\n",
       "    <tr>\n",
       "      <th>sna</th>\n",
       "      <td>4</td>\n",
       "      <td>[4, 1, 2, 3]</td>\n",
       "      <td>0</td>\n",
       "      <td>int64</td>\n",
       "    </tr>\n",
       "    <tr>\n",
       "      <th>first_time</th>\n",
       "      <td>4</td>\n",
       "      <td>[1, 4, 3, 2]</td>\n",
       "      <td>0</td>\n",
       "      <td>int64</td>\n",
       "    </tr>\n",
       "    <tr>\n",
       "      <th>foreign_passport</th>\n",
       "      <td>2</td>\n",
       "      <td>[N, Y]</td>\n",
       "      <td>0</td>\n",
       "      <td>object</td>\n",
       "    </tr>\n",
       "    <tr>\n",
       "      <th>default</th>\n",
       "      <td>2</td>\n",
       "      <td>[0.0, 1.0, nan]</td>\n",
       "      <td>36349</td>\n",
       "      <td>float64</td>\n",
       "    </tr>\n",
       "  </tbody>\n",
       "</table>\n",
       "</div>"
      ],
      "text/plain": [
       "                 nunique                                           <lambda>  \\\n",
       "_test                  2                                      [False, True]   \n",
       "client_id         110148  [25905, 63161, 25887, 16222, 101655, 41415, 28...   \n",
       "app_date             120  [01FEB2014, 12MAR2014, 23JAN2014, 18APR2014, 1...   \n",
       "education              5                     [SCH, GRD, UGR, PGR, ACD, nan]   \n",
       "sex                    2                                             [M, F]   \n",
       "age                   52           [62, 59, 25, 53, 48, 27, 39, 50, 54, 29]   \n",
       "car                    2                                             [Y, N]   \n",
       "car_type               2                                             [Y, N]   \n",
       "decline_app_cnt       24                     [0, 2, 1, 3, 4, 6, 5, 7, 8, 9]   \n",
       "good_work              2                                             [0, 1]   \n",
       "score_bki         102618  [-2.00875292, -1.53227621, -1.40814226, -2.057...   \n",
       "bki_request_cnt       40                    [1, 3, 2, 0, 4, 7, 5, 8, 6, 13]   \n",
       "region_rating          7                       [50, 80, 60, 40, 70, 20, 30]   \n",
       "home_address           3                                          [1, 2, 3]   \n",
       "work_address           3                                          [2, 3, 1]   \n",
       "income              1207  [18000, 19000, 30000, 10000, 15000, 28000, 450...   \n",
       "sna                    4                                       [4, 1, 2, 3]   \n",
       "first_time             4                                       [1, 4, 3, 2]   \n",
       "foreign_passport       2                                             [N, Y]   \n",
       "default                2                                    [0.0, 1.0, nan]   \n",
       "\n",
       "                   null    dtype  \n",
       "_test                 0     bool  \n",
       "client_id             0    int64  \n",
       "app_date              0   object  \n",
       "education           478   object  \n",
       "sex                   0   object  \n",
       "age                   0    int64  \n",
       "car                   0   object  \n",
       "car_type              0   object  \n",
       "decline_app_cnt       0    int64  \n",
       "good_work             0    int64  \n",
       "score_bki             0  float64  \n",
       "bki_request_cnt       0    int64  \n",
       "region_rating         0    int64  \n",
       "home_address          0    int64  \n",
       "work_address          0    int64  \n",
       "income                0    int64  \n",
       "sna                   0    int64  \n",
       "first_time            0    int64  \n",
       "foreign_passport      0   object  \n",
       "default           36349  float64  "
      ]
     },
     "execution_count": 40,
     "metadata": {},
     "output_type": "execute_result"
    }
   ],
   "source": [
    "DATASETS_LOC = '/kaggle/input/sf-dst-scoring'\n",
    "RANDOM_SEED = 61\n",
    "\n",
    "train = pd.read_csv(f'{DATASETS_LOC}/train.csv')\n",
    "train.insert(0, '_test', False) # label train data with 0 in _test\n",
    "\n",
    "test = pd.read_csv(f'{DATASETS_LOC}/test.csv')\n",
    "test.insert(0, '_test', True)# label test data with 1 in _test\n",
    "\n",
    "data = pd.concat([train, test], ignore_index=True)\n",
    "# num of unique values, first 10 unique values, null values count, type\n",
    "data.agg({'nunique', lambda s: s.unique()[:10]})\\\n",
    "    .append(pd.Series(data.isnull().sum(), name='null'))\\\n",
    "    .append(pd.Series(data.dtypes, name='dtype'))\\\n",
    "    .transpose()"
   ]
  },
  {
   "cell_type": "markdown",
   "metadata": {},
   "source": [
    "Очевидные пропуски только в education, заменим их на WOE или SCH"
   ]
  },
  {
   "cell_type": "code",
   "execution_count": 41,
   "metadata": {},
   "outputs": [
    {
     "data": {
      "text/plain": [
       "SCH    57998\n",
       "GRD    34768\n",
       "UGR    14748\n",
       "PGR     1865\n",
       "ACD      291\n",
       "Name: education, dtype: int64"
      ]
     },
     "execution_count": 41,
     "metadata": {},
     "output_type": "execute_result"
    }
   ],
   "source": [
    "data.education.value_counts()"
   ]
  },
  {
   "cell_type": "code",
   "execution_count": 42,
   "metadata": {},
   "outputs": [],
   "source": [
    "# более честно считать, что данные неизвестны\n",
    "# data.education.fillna('WOE', inplace=True)\n",
    "# но скорее всего у людей есть минимум школьное образование, поэтому можно заменять им, чтобы уменьшить колличество признаков\n",
    "data.education.fillna('SCH', inplace=True) # эта замена дает лучший скоринг и профит"
   ]
  },
  {
   "cell_type": "markdown",
   "metadata": {},
   "source": [
    "Работа с признаками времени"
   ]
  },
  {
   "cell_type": "code",
   "execution_count": 43,
   "metadata": {},
   "outputs": [
    {
     "name": "stdout",
     "output_type": "stream",
     "text": [
      "0    01FEB2014\n",
      "1    12MAR2014\n",
      "2    01FEB2014\n",
      "3    23JAN2014\n",
      "4    18APR2014\n",
      "Name: app_date, dtype: object\n",
      "0   2014-02-01\n",
      "1   2014-03-12\n",
      "2   2014-02-01\n",
      "3   2014-01-23\n",
      "4   2014-04-18\n",
      "Name: app_date, dtype: datetime64[ns]\n",
      "0    2526\n",
      "1    2487\n",
      "2    2526\n",
      "3    2535\n",
      "4    2450\n",
      "Name: days, dtype: int64\n"
     ]
    }
   ],
   "source": [
    "# Взглянем поближе на признак app_date\n",
    "print(data.app_date.head(5))\n",
    "\n",
    "# Сконветируем в более удобный формат даты\n",
    "data.app_date = pd.to_datetime(data.app_date)\n",
    "print(data.app_date.head(5))\n",
    "\n",
    "# На основе признака app_date делаем новый признак\n",
    "current_date = pd.to_datetime('01JAN2021')\n",
    "# Количество дней, прошедших со дня подачи заявки\n",
    "data['days'] = (current_date - data.app_date).dt.days\n",
    "print(data.days.head(5))"
   ]
  },
  {
   "cell_type": "markdown",
   "metadata": {},
   "source": [
    "разделим признаки на группы"
   ]
  },
  {
   "cell_type": "code",
   "execution_count": 44,
   "metadata": {},
   "outputs": [
    {
     "data": {
      "text/plain": [
       "{'_test', 'app_date', 'client_id'}"
      ]
     },
     "execution_count": 44,
     "metadata": {},
     "output_type": "execute_result"
    }
   ],
   "source": [
    "target = 'default'\n",
    "bin_features = ['sex', 'car', 'car_type', 'good_work', 'foreign_passport']\n",
    "cat_features = ['education', 'home_address', 'work_address', 'sna', 'first_time', 'region_rating']\n",
    "num_features = ['age', 'decline_app_cnt', 'score_bki', 'bki_request_cnt', 'income',\"days\"]\n",
    "# оставшиеся данные\n",
    "set(data.columns)-set(bin_features)-set(cat_features)-set(num_features)-set([target])"
   ]
  },
  {
   "cell_type": "markdown",
   "metadata": {},
   "source": [
    "'app_date', 'client_id' данные вроде бесполезны для анализа, но важны для банка"
   ]
  },
  {
   "cell_type": "markdown",
   "metadata": {},
   "source": [
    "## Распределение количественных признаков"
   ]
  },
  {
   "cell_type": "code",
   "execution_count": 45,
   "metadata": {},
   "outputs": [
    {
     "data": {
      "image/png": "[encoded data removed]",
      "text/plain": [
       "<Figure size 800x600 with 6 Axes>"
      ]
     },
     "metadata": {
      "needs_background": "light"
     },
     "output_type": "display_data"
    }
   ],
   "source": [
    "for column, ax in zip(num_features, plot_grid(len(num_features))):\n",
    "    data[column].plot(kind='hist', ax=ax, title=column)\n",
    "    ax.set_ylabel(None)"
   ]
  },
  {
   "cell_type": "markdown",
   "metadata": {},
   "source": [
    "Распределение дохода имеет \"длинный хвост\" и большой масштаб относительно других признаков, поэтому применим функцию нормализации."
   ]
  },
  {
   "cell_type": "markdown",
   "metadata": {},
   "source": [
    "# Проверить! нужно ли логорифмировать возраст и другие признаки"
   ]
  },
  {
   "cell_type": "code",
   "execution_count": 46,
   "metadata": {},
   "outputs": [],
   "source": [
    "data.income = data.income.transform(np.log)"
   ]
  },
  {
   "cell_type": "code",
   "execution_count": 47,
   "metadata": {},
   "outputs": [],
   "source": [
    "# optional!\n",
    "for column in set(num_features)-set([\"score_bki\",\"income\"]):\n",
    "    data[column] = (data[column]+1).transform(np.log)"
   ]
  },
  {
   "cell_type": "code",
   "execution_count": 48,
   "metadata": {},
   "outputs": [
    {
     "data": {
      "image/png": "[encoded data removed]",
      "text/plain": [
       "<Figure size 800x600 with 6 Axes>"
      ]
     },
     "metadata": {
      "needs_background": "light"
     },
     "output_type": "display_data"
    }
   ],
   "source": [
    "for column, ax in zip(num_features, plot_grid(len(num_features))):\n",
    "    data[column].plot(kind='hist', ax=ax, title=column)\n",
    "    ax.set_ylabel(None)"
   ]
  },
  {
   "cell_type": "markdown",
   "metadata": {},
   "source": [
    "Посмотрим теперь на корреляцию признаков с целевой переменной"
   ]
  },
  {
   "cell_type": "code",
   "execution_count": 49,
   "metadata": {},
   "outputs": [
    {
     "data": {
      "image/png": "[encoded data removed]",
      "text/plain": [
       "<Figure size 432x288 with 2 Axes>"
      ]
     },
     "metadata": {
      "needs_background": "light"
     },
     "output_type": "display_data"
    }
   ],
   "source": [
    "corr = data[~data._test][num_features + [target]].corr()\n",
    "plot_correlation_matrix(corr, annot=True)"
   ]
  },
  {
   "cell_type": "markdown",
   "metadata": {},
   "source": [
    "Наблюдается положительная корреляция целевой переменной с количеством отказов, что может объясняться самим процессом выдачи кредитов. Но в целом численные признаки скоррелированы слабо.\n",
    "\n",
    "Проверим теперь значимость численных признаков."
   ]
  },
  {
   "cell_type": "code",
   "execution_count": 50,
   "metadata": {},
   "outputs": [
    {
     "data": {
      "image/png": "[encoded data removed]",
      "text/plain": [
       "<Figure size 432x288 with 1 Axes>"
      ]
     },
     "metadata": {
      "needs_background": "light"
     },
     "output_type": "display_data"
    }
   ],
   "source": [
    "F, _ = f_classif(data[~data._test][num_features], data[~data._test][target])\n",
    "pd.Series(F, index=num_features).sort_values(ascending=False).plot(kind='bar');"
   ]
  },
  {
   "cell_type": "markdown",
   "metadata": {},
   "source": [
    "Обратим внимание на то, что большее значение имеют признаки количества обращений и рейтинг бюро крединтных историй."
   ]
  },
  {
   "cell_type": "markdown",
   "metadata": {},
   "source": [
    "# Распределение **категориальных** признаков"
   ]
  },
  {
   "cell_type": "code",
   "execution_count": 51,
   "metadata": {},
   "outputs": [
    {
     "data": {
      "image/png": "[encoded data removed]",
      "text/plain": [
       "<Figure size 800x600 with 18 Axes>"
      ]
     },
     "metadata": {
      "needs_background": "light"
     },
     "output_type": "display_data"
    }
   ],
   "source": [
    "for feature, ax in zip(cat_features, plot_grid(len(cat_features))):\n",
    "    mosaic(data[~data._test], [feature, target], ax=ax, title=feature);"
   ]
  },
  {
   "cell_type": "code",
   "execution_count": 52,
   "metadata": {},
   "outputs": [
    {
     "data": {
      "image/png": "[encoded data removed]",
      "text/plain": [
       "<Figure size 800x600 with 16 Axes>"
      ]
     },
     "metadata": {
      "needs_background": "light"
     },
     "output_type": "display_data"
    }
   ],
   "source": [
    "for feature, ax in zip(bin_features, plot_grid(len(bin_features))):\n",
    "    mosaic(data[~data._test], [feature, target], ax=ax, title=feature);"
   ]
  },
  {
   "cell_type": "markdown",
   "metadata": {},
   "source": [
    "В связи целевой переменной с категориальными признаками тоже не наблюдается явных закономерностей.\n",
    "Есть только слабые зависимости, например\n",
    "1. Наличие загран пасспорта это +\n",
    "2. Наличие автомобиля это +\n",
    "3. Рабочий адрес, домашний адрес и образования положительно коррелируют. и т.д.\n",
    "\n",
    "Оценим теперь значимость этих признаков более колличетсвенно.\n",
    "\n",
    "**Предварительно закодируем значения.**"
   ]
  },
  {
   "cell_type": "code",
   "execution_count": 53,
   "metadata": {},
   "outputs": [],
   "source": [
    "# только 1 ординальную переменную\n",
    "ordinal_enc = OrdinalEncoder(categories=[['WOE', 'SCH', 'GRD', 'UGR', 'PGR', 'ACD'],])\n",
    "data[['education',]] = ordinal_enc.fit_transform(data[['education',]])\n",
    "\n",
    "# num_labele = dict(enumerate([\"N.A.\",\"SCH\", \"UGR\",\"GRD\",\"PGR\",\"ACD\"]))\n",
    "# labele_num = {value:key for key, value in num_labele.items()}\n",
    "# data[\"education\"]=data[\"education\"].apply(lambda x: labele_num[x])\n",
    "\n",
    "\n",
    "# все бинарные переменные\n",
    "label_encoder = LabelEncoder()\n",
    "for column in bin_features:\n",
    "    data[column] = label_encoder.fit_transform(data[column])"
   ]
  },
  {
   "cell_type": "code",
   "execution_count": 54,
   "metadata": {},
   "outputs": [
    {
     "data": {
      "image/png": "[encoded data removed]",
      "text/plain": [
       "<Figure size 432x288 with 1 Axes>"
      ]
     },
     "metadata": {
      "needs_background": "light"
     },
     "output_type": "display_data"
    }
   ],
   "source": [
    "mi = mutual_info_classif(data[~data._test][cat_features+bin_features], data[~data._test][target], discrete_features=True)\n",
    "pd.Series(mi, index=cat_features+bin_features).sort_values(ascending=False).plot(kind='bar');"
   ]
  },
  {
   "cell_type": "markdown",
   "metadata": {},
   "source": [
    "Связь с сотрудниками банка, а также, по-видимому, уровень жизни в окружении заемщика оказывают большее влияние на целевую переменную.\n",
    "\n",
    "Подготовим данные к использованию в модели: закодируем категориальные признаки и стандартизируем численные."
   ]
  },
  {
   "cell_type": "markdown",
   "metadata": {},
   "source": [
    "Попробуем воспользоваться логистической регрессией, как относительно простым и быстрым алгоритмом машинного обучения."
   ]
  },
  {
   "cell_type": "code",
   "execution_count": 55,
   "metadata": {},
   "outputs": [],
   "source": [
    "X, Y = prepare_space(data[~data._test], num_features, bin_features, cat_features, target)\n",
    "X_train, X_test, y_train, y_test = train_test_split(X, Y, test_size=.2, random_state=RANDOM_SEED)"
   ]
  },
  {
   "cell_type": "markdown",
   "metadata": {},
   "source": [
    "Оценим производительность модели по рабочей характеристике ROC.\n",
    "Производительность нашей модели кажется неплохой, но вернемся в предметную область и взглянем на таблицу сопряженности оценки модели и реальных данных"
   ]
  },
  {
   "cell_type": "markdown",
   "metadata": {},
   "source": [
    "# тест с базовыми параметрами"
   ]
  },
  {
   "cell_type": "code",
   "execution_count": 56,
   "metadata": {},
   "outputs": [
    {
     "data": {
      "image/png": "[encoded data removed]",
      "text/plain": [
       "<Figure size 432x288 with 1 Axes>"
      ]
     },
     "metadata": {
      "needs_background": "light"
     },
     "output_type": "display_data"
    },
    {
     "data": {
      "image/png": "[encoded data removed]",
      "text/plain": [
       "<Figure size 800x300 with 4 Axes>"
      ]
     },
     "metadata": {
      "needs_background": "light"
     },
     "output_type": "display_data"
    }
   ],
   "source": [
    "model = LogisticRegression(random_state=RANDOM_SEED, solver='liblinear').fit(X_train, y_train)\n",
    "test_model_roc_cm(X_test,y_test)"
   ]
  },
  {
   "cell_type": "markdown",
   "metadata": {},
   "source": [
    "Заметна большая доля (12%) ложно-отрицательных значений\n",
    "\n",
    "1797 (или 12%) ложно-отрицательных значений - это те клиенты, которым модель предсказывает выдать кредит, но они его не вернули. Это приведет к **прямым расходам**.\n",
    "\n",
    "50 (или 57%) ложно-положительных - это те клиенты, которым модель предсказывает не выдавать кредит, но они его вернули. Это приведет к **недополученной прибыли**.\n",
    "\n"
   ]
  },
  {
   "cell_type": "markdown",
   "metadata": {},
   "source": [
    "Но прежде чем идти на компромисс в выборе определяющего класс порога для векторов вероятностей, попробуем оптимизировать модель путем подбора параметров регрессии."
   ]
  },
  {
   "cell_type": "markdown",
   "metadata": {},
   "source": [
    "# оптимизация гиперпараметров"
   ]
  },
  {
   "cell_type": "code",
   "execution_count": 85,
   "metadata": {},
   "outputs": [],
   "source": [
    "if opt:# set True if want to optimize hyperparameters\n",
    "    gs = hyper_estimator(X_train,y_train)\n",
    "    param = gs.best_estimator_.get_params()\n",
    "else:\n",
    "    param = {'C': 1.0,\n",
    "    'class_weight': 'balanced',\n",
    "    'dual': False,\n",
    "    'fit_intercept': True,\n",
    "    'intercept_scaling': 1,\n",
    "    'l1_ratio': None,\n",
    "    'max_iter': 200,\n",
    "    'multi_class': 'auto',\n",
    "    'n_jobs': None,\n",
    "    'penalty': 'l2',\n",
    "    'random_state': 61,\n",
    "    'solver': 'lbfgs',\n",
    "    'tol': 0.0001,\n",
    "    'verbose': 0,\n",
    "    'warm_start': False} \n",
    "    \n",
    "with open('best_basic_hyperparam.json', 'w') as fp:\n",
    "    json.dump(param, fp)"
   ]
  },
  {
   "cell_type": "code",
   "execution_count": 58,
   "metadata": {},
   "outputs": [
    {
     "data": {
      "image/png": "[encoded data removed]",
      "text/plain": [
       "<Figure size 432x288 with 1 Axes>"
      ]
     },
     "metadata": {
      "needs_background": "light"
     },
     "output_type": "display_data"
    },
    {
     "data": {
      "image/png": "[encoded data removed]",
      "text/plain": [
       "<Figure size 800x300 with 4 Axes>"
      ]
     },
     "metadata": {
      "needs_background": "light"
     },
     "output_type": "display_data"
    }
   ],
   "source": [
    "# проведем тест, с оптимизированными гиперпараметрами\n",
    "with open('best_basic_hyperparam.json', 'r') as fp:\n",
    "    params = json.load(fp)\n",
    "    \n",
    "model = LogisticRegression(**params).fit(X_train, y_train)\n",
    "test_model_roc_cm(X_test,y_test)"
   ]
  },
  {
   "cell_type": "markdown",
   "metadata": {},
   "source": [
    "Поварьируем С и penalty "
   ]
  },
  {
   "cell_type": "code",
   "execution_count": 90,
   "metadata": {},
   "outputs": [],
   "source": [
    "if opt:# set True if want to optimize hyperparameters\n",
    "    with open('best_basic_hyperparam.json', 'r') as fp:\n",
    "        params = json.load(fp)\n",
    "\n",
    "    params.pop(\"C\")\n",
    "    params.pop(\"max_iter\")\n",
    "    params.pop(\"random_state\")\n",
    "    params.pop(\"penalty\")\n",
    "\n",
    "    # Добавим типы регуляризации\n",
    "    penalty = ['l1', 'l2',\"elasticnet\"]\n",
    "    C = np.linspace(50, 100, 100) # Зададим ограничения для параметра регуляризации\n",
    "    hyperparameters = dict(C=C, penalty=penalty) # Создадим гиперпараметры\n",
    "\n",
    "    estimator = LogisticRegression(random_state=RANDOM_SEED, max_iter=400, **params)\n",
    "    gs = GridSearchCV(estimator, hyperparameters, n_jobs=-1, scoring='f1', cv=5).fit(X_train, y_train) \n",
    "    param = gs.best_estimator_.get_params()\n",
    "\n",
    "else:\n",
    "    param = {'C': 63.63636363636364,\n",
    "    'class_weight': 'balanced',\n",
    "    'dual': False,\n",
    "    'fit_intercept': True,\n",
    "    'intercept_scaling': 1,\n",
    "    'l1_ratio': None,\n",
    "    'max_iter': 400,\n",
    "    'multi_class': 'auto',\n",
    "    'n_jobs': None,\n",
    "    'penalty': 'l2',\n",
    "    'random_state': 61,\n",
    "    'solver': 'lbfgs',\n",
    "    'tol': 0.0001,\n",
    "    'verbose': 0,\n",
    "    'warm_start': False}\n",
    "    \n",
    "    \n",
    "with open('best_basic_hyperparam_CP.json', 'w') as fp:\n",
    "    json.dump(param, fp)"
   ]
  },
  {
   "cell_type": "code",
   "execution_count": 60,
   "metadata": {},
   "outputs": [
    {
     "data": {
      "image/png": "[encoded data removed]",
      "text/plain": [
       "<Figure size 432x288 with 1 Axes>"
      ]
     },
     "metadata": {
      "needs_background": "light"
     },
     "output_type": "display_data"
    },
    {
     "data": {
      "image/png": "[encoded data removed]",
      "text/plain": [
       "<Figure size 800x300 with 4 Axes>"
      ]
     },
     "metadata": {
      "needs_background": "light"
     },
     "output_type": "display_data"
    }
   ],
   "source": [
    "# проведем тест, с оптимизированными гиперпараметрами\n",
    "with open('best_basic_hyperparam_CP.json', 'r') as fp:\n",
    "    params = json.load(fp)\n",
    "    \n",
    "model = LogisticRegression(**params).fit(X_train, y_train)\n",
    "test_model_roc_cm(X_test,y_test)"
   ]
  },
  {
   "cell_type": "markdown",
   "metadata": {},
   "source": [
    "Производительность модели roa_auc не улучшилась, и мы все же пришли к компромиссу: уменьшили долю риска по дефолтным кредитам за счет увеличения ложно-положительных исходов."
   ]
  },
  {
   "cell_type": "markdown",
   "metadata": {},
   "source": [
    "# создание полиномных характеристик"
   ]
  },
  {
   "cell_type": "markdown",
   "metadata": {},
   "source": [
    "## попарно полиномы 2й степени от численных переменных"
   ]
  },
  {
   "cell_type": "code",
   "execution_count": 61,
   "metadata": {},
   "outputs": [
    {
     "data": {
      "text/plain": [
       "'ROC curve (area = 0.7375)'"
      ]
     },
     "metadata": {},
     "output_type": "display_data"
    },
    {
     "data": {
      "text/plain": [
       "'ROC curve (area = 0.7375)'"
      ]
     },
     "metadata": {},
     "output_type": "display_data"
    },
    {
     "data": {
      "text/plain": [
       "'ROC curve (area = 0.7375)'"
      ]
     },
     "metadata": {},
     "output_type": "display_data"
    },
    {
     "data": {
      "text/plain": [
       "'ROC curve (area = 0.7378)'"
      ]
     },
     "metadata": {},
     "output_type": "display_data"
    },
    {
     "data": {
      "text/plain": [
       "'ROC curve (area = 0.7375)'"
      ]
     },
     "metadata": {},
     "output_type": "display_data"
    },
    {
     "data": {
      "text/plain": [
       "'ROC curve (area = 0.7366)'"
      ]
     },
     "metadata": {},
     "output_type": "display_data"
    },
    {
     "data": {
      "text/plain": [
       "'ROC curve (area = 0.7363)'"
      ]
     },
     "metadata": {},
     "output_type": "display_data"
    },
    {
     "data": {
      "text/plain": [
       "'ROC curve (area = 0.7369)'"
      ]
     },
     "metadata": {},
     "output_type": "display_data"
    },
    {
     "data": {
      "text/plain": [
       "'ROC curve (area = 0.7366)'"
      ]
     },
     "metadata": {},
     "output_type": "display_data"
    },
    {
     "data": {
      "text/plain": [
       "'ROC curve (area = 0.7368)'"
      ]
     },
     "metadata": {},
     "output_type": "display_data"
    },
    {
     "data": {
      "text/plain": [
       "'ROC curve (area = 0.7371)'"
      ]
     },
     "metadata": {},
     "output_type": "display_data"
    },
    {
     "data": {
      "text/plain": [
       "'ROC curve (area = 0.7367)'"
      ]
     },
     "metadata": {},
     "output_type": "display_data"
    },
    {
     "data": {
      "text/plain": [
       "'ROC curve (area = 0.7367)'"
      ]
     },
     "metadata": {},
     "output_type": "display_data"
    },
    {
     "data": {
      "text/plain": [
       "'ROC curve (area = 0.7367)'"
      ]
     },
     "metadata": {},
     "output_type": "display_data"
    },
    {
     "data": {
      "text/plain": [
       "'ROC curve (area = 0.7367)'"
      ]
     },
     "metadata": {},
     "output_type": "display_data"
    },
    {
     "data": {
      "text/html": [
       "<div>\n",
       "<style scoped>\n",
       "    .dataframe tbody tr th:only-of-type {\n",
       "        vertical-align: middle;\n",
       "    }\n",
       "\n",
       "    .dataframe tbody tr th {\n",
       "        vertical-align: top;\n",
       "    }\n",
       "\n",
       "    .dataframe thead th {\n",
       "        text-align: right;\n",
       "    }\n",
       "</style>\n",
       "<table border=\"1\" class=\"dataframe\">\n",
       "  <thead>\n",
       "    <tr style=\"text-align: right;\">\n",
       "      <th></th>\n",
       "      <th>description_model</th>\n",
       "      <th>modifications</th>\n",
       "      <th>public_score</th>\n",
       "      <th>ROC</th>\n",
       "      <th>TN_00</th>\n",
       "      <th>TP_11</th>\n",
       "      <th>FP_01</th>\n",
       "      <th>FN_10</th>\n",
       "    </tr>\n",
       "  </thead>\n",
       "  <tbody>\n",
       "    <tr>\n",
       "      <th>3</th>\n",
       "      <td>baseline_best_hyper</td>\n",
       "      <td>P2_2:age^income</td>\n",
       "      <td>None</td>\n",
       "      <td>0.737822</td>\n",
       "      <td>8722</td>\n",
       "      <td>1223</td>\n",
       "      <td>4204</td>\n",
       "      <td>611</td>\n",
       "    </tr>\n",
       "    <tr>\n",
       "      <th>4</th>\n",
       "      <td>baseline_best_hyper</td>\n",
       "      <td>P2_2:age^days</td>\n",
       "      <td>None</td>\n",
       "      <td>0.737527</td>\n",
       "      <td>8727</td>\n",
       "      <td>1225</td>\n",
       "      <td>4199</td>\n",
       "      <td>609</td>\n",
       "    </tr>\n",
       "    <tr>\n",
       "      <th>0</th>\n",
       "      <td>baseline_best_hyper</td>\n",
       "      <td>P2_2:age^decline_app_cnt</td>\n",
       "      <td>None</td>\n",
       "      <td>0.737517</td>\n",
       "      <td>8710</td>\n",
       "      <td>1226</td>\n",
       "      <td>4216</td>\n",
       "      <td>608</td>\n",
       "    </tr>\n",
       "    <tr>\n",
       "      <th>1</th>\n",
       "      <td>baseline_best_hyper</td>\n",
       "      <td>P2_2:age^score_bki</td>\n",
       "      <td>None</td>\n",
       "      <td>0.737510</td>\n",
       "      <td>8712</td>\n",
       "      <td>1224</td>\n",
       "      <td>4214</td>\n",
       "      <td>610</td>\n",
       "    </tr>\n",
       "    <tr>\n",
       "      <th>2</th>\n",
       "      <td>baseline_best_hyper</td>\n",
       "      <td>P2_2:age^bki_request_cnt</td>\n",
       "      <td>None</td>\n",
       "      <td>0.737490</td>\n",
       "      <td>8731</td>\n",
       "      <td>1226</td>\n",
       "      <td>4195</td>\n",
       "      <td>608</td>\n",
       "    </tr>\n",
       "    <tr>\n",
       "      <th>10</th>\n",
       "      <td>baseline_best_hyper</td>\n",
       "      <td>P2_2:score_bki^income</td>\n",
       "      <td>None</td>\n",
       "      <td>0.737055</td>\n",
       "      <td>8718</td>\n",
       "      <td>1217</td>\n",
       "      <td>4208</td>\n",
       "      <td>617</td>\n",
       "    </tr>\n",
       "    <tr>\n",
       "      <th>7</th>\n",
       "      <td>baseline_best_hyper</td>\n",
       "      <td>P2_2:decline_app_cnt^income</td>\n",
       "      <td>None</td>\n",
       "      <td>0.736890</td>\n",
       "      <td>8707</td>\n",
       "      <td>1214</td>\n",
       "      <td>4219</td>\n",
       "      <td>620</td>\n",
       "    </tr>\n",
       "    <tr>\n",
       "      <th>9</th>\n",
       "      <td>baseline_best_hyper</td>\n",
       "      <td>P2_2:score_bki^bki_request_cnt</td>\n",
       "      <td>None</td>\n",
       "      <td>0.736759</td>\n",
       "      <td>8684</td>\n",
       "      <td>1218</td>\n",
       "      <td>4242</td>\n",
       "      <td>616</td>\n",
       "    </tr>\n",
       "    <tr>\n",
       "      <th>11</th>\n",
       "      <td>baseline_best_hyper</td>\n",
       "      <td>P2_2:score_bki^days</td>\n",
       "      <td>None</td>\n",
       "      <td>0.736726</td>\n",
       "      <td>8697</td>\n",
       "      <td>1219</td>\n",
       "      <td>4229</td>\n",
       "      <td>615</td>\n",
       "    </tr>\n",
       "    <tr>\n",
       "      <th>14</th>\n",
       "      <td>baseline_best_hyper</td>\n",
       "      <td>P2_2:income^days</td>\n",
       "      <td>None</td>\n",
       "      <td>0.736694</td>\n",
       "      <td>8717</td>\n",
       "      <td>1217</td>\n",
       "      <td>4209</td>\n",
       "      <td>617</td>\n",
       "    </tr>\n",
       "    <tr>\n",
       "      <th>12</th>\n",
       "      <td>baseline_best_hyper</td>\n",
       "      <td>P2_2:bki_request_cnt^income</td>\n",
       "      <td>None</td>\n",
       "      <td>0.736682</td>\n",
       "      <td>8697</td>\n",
       "      <td>1221</td>\n",
       "      <td>4229</td>\n",
       "      <td>613</td>\n",
       "    </tr>\n",
       "    <tr>\n",
       "      <th>13</th>\n",
       "      <td>baseline_best_hyper</td>\n",
       "      <td>P2_2:bki_request_cnt^days</td>\n",
       "      <td>None</td>\n",
       "      <td>0.736652</td>\n",
       "      <td>8705</td>\n",
       "      <td>1216</td>\n",
       "      <td>4221</td>\n",
       "      <td>618</td>\n",
       "    </tr>\n",
       "    <tr>\n",
       "      <th>5</th>\n",
       "      <td>baseline_best_hyper</td>\n",
       "      <td>P2_2:decline_app_cnt^score_bki</td>\n",
       "      <td>None</td>\n",
       "      <td>0.736625</td>\n",
       "      <td>8660</td>\n",
       "      <td>1221</td>\n",
       "      <td>4266</td>\n",
       "      <td>613</td>\n",
       "    </tr>\n",
       "    <tr>\n",
       "      <th>8</th>\n",
       "      <td>baseline_best_hyper</td>\n",
       "      <td>P2_2:decline_app_cnt^days</td>\n",
       "      <td>None</td>\n",
       "      <td>0.736597</td>\n",
       "      <td>8699</td>\n",
       "      <td>1213</td>\n",
       "      <td>4227</td>\n",
       "      <td>621</td>\n",
       "    </tr>\n",
       "    <tr>\n",
       "      <th>6</th>\n",
       "      <td>baseline_best_hyper</td>\n",
       "      <td>P2_2:decline_app_cnt^bki_request_cnt</td>\n",
       "      <td>None</td>\n",
       "      <td>0.736341</td>\n",
       "      <td>8691</td>\n",
       "      <td>1214</td>\n",
       "      <td>4235</td>\n",
       "      <td>620</td>\n",
       "    </tr>\n",
       "  </tbody>\n",
       "</table>\n",
       "</div>"
      ],
      "text/plain": [
       "      description_model                         modifications public_score  \\\n",
       "3   baseline_best_hyper                       P2_2:age^income         None   \n",
       "4   baseline_best_hyper                         P2_2:age^days         None   \n",
       "0   baseline_best_hyper              P2_2:age^decline_app_cnt         None   \n",
       "1   baseline_best_hyper                    P2_2:age^score_bki         None   \n",
       "2   baseline_best_hyper              P2_2:age^bki_request_cnt         None   \n",
       "10  baseline_best_hyper                 P2_2:score_bki^income         None   \n",
       "7   baseline_best_hyper           P2_2:decline_app_cnt^income         None   \n",
       "9   baseline_best_hyper        P2_2:score_bki^bki_request_cnt         None   \n",
       "11  baseline_best_hyper                   P2_2:score_bki^days         None   \n",
       "14  baseline_best_hyper                      P2_2:income^days         None   \n",
       "12  baseline_best_hyper           P2_2:bki_request_cnt^income         None   \n",
       "13  baseline_best_hyper             P2_2:bki_request_cnt^days         None   \n",
       "5   baseline_best_hyper        P2_2:decline_app_cnt^score_bki         None   \n",
       "8   baseline_best_hyper             P2_2:decline_app_cnt^days         None   \n",
       "6   baseline_best_hyper  P2_2:decline_app_cnt^bki_request_cnt         None   \n",
       "\n",
       "         ROC  TN_00  TP_11  FP_01  FN_10  \n",
       "3   0.737822   8722   1223   4204    611  \n",
       "4   0.737527   8727   1225   4199    609  \n",
       "0   0.737517   8710   1226   4216    608  \n",
       "1   0.737510   8712   1224   4214    610  \n",
       "2   0.737490   8731   1226   4195    608  \n",
       "10  0.737055   8718   1217   4208    617  \n",
       "7   0.736890   8707   1214   4219    620  \n",
       "9   0.736759   8684   1218   4242    616  \n",
       "11  0.736726   8697   1219   4229    615  \n",
       "14  0.736694   8717   1217   4209    617  \n",
       "12  0.736682   8697   1221   4229    613  \n",
       "13  0.736652   8705   1216   4221    618  \n",
       "5   0.736625   8660   1221   4266    613  \n",
       "8   0.736597   8699   1213   4227    621  \n",
       "6   0.736341   8691   1214   4235    620  "
      ]
     },
     "metadata": {},
     "output_type": "display_data"
    },
    {
     "data": {
      "text/plain": [
       "None"
      ]
     },
     "metadata": {},
     "output_type": "display_data"
    }
   ],
   "source": [
    "with open('best_basic_hyperparam.json', 'r') as fp:\n",
    "    params = json.load(fp)\n",
    "params[\"max_iter\"]=2000\n",
    "\n",
    "num_features = ['age', 'decline_app_cnt', 'score_bki', 'bki_request_cnt', 'income',\"days\"]\n",
    "results_polinome2=pd.DataFrame(data=None, columns=None)\n",
    "\n",
    "L =2\n",
    "for subset in itertools.combinations(num_features, L):\n",
    "    col1 = subset[0]\n",
    "    col2 = subset[1]\n",
    "\n",
    "    new_features = [\"1\", col1, col2, col1+\"^2\", col1+\"*\"+col2, col2+\"^2\"]\n",
    "    new_features\n",
    "    pf = PolynomialFeatures(2)\n",
    "    poly_features = pf.fit_transform(data[[col1, col2]])\n",
    "\n",
    "    df_temp=pd.DataFrame(poly_features,columns=new_features)\n",
    "\n",
    "    data0 = pd.concat([data, df_temp[new_features[3:]]], axis=1)\n",
    "    num_features0=num_features+new_features[3:]\n",
    "\n",
    "    X, Y = prepare_space(data0[~data0._test], num_features0, bin_features, cat_features, target)\n",
    "    X_train, X_test, y_train, y_test = train_test_split(X, Y, test_size=.2, random_state=RANDOM_SEED)\n",
    "\n",
    "    model = LogisticRegression(**params).fit(X_train, y_train)\n",
    "    auc = roc_auc_score(y_test, model.predict_proba(X_test)[:, 1])\n",
    "    cm = confusion_matrix(y_test, model.predict(X_test))\n",
    "    display('ROC curve (area = %0.4f)' % auc)\n",
    "    col = [\"description_model\",\"modifications\",\"public_score\",\"ROC\",\"TN_00\",\"TP_11\",\"FP_01\",\"FN_10\"]\n",
    "\n",
    "    cm_line = [cm[k][l] for k,l in [[0,0],[1,1],[0,1],[1,0]]]\n",
    "    results_polinome2 = results_polinome2.append(pd.DataFrame(data=[[\"baseline_best_hyper\",\"P2_2:\"+col1+\"^\"+col2,\n",
    "                                                           None,auc,cm_line[0],cm_line[1],cm_line[2],cm_line[3]]], \n",
    "                                          columns=col), ignore_index=True)\n",
    "        \n",
    "display(display(results_polinome2.sort_values(by=['ROC'],ascending=False)))"
   ]
  },
  {
   "cell_type": "markdown",
   "metadata": {},
   "source": [
    "некоторые пары улучшают скоринг и матрицу ошибок, поэтому можно взять для простоты все полиномы второй степени"
   ]
  },
  {
   "cell_type": "markdown",
   "metadata": {},
   "source": [
    "## все полиномы 2й степени от численных переменных"
   ]
  },
  {
   "cell_type": "code",
   "execution_count": 62,
   "metadata": {},
   "outputs": [
    {
     "data": {
      "text/html": [
       "<div>\n",
       "<style scoped>\n",
       "    .dataframe tbody tr th:only-of-type {\n",
       "        vertical-align: middle;\n",
       "    }\n",
       "\n",
       "    .dataframe tbody tr th {\n",
       "        vertical-align: top;\n",
       "    }\n",
       "\n",
       "    .dataframe thead th {\n",
       "        text-align: right;\n",
       "    }\n",
       "</style>\n",
       "<table border=\"1\" class=\"dataframe\">\n",
       "  <thead>\n",
       "    <tr style=\"text-align: right;\">\n",
       "      <th></th>\n",
       "      <th>description_model</th>\n",
       "      <th>modifications</th>\n",
       "      <th>public_score</th>\n",
       "      <th>ROC</th>\n",
       "      <th>TN_00</th>\n",
       "      <th>TP_11</th>\n",
       "      <th>FP_01</th>\n",
       "      <th>FN_10</th>\n",
       "    </tr>\n",
       "  </thead>\n",
       "  <tbody>\n",
       "    <tr>\n",
       "      <th>0</th>\n",
       "      <td>baseline_optbasichyper</td>\n",
       "      <td>Polinome2:all6</td>\n",
       "      <td>None</td>\n",
       "      <td>0.737980</td>\n",
       "      <td>8706</td>\n",
       "      <td>1232</td>\n",
       "      <td>4220</td>\n",
       "      <td>602</td>\n",
       "    </tr>\n",
       "    <tr>\n",
       "      <th>1</th>\n",
       "      <td>baseline_optbasichyperCP</td>\n",
       "      <td>Polinome2:all6</td>\n",
       "      <td>None</td>\n",
       "      <td>0.738218</td>\n",
       "      <td>8707</td>\n",
       "      <td>1234</td>\n",
       "      <td>4219</td>\n",
       "      <td>600</td>\n",
       "    </tr>\n",
       "  </tbody>\n",
       "</table>\n",
       "</div>"
      ],
      "text/plain": [
       "          description_model   modifications public_score       ROC  TN_00  \\\n",
       "0    baseline_optbasichyper  Polinome2:all6         None  0.737980   8706   \n",
       "1  baseline_optbasichyperCP  Polinome2:all6         None  0.738218   8707   \n",
       "\n",
       "   TP_11  FP_01  FN_10  \n",
       "0   1232   4220    602  \n",
       "1   1234   4219    600  "
      ]
     },
     "metadata": {},
     "output_type": "display_data"
    }
   ],
   "source": [
    "with open('best_basic_hyperparam.json', 'r') as fp:\n",
    "    params = json.load(fp)\n",
    "with open('best_basic_hyperparam_CP.json', 'r') as fp:\n",
    "    params2 = json.load(fp)\n",
    "params[\"max_iter\"]=2000\n",
    "params2[\"max_iter\"]=2000\n",
    "    \n",
    "num_features = ['age', 'decline_app_cnt', 'score_bki', 'bki_request_cnt', 'income', 'days']\n",
    "results_polinome2all=pd.DataFrame(data=None, columns=None)\n",
    "\n",
    "pf = PolynomialFeatures(2)\n",
    "poly_features = pf.fit_transform(data[num_features])\n",
    "new_features=[\"A\"+str(k) for k in range(0,np.shape(poly_features)[1])]\n",
    "\n",
    "df_temp=pd.DataFrame(poly_features,columns=new_features)\n",
    "new_features = new_features[len(num_features)+1:]\n",
    "\n",
    "data_P2all = pd.concat([data, df_temp[new_features]], axis=1)\n",
    "num_features_P2all=num_features+new_features\n",
    "\n",
    "X, Y = prepare_space(data_P2all[~data_P2all._test], num_features_P2all, bin_features, cat_features, \n",
    "                     target)\n",
    "X_train, X_test, y_train, y_test = train_test_split(X, Y, test_size=.2, random_state=RANDOM_SEED)\n",
    "\n",
    "model_1 = LogisticRegression(**params).fit(X_train, y_train)\n",
    "\n",
    "auc = roc_auc_score(y_test, model_1.predict_proba(X_test)[:, 1])\n",
    "cm = confusion_matrix(y_test, model_1.predict(X_test))\n",
    "col = [\"description_model\",\"modifications\",\"public_score\",\"ROC\",\"TN_00\",\"TP_11\",\"FP_01\",\"FN_10\"]\n",
    "cm_line = [cm[k][l] for k,l in [[0,0],[1,1],[0,1],[1,0]]]\n",
    "results_polinome2all = results_polinome2all.append(pd.DataFrame(data=[[\"baseline_optbasichyper\",\n",
    "                                                                       \"Polinome2:all6\",\n",
    "                                                       None,auc,cm_line[0],cm_line[1],cm_line[2],\n",
    "                                                                       cm_line[3]]], \n",
    "                                      columns=col), ignore_index=True)\n",
    "\n",
    "\n",
    "model_2 = LogisticRegression(**params2).fit(X_train, y_train)\n",
    "\n",
    "auc = roc_auc_score(y_test, model_2.predict_proba(X_test)[:, 1])\n",
    "cm = confusion_matrix(y_test, model_2.predict(X_test))\n",
    "col = [\"description_model\",\"modifications\",\"public_score\",\"ROC\",\"TN_00\",\"TP_11\",\"FP_01\",\"FN_10\"]\n",
    "cm_line = [cm[k][l] for k,l in [[0,0],[1,1],[0,1],[1,0]]]\n",
    "results_polinome2all = results_polinome2all.append(pd.DataFrame(data=[[\"baseline_optbasichyperCP\",\n",
    "                                                                       \"Polinome2:all6\",\n",
    "                                                       None,auc,cm_line[0],cm_line[1],cm_line[2],\n",
    "                                                                       cm_line[3]]], \n",
    "                                      columns=col), ignore_index=True)\n",
    "\n",
    "\n",
    "\n",
    "model_P2all1 = model_1\n",
    "model_P2all2 = model_2\n",
    "display(results_polinome2all)"
   ]
  },
  {
   "cell_type": "markdown",
   "metadata": {},
   "source": [
    "# полиномы до 3й степени от численных переменных"
   ]
  },
  {
   "cell_type": "code",
   "execution_count": 63,
   "metadata": {},
   "outputs": [
    {
     "data": {
      "text/html": [
       "<div>\n",
       "<style scoped>\n",
       "    .dataframe tbody tr th:only-of-type {\n",
       "        vertical-align: middle;\n",
       "    }\n",
       "\n",
       "    .dataframe tbody tr th {\n",
       "        vertical-align: top;\n",
       "    }\n",
       "\n",
       "    .dataframe thead th {\n",
       "        text-align: right;\n",
       "    }\n",
       "</style>\n",
       "<table border=\"1\" class=\"dataframe\">\n",
       "  <thead>\n",
       "    <tr style=\"text-align: right;\">\n",
       "      <th></th>\n",
       "      <th>description_model</th>\n",
       "      <th>modifications</th>\n",
       "      <th>public_score</th>\n",
       "      <th>ROC</th>\n",
       "      <th>TN_00</th>\n",
       "      <th>TP_11</th>\n",
       "      <th>FP_01</th>\n",
       "      <th>FN_10</th>\n",
       "    </tr>\n",
       "  </thead>\n",
       "  <tbody>\n",
       "    <tr>\n",
       "      <th>0</th>\n",
       "      <td>baseline_optbasichyper</td>\n",
       "      <td>Polinome3:all6</td>\n",
       "      <td>None</td>\n",
       "      <td>0.737723</td>\n",
       "      <td>8711</td>\n",
       "      <td>1226</td>\n",
       "      <td>4215</td>\n",
       "      <td>608</td>\n",
       "    </tr>\n",
       "    <tr>\n",
       "      <th>1</th>\n",
       "      <td>baseline_optbasichyperCP</td>\n",
       "      <td>Polinome3:all6</td>\n",
       "      <td>None</td>\n",
       "      <td>0.737615</td>\n",
       "      <td>8700</td>\n",
       "      <td>1232</td>\n",
       "      <td>4226</td>\n",
       "      <td>602</td>\n",
       "    </tr>\n",
       "  </tbody>\n",
       "</table>\n",
       "</div>"
      ],
      "text/plain": [
       "          description_model   modifications public_score       ROC  TN_00  \\\n",
       "0    baseline_optbasichyper  Polinome3:all6         None  0.737723   8711   \n",
       "1  baseline_optbasichyperCP  Polinome3:all6         None  0.737615   8700   \n",
       "\n",
       "   TP_11  FP_01  FN_10  \n",
       "0   1226   4215    608  \n",
       "1   1232   4226    602  "
      ]
     },
     "metadata": {},
     "output_type": "display_data"
    }
   ],
   "source": [
    "with open('best_basic_hyperparam.json', 'r') as fp:\n",
    "    params = json.load(fp)\n",
    "with open('best_basic_hyperparam_CP.json', 'r') as fp:\n",
    "    params2 = json.load(fp)\n",
    "params[\"max_iter\"]=5000\n",
    "params2[\"max_iter\"]=5000\n",
    "\n",
    "num_features = ['age', 'decline_app_cnt', 'score_bki', 'bki_request_cnt', 'income', 'days']\n",
    "results_polinome3all=pd.DataFrame(data=None, columns=None)\n",
    "\n",
    "pf = PolynomialFeatures(3)\n",
    "poly_features = pf.fit_transform(data[num_features])\n",
    "new_features=[\"A\"+str(k) for k in range(0,np.shape(poly_features)[1])]\n",
    "\n",
    "df_temp=pd.DataFrame(poly_features,columns=new_features)\n",
    "new_features = new_features[len(num_features)+1:]\n",
    "\n",
    "data_P3all = pd.concat([data, df_temp[new_features]], axis=1)\n",
    "num_features_P3all=num_features+new_features\n",
    "\n",
    "X, Y = prepare_space(data_P3all[~data_P3all._test], num_features_P3all, bin_features, cat_features,\n",
    "                     target)\n",
    "X_train, X_test, y_train, y_test = train_test_split(X, Y, test_size=.2, random_state=RANDOM_SEED)\n",
    "\n",
    "model_1 = LogisticRegression(**params).fit(X_train, y_train)\n",
    "\n",
    "auc = roc_auc_score(y_test, model_1.predict_proba(X_test)[:, 1])\n",
    "cm = confusion_matrix(y_test, model_1.predict(X_test))\n",
    "col = [\"description_model\",\"modifications\",\"public_score\",\"ROC\",\"TN_00\",\"TP_11\",\"FP_01\",\"FN_10\"]\n",
    "cm_line = [cm[k][l] for k,l in [[0,0],[1,1],[0,1],[1,0]]]\n",
    "results_polinome3all = results_polinome3all.append(pd.DataFrame(data=[[\"baseline_optbasichyper\",\n",
    "                                                                       \"Polinome3:all6\",\n",
    "                                                       None,auc,cm_line[0],cm_line[1],cm_line[2],\n",
    "                                                                       cm_line[3]]], \n",
    "                                      columns=col), ignore_index=True)\n",
    "\n",
    "\n",
    "model_2 = LogisticRegression(**params2).fit(X_train, y_train)\n",
    "\n",
    "auc = roc_auc_score(y_test, model_2.predict_proba(X_test)[:, 1])\n",
    "cm = confusion_matrix(y_test, model_2.predict(X_test))\n",
    "col = [\"description_model\",\"modifications\",\"public_score\",\"ROC\",\"TN_00\",\"TP_11\",\"FP_01\",\"FN_10\"]\n",
    "cm_line = [cm[k][l] for k,l in [[0,0],[1,1],[0,1],[1,0]]]\n",
    "results_polinome3all = results_polinome3all.append(pd.DataFrame(data=[[\"baseline_optbasichyperCP\",\n",
    "                                                                       \"Polinome3:all6\",\n",
    "                                                       None,auc,cm_line[0],cm_line[1],cm_line[2],\n",
    "                                                                       cm_line[3]]], \n",
    "                                      columns=col), ignore_index=True)\n",
    "\n",
    "\n",
    "\n",
    "model_P3all1 = model_1\n",
    "model_P3all2 = model_2\n",
    "display(results_polinome3all)"
   ]
  },
  {
   "cell_type": "markdown",
   "metadata": {},
   "source": [
    "как видно, предсказательная способность не растет. не будем брать более выскокие порядки, или другие комбинации этих численных параметров. "
   ]
  },
  {
   "cell_type": "markdown",
   "metadata": {},
   "source": [
    "Оптимизируем опять гиперпараметры, теперь, для случая, когда добавлены полиномы второй степени, что дает лучший результат"
   ]
  },
  {
   "cell_type": "code",
   "execution_count": 64,
   "metadata": {},
   "outputs": [],
   "source": [
    "X, Y = prepare_space(data_P2all[~data_P2all._test], num_features_P2all, bin_features, cat_features, \n",
    "                     target)\n",
    "X_train, X_test, y_train, y_test = train_test_split(X, Y, test_size=.2, random_state=RANDOM_SEED)"
   ]
  },
  {
   "cell_type": "code",
   "execution_count": 88,
   "metadata": {},
   "outputs": [],
   "source": [
    "if opt:# set True if want to optimize hyperparameters\n",
    "    gs = hyper_estimator(X_train,y_train)\n",
    "    param = gs.best_estimator_.get_params()\n",
    "\n",
    "else:\n",
    "    param = {'C': 1.0,\n",
    "    'class_weight': 'balanced',\n",
    "    'dual': False,\n",
    "    'fit_intercept': True,\n",
    "    'intercept_scaling': 1,\n",
    "    'l1_ratio': None,\n",
    "    'max_iter': 200,\n",
    "    'multi_class': 'auto',\n",
    "    'n_jobs': None,\n",
    "    'penalty': 'none',\n",
    "    'random_state': 61,\n",
    "    'solver': 'newton-cg',\n",
    "    'tol': 0.0001,\n",
    "    'verbose': 0,\n",
    "    'warm_start': False} \n",
    "    \n",
    "with open('best_basic_hyperparamP2all.json', 'w') as fp:\n",
    "    json.dump(param, fp)"
   ]
  },
  {
   "cell_type": "code",
   "execution_count": 66,
   "metadata": {},
   "outputs": [
    {
     "data": {
      "image/png": "[encoded data removed]",
      "text/plain": [
       "<Figure size 432x288 with 1 Axes>"
      ]
     },
     "metadata": {
      "needs_background": "light"
     },
     "output_type": "display_data"
    },
    {
     "data": {
      "image/png": "[encoded data removed]",
      "text/plain": [
       "<Figure size 800x300 with 4 Axes>"
      ]
     },
     "metadata": {
      "needs_background": "light"
     },
     "output_type": "display_data"
    }
   ],
   "source": [
    "# проведем тест, с оптимизированными гиперпараметрами\n",
    "with open('best_basic_hyperparamP2all.json', 'r') as fp:\n",
    "    params = json.load(fp)\n",
    "    \n",
    "model = LogisticRegression(**params).fit(X_train, y_train)\n",
    "test_model_roc_cm(X_test,y_test)"
   ]
  },
  {
   "cell_type": "code",
   "execution_count": 92,
   "metadata": {},
   "outputs": [],
   "source": [
    "if opt:# set True if want to optimize hyperparameters\n",
    "    with open('best_basic_hyperparamP2all.json', 'r') as fp:\n",
    "        params = json.load(fp)\n",
    "\n",
    "    params.pop(\"C\")\n",
    "    params.pop(\"max_iter\")\n",
    "    params.pop(\"random_state\")\n",
    "    params.pop(\"penalty\")\n",
    "\n",
    "    # Добавим типы регуляризации\n",
    "    penalty = ['l1', 'l2',\"elasticnet\"]\n",
    "    C = np.linspace(1, 5000, 100) # Зададим ограничения для параметра регуляризации\n",
    "    hyperparameters = dict(C=C, penalty=penalty) # Создадим гиперпараметры\n",
    "\n",
    "    estimator = LogisticRegression(random_state=RANDOM_SEED, max_iter=400, **params)\n",
    "    gs = GridSearchCV(estimator, hyperparameters, n_jobs=-1, scoring='f1', cv=5).fit(X_train, y_train) \n",
    "    param = gs.best_estimator_.get_params()\n",
    "\n",
    "else:\n",
    "    param = {'C': 1111.888888888889,\n",
    " 'class_weight': 'balanced',\n",
    " 'dual': False,\n",
    " 'fit_intercept': True,\n",
    " 'intercept_scaling': 1,\n",
    " 'l1_ratio': None,\n",
    " 'max_iter': 400,\n",
    " 'multi_class': 'auto',\n",
    " 'n_jobs': None,\n",
    " 'penalty': 'l2',\n",
    " 'random_state': 61,\n",
    " 'solver': 'newton-cg',\n",
    " 'tol': 0.0001,\n",
    " 'verbose': 0,\n",
    " 'warm_start': False}\n",
    "    \n",
    "with open('best_basic_hyperparamP2all_CP.json', 'w') as fp:\n",
    "    json.dump(param, fp)"
   ]
  },
  {
   "cell_type": "code",
   "execution_count": 68,
   "metadata": {},
   "outputs": [
    {
     "data": {
      "image/png": "[encoded data removed]",
      "text/plain": [
       "<Figure size 432x288 with 1 Axes>"
      ]
     },
     "metadata": {
      "needs_background": "light"
     },
     "output_type": "display_data"
    },
    {
     "data": {
      "image/png": "[encoded data removed]",
      "text/plain": [
       "<Figure size 800x300 with 4 Axes>"
      ]
     },
     "metadata": {
      "needs_background": "light"
     },
     "output_type": "display_data"
    }
   ],
   "source": [
    "# проведем тест, с оптимизированными гиперпараметрами\n",
    "with open('best_basic_hyperparamP2all_CP.json', 'r') as fp:\n",
    "    params = json.load(fp)\n",
    "    \n",
    "model = LogisticRegression(**params).fit(X_train, y_train)\n",
    "test_model_roc_cm(X_test,y_test)\n"
   ]
  },
  {
   "cell_type": "markdown",
   "metadata": {},
   "source": [
    "# полиномы до 3й степени от численных переменных"
   ]
  },
  {
   "cell_type": "markdown",
   "metadata": {},
   "source": [
    "будем использовать параметры оптимизированные на P2all, так как эти параметры описывают систему, которая ближе к системе с полиномами более высокого порядка"
   ]
  },
  {
   "cell_type": "code",
   "execution_count": 70,
   "metadata": {},
   "outputs": [
    {
     "name": "stderr",
     "output_type": "stream",
     "text": [
      "/opt/conda/lib/python3.7/site-packages/sklearn/utils/optimize.py:212: ConvergenceWarning: newton-cg failed to converge. Increase the number of iterations.\n",
      "  \"number of iterations.\", ConvergenceWarning)\n"
     ]
    },
    {
     "data": {
      "text/html": [
       "<div>\n",
       "<style scoped>\n",
       "    .dataframe tbody tr th:only-of-type {\n",
       "        vertical-align: middle;\n",
       "    }\n",
       "\n",
       "    .dataframe tbody tr th {\n",
       "        vertical-align: top;\n",
       "    }\n",
       "\n",
       "    .dataframe thead th {\n",
       "        text-align: right;\n",
       "    }\n",
       "</style>\n",
       "<table border=\"1\" class=\"dataframe\">\n",
       "  <thead>\n",
       "    <tr style=\"text-align: right;\">\n",
       "      <th></th>\n",
       "      <th>description_model</th>\n",
       "      <th>modifications</th>\n",
       "      <th>public_score</th>\n",
       "      <th>ROC</th>\n",
       "      <th>TN_00</th>\n",
       "      <th>TP_11</th>\n",
       "      <th>FP_01</th>\n",
       "      <th>FN_10</th>\n",
       "    </tr>\n",
       "  </thead>\n",
       "  <tbody>\n",
       "    <tr>\n",
       "      <th>0</th>\n",
       "      <td>baseline_optbasichyper</td>\n",
       "      <td>Polinome3:all6</td>\n",
       "      <td>None</td>\n",
       "      <td>0.737044</td>\n",
       "      <td>8715</td>\n",
       "      <td>1220</td>\n",
       "      <td>4211</td>\n",
       "      <td>614</td>\n",
       "    </tr>\n",
       "    <tr>\n",
       "      <th>1</th>\n",
       "      <td>baseline_optbasichyperCP</td>\n",
       "      <td>Polinome3:all6</td>\n",
       "      <td>None</td>\n",
       "      <td>0.737376</td>\n",
       "      <td>8708</td>\n",
       "      <td>1225</td>\n",
       "      <td>4218</td>\n",
       "      <td>609</td>\n",
       "    </tr>\n",
       "  </tbody>\n",
       "</table>\n",
       "</div>"
      ],
      "text/plain": [
       "          description_model   modifications public_score       ROC  TN_00  \\\n",
       "0    baseline_optbasichyper  Polinome3:all6         None  0.737044   8715   \n",
       "1  baseline_optbasichyperCP  Polinome3:all6         None  0.737376   8708   \n",
       "\n",
       "   TP_11  FP_01  FN_10  \n",
       "0   1220   4211    614  \n",
       "1   1225   4218    609  "
      ]
     },
     "metadata": {},
     "output_type": "display_data"
    }
   ],
   "source": [
    "with open('best_basic_hyperparamP2all.json', 'r') as fp:\n",
    "    params = json.load(fp)\n",
    "with open('best_basic_hyperparamP2all_CP.json', 'r') as fp:\n",
    "    params2 = json.load(fp)\n",
    "params[\"max_iter\"]=2000\n",
    "params2[\"max_iter\"]=2000\n",
    "\n",
    "num_features = ['age', 'decline_app_cnt', 'score_bki', 'bki_request_cnt', 'income', 'days']\n",
    "results_polinome3all=pd.DataFrame(data=None, columns=None)\n",
    "\n",
    "pf = PolynomialFeatures(3)\n",
    "poly_features = pf.fit_transform(data[num_features])\n",
    "new_features=[\"A\"+str(k) for k in range(0,np.shape(poly_features)[1])]\n",
    "\n",
    "df_temp=pd.DataFrame(poly_features,columns=new_features)\n",
    "new_features = new_features[len(num_features)+1:]\n",
    "\n",
    "data_P3all = pd.concat([data, df_temp[new_features]], axis=1)\n",
    "num_features_P3all=num_features+new_features\n",
    "\n",
    "X, Y = prepare_space(data_P3all[~data_P3all._test], num_features_P3all, bin_features, cat_features,\n",
    "                     target)\n",
    "X_train, X_test, y_train, y_test = train_test_split(X, Y, test_size=.2, random_state=RANDOM_SEED)\n",
    "\n",
    "model_1 = LogisticRegression(**params).fit(X_train, y_train)\n",
    "\n",
    "auc = roc_auc_score(y_test, model_1.predict_proba(X_test)[:, 1])\n",
    "cm = confusion_matrix(y_test, model_1.predict(X_test))\n",
    "col = [\"description_model\",\"modifications\",\"public_score\",\"ROC\",\"TN_00\",\"TP_11\",\"FP_01\",\"FN_10\"]\n",
    "cm_line = [cm[k][l] for k,l in [[0,0],[1,1],[0,1],[1,0]]]\n",
    "results_polinome3all = results_polinome3all.append(pd.DataFrame(data=[[\"baseline_optbasichyper\",\n",
    "                                                                       \"Polynome3:all6\",\n",
    "                                                       None,auc,cm_line[0],cm_line[1],cm_line[2],\n",
    "                                                                       cm_line[3]]], \n",
    "                                      columns=col), ignore_index=True)\n",
    "\n",
    "\n",
    "model_2 = LogisticRegression(**params2).fit(X_train, y_train)\n",
    "\n",
    "auc = roc_auc_score(y_test, model_2.predict_proba(X_test)[:, 1])\n",
    "cm = confusion_matrix(y_test, model_2.predict(X_test))\n",
    "col = [\"description_model\",\"modifications\",\"public_score\",\"ROC\",\"TN_00\",\"TP_11\",\"FP_01\",\"FN_10\"]\n",
    "cm_line = [cm[k][l] for k,l in [[0,0],[1,1],[0,1],[1,0]]]\n",
    "results_polinome3all = results_polinome3all.append(pd.DataFrame(data=[[\"baseline_optbasichyperCP\",\n",
    "                                                                       \"Polynome3:all6\",\n",
    "                                                       None,auc,cm_line[0],cm_line[1],cm_line[2],\n",
    "                                                                       cm_line[3]]], \n",
    "                                      columns=col), ignore_index=True)\n",
    "\n",
    "\n",
    "\n",
    "model_P3all1 = model_1\n",
    "model_P3all2 = model_2\n",
    "display(results_polinome3all)"
   ]
  },
  {
   "cell_type": "markdown",
   "metadata": {},
   "source": [
    "# Тестируем типы разбиения данных"
   ]
  },
  {
   "cell_type": "markdown",
   "metadata": {},
   "source": [
    "train_test_split"
   ]
  },
  {
   "cell_type": "code",
   "execution_count": null,
   "metadata": {},
   "outputs": [],
   "source": [
    "X, Y = prepare_space(data0[~data0._test], num_features0, bin_features, cat_features, target)\n",
    "X_train, X_test, y_train, y_test = train_test_split(X, Y, test_size=.2, random_state=RANDOM_SEED)\n",
    "# model = LogisticRegression(random_state=RANDOM_SEED, solver='liblinear').fit(X_train, y_train)\n",
    "model = LogisticRegression(**params).fit(X_train, y_train)\n",
    "proba = model.predict_proba(X_test)[:, 1]\n",
    "test_model_roc_cm(X_test,y_test)\n",
    "\n",
    "0.7335, 8690, 1231, 4236, 603"
   ]
  },
  {
   "cell_type": "markdown",
   "metadata": {},
   "source": [
    "StratifiedShuffleSplit"
   ]
  },
  {
   "cell_type": "code",
   "execution_count": 166,
   "metadata": {},
   "outputs": [
    {
     "data": {
      "text/html": [
       "<div>\n",
       "<style scoped>\n",
       "    .dataframe tbody tr th:only-of-type {\n",
       "        vertical-align: middle;\n",
       "    }\n",
       "\n",
       "    .dataframe tbody tr th {\n",
       "        vertical-align: top;\n",
       "    }\n",
       "\n",
       "    .dataframe thead th {\n",
       "        text-align: right;\n",
       "    }\n",
       "</style>\n",
       "<table border=\"1\" class=\"dataframe\">\n",
       "  <thead>\n",
       "    <tr style=\"text-align: right;\">\n",
       "      <th></th>\n",
       "      <th>description_model</th>\n",
       "      <th>modifications</th>\n",
       "      <th>public_score</th>\n",
       "      <th>ROC</th>\n",
       "      <th>TN_00</th>\n",
       "      <th>TP_11</th>\n",
       "      <th>FP_01</th>\n",
       "      <th>FN_10</th>\n",
       "    </tr>\n",
       "  </thead>\n",
       "  <tbody>\n",
       "    <tr>\n",
       "      <th>0</th>\n",
       "      <td>best_basic_hyperparamP2all</td>\n",
       "      <td>SSS</td>\n",
       "      <td>None</td>\n",
       "      <td>0.737206</td>\n",
       "      <td>8674</td>\n",
       "      <td>1256</td>\n",
       "      <td>4212</td>\n",
       "      <td>618</td>\n",
       "    </tr>\n",
       "    <tr>\n",
       "      <th>1</th>\n",
       "      <td>best_basic_hyperparamP2all_CP</td>\n",
       "      <td>SSS</td>\n",
       "      <td>None</td>\n",
       "      <td>0.737079</td>\n",
       "      <td>8684</td>\n",
       "      <td>1252</td>\n",
       "      <td>4202</td>\n",
       "      <td>622</td>\n",
       "    </tr>\n",
       "  </tbody>\n",
       "</table>\n",
       "</div>"
      ],
      "text/plain": [
       "               description_model modifications public_score       ROC TN_00  \\\n",
       "0     best_basic_hyperparamP2all           SSS         None  0.737206  8674   \n",
       "1  best_basic_hyperparamP2all_CP           SSS         None  0.737079  8684   \n",
       "\n",
       "  TP_11 FP_01 FN_10  \n",
       "0  1256  4212   618  \n",
       "1  1252  4202   622  "
      ]
     },
     "metadata": {},
     "output_type": "display_data"
    }
   ],
   "source": [
    "col = [\"description_model\",\"modifications\",\"public_score\",\"ROC\",\"TN_00\",\"TP_11\",\"FP_01\",\"FN_10\"]\n",
    "results_SSS=pd.DataFrame(data=None,columns=col)   \n",
    "\n",
    "X, Y = prepare_space(data_P2all[~data_P2all._test], num_features_P2all, bin_features, cat_features, target)\n",
    "sss = StratifiedShuffleSplit(n_splits=1, test_size=0.2, random_state=RANDOM_SEED)#RANDOM_SEED\n",
    "train_indices, test_indices = [split for split in sss.split(X, Y)][0]\n",
    "\n",
    "X_train,y_train = X[train_indices],Y[train_indices]\n",
    "X_test,y_test = X[test_indices],Y[test_indices]\n",
    "\n",
    "\n",
    "with open('best_basic_hyperparamP2all.json', 'r') as fp:\n",
    "    params = json.load(fp)\n",
    "model = LogisticRegression(**params).fit(X_train, y_train)\n",
    "auc = roc_auc_score(y_test, model.predict_proba(X_test)[:, 1])\n",
    "cm = confusion_matrix(y_test, model.predict(X_test))\n",
    "\n",
    "cm_line = [cm[k][l] for k,l in [[0,0],[1,1],[0,1],[1,0]]]\n",
    "results_SSS = results_SSS.append(pd.DataFrame(data=[[\"best_basic_hyperparamP2all\",\"SSS\",\n",
    "                                                           None,auc,cm_line[0],cm_line[1],cm_line[2],cm_line[3]]], \n",
    "                                          columns=col), ignore_index=True)\n",
    "\n",
    "model_SSS1 = model\n",
    "\n",
    "with open('best_basic_hyperparamP2all_CP.json', 'r') as fp:\n",
    "    params2 = json.load(fp)# k-fold   \n",
    "model = LogisticRegression(**params2).fit(X_train, y_train)\n",
    "auc = roc_auc_score(y_test, model.predict_proba(X_test)[:, 1])\n",
    "cm = confusion_matrix(y_test, model.predict(X_test))\n",
    "\n",
    "cm_line = [cm[k][l] for k,l in [[0,0],[1,1],[0,1],[1,0]]]\n",
    "results_SSS = results_SSS.append(pd.DataFrame(data=[[\"best_basic_hyperparamP2all_CP\",\"SSS\",\n",
    "                                                           None,auc,cm_line[0],cm_line[1],cm_line[2],cm_line[3]]], \n",
    "                                          columns=col), ignore_index=True)  \n",
    "\n",
    "model_SSS2 = model\n",
    "    \n",
    "display(results_SSS)   "
   ]
  },
  {
   "cell_type": "markdown",
   "metadata": {},
   "source": [
    "StratifiedShuffleSplit немного улучшает предсказательную способность метода, но все еще зависит от разбиения\n",
    "При изначально выбранном разбиении (random seed = RANDOM_SEED) дает наивысший roc auc!"
   ]
  },
  {
   "cell_type": "markdown",
   "metadata": {},
   "source": [
    "Поварьируем параметр случайного разбиения"
   ]
  },
  {
   "cell_type": "code",
   "execution_count": 154,
   "metadata": {},
   "outputs": [
    {
     "data": {
      "text/html": [
       "<div>\n",
       "<style scoped>\n",
       "    .dataframe tbody tr th:only-of-type {\n",
       "        vertical-align: middle;\n",
       "    }\n",
       "\n",
       "    .dataframe tbody tr th {\n",
       "        vertical-align: top;\n",
       "    }\n",
       "\n",
       "    .dataframe thead th {\n",
       "        text-align: right;\n",
       "    }\n",
       "</style>\n",
       "<table border=\"1\" class=\"dataframe\">\n",
       "  <thead>\n",
       "    <tr style=\"text-align: right;\">\n",
       "      <th></th>\n",
       "      <th>description_model</th>\n",
       "      <th>modifications</th>\n",
       "      <th>public_score</th>\n",
       "      <th>ROC</th>\n",
       "      <th>TN_00</th>\n",
       "      <th>TP_11</th>\n",
       "      <th>FP_01</th>\n",
       "      <th>FN_10</th>\n",
       "    </tr>\n",
       "  </thead>\n",
       "  <tbody>\n",
       "    <tr>\n",
       "      <th>0</th>\n",
       "      <td>best_basic_hyperparamP2all</td>\n",
       "      <td>SSS 0</td>\n",
       "      <td>None</td>\n",
       "      <td>0.727555</td>\n",
       "      <td>8568</td>\n",
       "      <td>1240</td>\n",
       "      <td>4318</td>\n",
       "      <td>634</td>\n",
       "    </tr>\n",
       "    <tr>\n",
       "      <th>1</th>\n",
       "      <td>best_basic_hyperparamP2all_CP</td>\n",
       "      <td>SSS 0</td>\n",
       "      <td>None</td>\n",
       "      <td>0.727680</td>\n",
       "      <td>8564</td>\n",
       "      <td>1240</td>\n",
       "      <td>4322</td>\n",
       "      <td>634</td>\n",
       "    </tr>\n",
       "    <tr>\n",
       "      <th>2</th>\n",
       "      <td>best_basic_hyperparamP2all</td>\n",
       "      <td>SSS 1</td>\n",
       "      <td>None</td>\n",
       "      <td>0.741324</td>\n",
       "      <td>8580</td>\n",
       "      <td>1278</td>\n",
       "      <td>4306</td>\n",
       "      <td>596</td>\n",
       "    </tr>\n",
       "    <tr>\n",
       "      <th>3</th>\n",
       "      <td>best_basic_hyperparamP2all_CP</td>\n",
       "      <td>SSS 1</td>\n",
       "      <td>None</td>\n",
       "      <td>0.741274</td>\n",
       "      <td>8584</td>\n",
       "      <td>1278</td>\n",
       "      <td>4302</td>\n",
       "      <td>596</td>\n",
       "    </tr>\n",
       "    <tr>\n",
       "      <th>4</th>\n",
       "      <td>best_basic_hyperparamP2all</td>\n",
       "      <td>SSS 2</td>\n",
       "      <td>None</td>\n",
       "      <td>0.735070</td>\n",
       "      <td>8630</td>\n",
       "      <td>1254</td>\n",
       "      <td>4256</td>\n",
       "      <td>620</td>\n",
       "    </tr>\n",
       "    <tr>\n",
       "      <th>5</th>\n",
       "      <td>best_basic_hyperparamP2all_CP</td>\n",
       "      <td>SSS 2</td>\n",
       "      <td>None</td>\n",
       "      <td>0.735059</td>\n",
       "      <td>8625</td>\n",
       "      <td>1257</td>\n",
       "      <td>4261</td>\n",
       "      <td>617</td>\n",
       "    </tr>\n",
       "    <tr>\n",
       "      <th>6</th>\n",
       "      <td>best_basic_hyperparamP2all</td>\n",
       "      <td>SSS 3</td>\n",
       "      <td>None</td>\n",
       "      <td>0.730644</td>\n",
       "      <td>8577</td>\n",
       "      <td>1250</td>\n",
       "      <td>4309</td>\n",
       "      <td>624</td>\n",
       "    </tr>\n",
       "    <tr>\n",
       "      <th>7</th>\n",
       "      <td>best_basic_hyperparamP2all_CP</td>\n",
       "      <td>SSS 3</td>\n",
       "      <td>None</td>\n",
       "      <td>0.730861</td>\n",
       "      <td>8569</td>\n",
       "      <td>1251</td>\n",
       "      <td>4317</td>\n",
       "      <td>623</td>\n",
       "    </tr>\n",
       "    <tr>\n",
       "      <th>8</th>\n",
       "      <td>best_basic_hyperparamP2all</td>\n",
       "      <td>SSS 4</td>\n",
       "      <td>None</td>\n",
       "      <td>0.742062</td>\n",
       "      <td>8595</td>\n",
       "      <td>1278</td>\n",
       "      <td>4291</td>\n",
       "      <td>596</td>\n",
       "    </tr>\n",
       "    <tr>\n",
       "      <th>9</th>\n",
       "      <td>best_basic_hyperparamP2all_CP</td>\n",
       "      <td>SSS 4</td>\n",
       "      <td>None</td>\n",
       "      <td>0.742119</td>\n",
       "      <td>8600</td>\n",
       "      <td>1282</td>\n",
       "      <td>4286</td>\n",
       "      <td>592</td>\n",
       "    </tr>\n",
       "    <tr>\n",
       "      <th>10</th>\n",
       "      <td>best_basic_hyperparamP2all</td>\n",
       "      <td>SSS 5</td>\n",
       "      <td>None</td>\n",
       "      <td>0.742583</td>\n",
       "      <td>8632</td>\n",
       "      <td>1283</td>\n",
       "      <td>4254</td>\n",
       "      <td>591</td>\n",
       "    </tr>\n",
       "    <tr>\n",
       "      <th>11</th>\n",
       "      <td>best_basic_hyperparamP2all_CP</td>\n",
       "      <td>SSS 5</td>\n",
       "      <td>None</td>\n",
       "      <td>0.742486</td>\n",
       "      <td>8627</td>\n",
       "      <td>1287</td>\n",
       "      <td>4259</td>\n",
       "      <td>587</td>\n",
       "    </tr>\n",
       "    <tr>\n",
       "      <th>12</th>\n",
       "      <td>best_basic_hyperparamP2all</td>\n",
       "      <td>SSS 6</td>\n",
       "      <td>None</td>\n",
       "      <td>0.747101</td>\n",
       "      <td>8600</td>\n",
       "      <td>1326</td>\n",
       "      <td>4286</td>\n",
       "      <td>548</td>\n",
       "    </tr>\n",
       "    <tr>\n",
       "      <th>13</th>\n",
       "      <td>best_basic_hyperparamP2all_CP</td>\n",
       "      <td>SSS 6</td>\n",
       "      <td>None</td>\n",
       "      <td>0.747161</td>\n",
       "      <td>8589</td>\n",
       "      <td>1327</td>\n",
       "      <td>4297</td>\n",
       "      <td>547</td>\n",
       "    </tr>\n",
       "    <tr>\n",
       "      <th>14</th>\n",
       "      <td>best_basic_hyperparamP2all</td>\n",
       "      <td>SSS 7</td>\n",
       "      <td>None</td>\n",
       "      <td>0.726396</td>\n",
       "      <td>8579</td>\n",
       "      <td>1247</td>\n",
       "      <td>4307</td>\n",
       "      <td>627</td>\n",
       "    </tr>\n",
       "    <tr>\n",
       "      <th>15</th>\n",
       "      <td>best_basic_hyperparamP2all_CP</td>\n",
       "      <td>SSS 7</td>\n",
       "      <td>None</td>\n",
       "      <td>0.726327</td>\n",
       "      <td>8568</td>\n",
       "      <td>1251</td>\n",
       "      <td>4318</td>\n",
       "      <td>623</td>\n",
       "    </tr>\n",
       "    <tr>\n",
       "      <th>16</th>\n",
       "      <td>best_basic_hyperparamP2all</td>\n",
       "      <td>SSS 8</td>\n",
       "      <td>None</td>\n",
       "      <td>0.732296</td>\n",
       "      <td>8603</td>\n",
       "      <td>1265</td>\n",
       "      <td>4283</td>\n",
       "      <td>609</td>\n",
       "    </tr>\n",
       "    <tr>\n",
       "      <th>17</th>\n",
       "      <td>best_basic_hyperparamP2all_CP</td>\n",
       "      <td>SSS 8</td>\n",
       "      <td>None</td>\n",
       "      <td>0.732232</td>\n",
       "      <td>8592</td>\n",
       "      <td>1265</td>\n",
       "      <td>4294</td>\n",
       "      <td>609</td>\n",
       "    </tr>\n",
       "    <tr>\n",
       "      <th>18</th>\n",
       "      <td>best_basic_hyperparamP2all</td>\n",
       "      <td>SSS 9</td>\n",
       "      <td>None</td>\n",
       "      <td>0.734776</td>\n",
       "      <td>8654</td>\n",
       "      <td>1252</td>\n",
       "      <td>4232</td>\n",
       "      <td>622</td>\n",
       "    </tr>\n",
       "    <tr>\n",
       "      <th>19</th>\n",
       "      <td>best_basic_hyperparamP2all_CP</td>\n",
       "      <td>SSS 9</td>\n",
       "      <td>None</td>\n",
       "      <td>0.734844</td>\n",
       "      <td>8664</td>\n",
       "      <td>1257</td>\n",
       "      <td>4222</td>\n",
       "      <td>617</td>\n",
       "    </tr>\n",
       "  </tbody>\n",
       "</table>\n",
       "</div>"
      ],
      "text/plain": [
       "                description_model modifications public_score       ROC TN_00  \\\n",
       "0      best_basic_hyperparamP2all         SSS 0         None  0.727555  8568   \n",
       "1   best_basic_hyperparamP2all_CP         SSS 0         None  0.727680  8564   \n",
       "2      best_basic_hyperparamP2all         SSS 1         None  0.741324  8580   \n",
       "3   best_basic_hyperparamP2all_CP         SSS 1         None  0.741274  8584   \n",
       "4      best_basic_hyperparamP2all         SSS 2         None  0.735070  8630   \n",
       "5   best_basic_hyperparamP2all_CP         SSS 2         None  0.735059  8625   \n",
       "6      best_basic_hyperparamP2all         SSS 3         None  0.730644  8577   \n",
       "7   best_basic_hyperparamP2all_CP         SSS 3         None  0.730861  8569   \n",
       "8      best_basic_hyperparamP2all         SSS 4         None  0.742062  8595   \n",
       "9   best_basic_hyperparamP2all_CP         SSS 4         None  0.742119  8600   \n",
       "10     best_basic_hyperparamP2all         SSS 5         None  0.742583  8632   \n",
       "11  best_basic_hyperparamP2all_CP         SSS 5         None  0.742486  8627   \n",
       "12     best_basic_hyperparamP2all         SSS 6         None  0.747101  8600   \n",
       "13  best_basic_hyperparamP2all_CP         SSS 6         None  0.747161  8589   \n",
       "14     best_basic_hyperparamP2all         SSS 7         None  0.726396  8579   \n",
       "15  best_basic_hyperparamP2all_CP         SSS 7         None  0.726327  8568   \n",
       "16     best_basic_hyperparamP2all         SSS 8         None  0.732296  8603   \n",
       "17  best_basic_hyperparamP2all_CP         SSS 8         None  0.732232  8592   \n",
       "18     best_basic_hyperparamP2all         SSS 9         None  0.734776  8654   \n",
       "19  best_basic_hyperparamP2all_CP         SSS 9         None  0.734844  8664   \n",
       "\n",
       "   TP_11 FP_01 FN_10  \n",
       "0   1240  4318   634  \n",
       "1   1240  4322   634  \n",
       "2   1278  4306   596  \n",
       "3   1278  4302   596  \n",
       "4   1254  4256   620  \n",
       "5   1257  4261   617  \n",
       "6   1250  4309   624  \n",
       "7   1251  4317   623  \n",
       "8   1278  4291   596  \n",
       "9   1282  4286   592  \n",
       "10  1283  4254   591  \n",
       "11  1287  4259   587  \n",
       "12  1326  4286   548  \n",
       "13  1327  4297   547  \n",
       "14  1247  4307   627  \n",
       "15  1251  4318   623  \n",
       "16  1265  4283   609  \n",
       "17  1265  4294   609  \n",
       "18  1252  4232   622  \n",
       "19  1257  4222   617  "
      ]
     },
     "metadata": {},
     "output_type": "display_data"
    },
    {
     "data": {
      "text/html": [
       "<div>\n",
       "<style scoped>\n",
       "    .dataframe tbody tr th:only-of-type {\n",
       "        vertical-align: middle;\n",
       "    }\n",
       "\n",
       "    .dataframe tbody tr th {\n",
       "        vertical-align: top;\n",
       "    }\n",
       "\n",
       "    .dataframe thead th {\n",
       "        text-align: right;\n",
       "    }\n",
       "</style>\n",
       "<table border=\"1\" class=\"dataframe\">\n",
       "  <thead>\n",
       "    <tr style=\"text-align: right;\">\n",
       "      <th></th>\n",
       "      <th>description_model</th>\n",
       "      <th>modifications</th>\n",
       "      <th>public_score</th>\n",
       "      <th>ROC</th>\n",
       "      <th>TN_00</th>\n",
       "      <th>TP_11</th>\n",
       "      <th>FP_01</th>\n",
       "      <th>FN_10</th>\n",
       "    </tr>\n",
       "  </thead>\n",
       "  <tbody>\n",
       "    <tr>\n",
       "      <th>13</th>\n",
       "      <td>best_basic_hyperparamP2all_CP</td>\n",
       "      <td>SSS 6</td>\n",
       "      <td>None</td>\n",
       "      <td>0.747161</td>\n",
       "      <td>8589</td>\n",
       "      <td>1327</td>\n",
       "      <td>4297</td>\n",
       "      <td>547</td>\n",
       "    </tr>\n",
       "  </tbody>\n",
       "</table>\n",
       "</div>"
      ],
      "text/plain": [
       "                description_model modifications public_score       ROC TN_00  \\\n",
       "13  best_basic_hyperparamP2all_CP         SSS 6         None  0.747161  8589   \n",
       "\n",
       "   TP_11 FP_01 FN_10  \n",
       "13  1327  4297   547  "
      ]
     },
     "execution_count": 154,
     "metadata": {},
     "output_type": "execute_result"
    }
   ],
   "source": [
    "col = [\"description_model\",\"modifications\",\"public_score\",\"ROC\",\"TN_00\",\"TP_11\",\"FP_01\",\"FN_10\"]\n",
    "results_SSS=pd.DataFrame(data=None,columns=col)   \n",
    "\n",
    "X, Y = prepare_space(data_P2all[~data_P2all._test], num_features_P2all, bin_features, cat_features, target)\n",
    "\n",
    "for random_S in range(0,10):\n",
    "    sss = StratifiedShuffleSplit(n_splits=1, test_size=0.2, random_state=random_S)\n",
    "    train_indices, test_indices = [split for split in sss.split(X, Y)][0]\n",
    "\n",
    "    X_train,y_train = X[train_indices],Y[train_indices]\n",
    "    X_test,y_test = X[test_indices],Y[test_indices]\n",
    "\n",
    "\n",
    "    with open('best_basic_hyperparamP2all.json', 'r') as fp:\n",
    "        params = json.load(fp)\n",
    "    model = LogisticRegression(**params).fit(X_train, y_train)\n",
    "    auc = roc_auc_score(y_test, model.predict_proba(X_test)[:, 1])\n",
    "    cm = confusion_matrix(y_test, model.predict(X_test))\n",
    "\n",
    "    cm_line = [cm[k][l] for k,l in [[0,0],[1,1],[0,1],[1,0]]]\n",
    "    results_SSS = results_SSS.append(pd.DataFrame(data=[[\"best_basic_hyperparamP2all\",f\"SSS {random_S}\",\n",
    "                                                               None,auc,cm_line[0],cm_line[1],cm_line[2],cm_line[3]]], \n",
    "                                              columns=col), ignore_index=True)\n",
    "\n",
    "    with open('best_basic_hyperparamP2all_CP.json', 'r') as fp:\n",
    "        params2 = json.load(fp)# k-fold   \n",
    "    model = LogisticRegression(**params2).fit(X_train, y_train)\n",
    "    auc = roc_auc_score(y_test, model.predict_proba(X_test)[:, 1])\n",
    "    cm = confusion_matrix(y_test, model.predict(X_test))\n",
    "\n",
    "    cm_line = [cm[k][l] for k,l in [[0,0],[1,1],[0,1],[1,0]]]\n",
    "    results_SSS = results_SSS.append(pd.DataFrame(data=[[\"best_basic_hyperparamP2all_CP\",f\"SSS {random_S}\",\n",
    "                                                               None,auc,cm_line[0],cm_line[1],cm_line[2],cm_line[3]]], \n",
    "                                              columns=col), ignore_index=True) \n",
    "\n",
    "display(results_SSS)   \n",
    "results_SSS.loc[results_SSS[\"ROC\"].max()==results_SSS[\"ROC\"]]"
   ]
  },
  {
   "cell_type": "markdown",
   "metadata": {},
   "source": [
    "варьирование разбиения изменяет roc auc в пределах примерно 0.01, что будет также показано ниже используя kFold разбиение. Модель конечно устойчива, но возможно не достаточно. Возьмем наилучшее случайное разбиение в диапазоне от 0 до 10, как было протестировано тут и протестируем на пабилк борде.\n",
    "\n",
    "В тесте это дает лучший результат, но на паблик борде результат ухудшается. Оставим изначальное разбиение"
   ]
  },
  {
   "cell_type": "code",
   "execution_count": 162,
   "metadata": {},
   "outputs": [
    {
     "name": "stdout",
     "output_type": "stream",
     "text": [
      "itteration 1 out of 5\n",
      "itteration 2 out of 5\n",
      "itteration 3 out of 5\n",
      "itteration 4 out of 5\n",
      "itteration 5 out of 5\n"
     ]
    },
    {
     "data": {
      "text/html": [
       "<div>\n",
       "<style scoped>\n",
       "    .dataframe tbody tr th:only-of-type {\n",
       "        vertical-align: middle;\n",
       "    }\n",
       "\n",
       "    .dataframe tbody tr th {\n",
       "        vertical-align: top;\n",
       "    }\n",
       "\n",
       "    .dataframe thead th {\n",
       "        text-align: right;\n",
       "    }\n",
       "</style>\n",
       "<table border=\"1\" class=\"dataframe\">\n",
       "  <thead>\n",
       "    <tr style=\"text-align: right;\">\n",
       "      <th></th>\n",
       "      <th>description_model</th>\n",
       "      <th>modifications</th>\n",
       "      <th>public_score</th>\n",
       "      <th>ROC</th>\n",
       "      <th>TN_00</th>\n",
       "      <th>TP_11</th>\n",
       "      <th>FP_01</th>\n",
       "      <th>FN_10</th>\n",
       "    </tr>\n",
       "  </thead>\n",
       "  <tbody>\n",
       "    <tr>\n",
       "      <th>0</th>\n",
       "      <td>best_basic_hyperparamP2all</td>\n",
       "      <td>kFold index 1</td>\n",
       "      <td>None</td>\n",
       "      <td>0.739007</td>\n",
       "      <td>8708</td>\n",
       "      <td>1260</td>\n",
       "      <td>4182</td>\n",
       "      <td>610</td>\n",
       "    </tr>\n",
       "    <tr>\n",
       "      <th>1</th>\n",
       "      <td>best_basic_hyperparamP2all</td>\n",
       "      <td>kFold index 2</td>\n",
       "      <td>None</td>\n",
       "      <td>0.729716</td>\n",
       "      <td>8753</td>\n",
       "      <td>1201</td>\n",
       "      <td>4197</td>\n",
       "      <td>609</td>\n",
       "    </tr>\n",
       "    <tr>\n",
       "      <th>2</th>\n",
       "      <td>best_basic_hyperparamP2all</td>\n",
       "      <td>kFold index 3</td>\n",
       "      <td>None</td>\n",
       "      <td>0.737177</td>\n",
       "      <td>8607</td>\n",
       "      <td>1305</td>\n",
       "      <td>4253</td>\n",
       "      <td>595</td>\n",
       "    </tr>\n",
       "    <tr>\n",
       "      <th>3</th>\n",
       "      <td>best_basic_hyperparamP2all</td>\n",
       "      <td>kFold index 4</td>\n",
       "      <td>None</td>\n",
       "      <td>0.748459</td>\n",
       "      <td>8538</td>\n",
       "      <td>1335</td>\n",
       "      <td>4317</td>\n",
       "      <td>570</td>\n",
       "    </tr>\n",
       "    <tr>\n",
       "      <th>4</th>\n",
       "      <td>best_basic_hyperparamP2all</td>\n",
       "      <td>kFold index 5</td>\n",
       "      <td>None</td>\n",
       "      <td>0.722762</td>\n",
       "      <td>8605</td>\n",
       "      <td>1223</td>\n",
       "      <td>4267</td>\n",
       "      <td>664</td>\n",
       "    </tr>\n",
       "  </tbody>\n",
       "</table>\n",
       "</div>"
      ],
      "text/plain": [
       "            description_model  modifications public_score       ROC TN_00  \\\n",
       "0  best_basic_hyperparamP2all  kFold index 1         None  0.739007  8708   \n",
       "1  best_basic_hyperparamP2all  kFold index 2         None  0.729716  8753   \n",
       "2  best_basic_hyperparamP2all  kFold index 3         None  0.737177  8607   \n",
       "3  best_basic_hyperparamP2all  kFold index 4         None  0.748459  8538   \n",
       "4  best_basic_hyperparamP2all  kFold index 5         None  0.722762  8605   \n",
       "\n",
       "  TP_11 FP_01 FN_10  \n",
       "0  1260  4182   610  \n",
       "1  1201  4197   609  \n",
       "2  1305  4253   595  \n",
       "3  1335  4317   570  \n",
       "4  1223  4267   664  "
      ]
     },
     "metadata": {},
     "output_type": "display_data"
    },
    {
     "data": {
      "text/html": [
       "<div>\n",
       "<style scoped>\n",
       "    .dataframe tbody tr th:only-of-type {\n",
       "        vertical-align: middle;\n",
       "    }\n",
       "\n",
       "    .dataframe tbody tr th {\n",
       "        vertical-align: top;\n",
       "    }\n",
       "\n",
       "    .dataframe thead th {\n",
       "        text-align: right;\n",
       "    }\n",
       "</style>\n",
       "<table border=\"1\" class=\"dataframe\">\n",
       "  <thead>\n",
       "    <tr style=\"text-align: right;\">\n",
       "      <th></th>\n",
       "      <th>description_model</th>\n",
       "      <th>modifications</th>\n",
       "      <th>public_score</th>\n",
       "      <th>ROC</th>\n",
       "      <th>TN_00</th>\n",
       "      <th>TP_11</th>\n",
       "      <th>FP_01</th>\n",
       "      <th>FN_10</th>\n",
       "    </tr>\n",
       "  </thead>\n",
       "  <tbody>\n",
       "    <tr>\n",
       "      <th>0</th>\n",
       "      <td>best_basic_hyperparamP2allCP</td>\n",
       "      <td>kFold index 1</td>\n",
       "      <td>None</td>\n",
       "      <td>0.739162</td>\n",
       "      <td>8681</td>\n",
       "      <td>1260</td>\n",
       "      <td>4209</td>\n",
       "      <td>610</td>\n",
       "    </tr>\n",
       "    <tr>\n",
       "      <th>1</th>\n",
       "      <td>best_basic_hyperparamP2allCP</td>\n",
       "      <td>kFold index 2</td>\n",
       "      <td>None</td>\n",
       "      <td>0.729723</td>\n",
       "      <td>8748</td>\n",
       "      <td>1207</td>\n",
       "      <td>4202</td>\n",
       "      <td>603</td>\n",
       "    </tr>\n",
       "    <tr>\n",
       "      <th>2</th>\n",
       "      <td>best_basic_hyperparamP2allCP</td>\n",
       "      <td>kFold index 3</td>\n",
       "      <td>None</td>\n",
       "      <td>0.737108</td>\n",
       "      <td>8599</td>\n",
       "      <td>1303</td>\n",
       "      <td>4261</td>\n",
       "      <td>597</td>\n",
       "    </tr>\n",
       "    <tr>\n",
       "      <th>3</th>\n",
       "      <td>best_basic_hyperparamP2allCP</td>\n",
       "      <td>kFold index 4</td>\n",
       "      <td>None</td>\n",
       "      <td>0.748329</td>\n",
       "      <td>8533</td>\n",
       "      <td>1335</td>\n",
       "      <td>4322</td>\n",
       "      <td>570</td>\n",
       "    </tr>\n",
       "    <tr>\n",
       "      <th>4</th>\n",
       "      <td>best_basic_hyperparamP2allCP</td>\n",
       "      <td>kFold index 5</td>\n",
       "      <td>None</td>\n",
       "      <td>0.722800</td>\n",
       "      <td>8597</td>\n",
       "      <td>1223</td>\n",
       "      <td>4275</td>\n",
       "      <td>664</td>\n",
       "    </tr>\n",
       "  </tbody>\n",
       "</table>\n",
       "</div>"
      ],
      "text/plain": [
       "              description_model  modifications public_score       ROC TN_00  \\\n",
       "0  best_basic_hyperparamP2allCP  kFold index 1         None  0.739162  8681   \n",
       "1  best_basic_hyperparamP2allCP  kFold index 2         None  0.729723  8748   \n",
       "2  best_basic_hyperparamP2allCP  kFold index 3         None  0.737108  8599   \n",
       "3  best_basic_hyperparamP2allCP  kFold index 4         None  0.748329  8533   \n",
       "4  best_basic_hyperparamP2allCP  kFold index 5         None  0.722800  8597   \n",
       "\n",
       "  TP_11 FP_01 FN_10  \n",
       "0  1260  4209   610  \n",
       "1  1207  4202   603  \n",
       "2  1303  4261   597  \n",
       "3  1335  4322   570  \n",
       "4  1223  4275   664  "
      ]
     },
     "metadata": {},
     "output_type": "display_data"
    }
   ],
   "source": [
    "with open('best_basic_hyperparamP2all.json', 'r') as fp:\n",
    "    params = json.load(fp)\n",
    "with open('best_basic_hyperparamP2all_CP.json', 'r') as fp:\n",
    "    params2 = json.load(fp)# k-fold\n",
    "\n",
    "\n",
    "X, Y = prepare_space(data_P2all[~data_P2all._test], num_features_P2all, bin_features, cat_features, target)\n",
    "kf = KFold(n_splits=5, shuffle=False)\n",
    "col = [\"description_model\",\"modifications\",\"public_score\",\"ROC\",\"TN_00\",\"TP_11\",\"FP_01\",\"FN_10\"]\n",
    "results_kFold=pd.DataFrame(data=None,columns=col)\n",
    "\n",
    "results_kFold2=pd.DataFrame(data=None,columns=col)\n",
    "\n",
    "index = 0\n",
    "for train_indices, test_indices in kf.split(X):\n",
    "    index+=1\n",
    "    print(\"itteration\",index,\"out of\",kf.n_splits)\n",
    "    X_train,y_train = X[train_indices],Y[train_indices]\n",
    "    X_test,y_test = X[test_indices],Y[test_indices]\n",
    "    \n",
    "    model = LogisticRegression(**params).fit(X_train, y_train)\n",
    "    \n",
    "    auc = roc_auc_score(y_test, model.predict_proba(X_test)[:, 1])\n",
    "    cm = confusion_matrix(y_test, model.predict(X_test))\n",
    "    \n",
    "    cm_line = [cm[k][l] for k,l in [[0,0],[1,1],[0,1],[1,0]]]\n",
    "    results_kFold = results_kFold.append(pd.DataFrame(data=[[\"best_basic_hyperparamP2all\",f\"kFold index {index:.0f}\",\n",
    "                                                               None,auc,cm_line[0],cm_line[1],cm_line[2],cm_line[3]]], \n",
    "                                              columns=col), ignore_index=True)\n",
    "\n",
    "    model = LogisticRegression(**params2).fit(X_train, y_train)\n",
    "    \n",
    "    auc = roc_auc_score(y_test, model.predict_proba(X_test)[:, 1])\n",
    "    cm = confusion_matrix(y_test, model.predict(X_test))\n",
    "    \n",
    "    cm_line = [cm[k][l] for k,l in [[0,0],[1,1],[0,1],[1,0]]]\n",
    "    results_kFold2 = results_kFold2.append(pd.DataFrame(data=[[\"best_basic_hyperparamP2allCP\",f\"kFold index {index:.0f}\",\n",
    "                                                               None,auc,cm_line[0],cm_line[1],cm_line[2],cm_line[3]]], \n",
    "                                              columns=col), ignore_index=True)\n",
    "\n",
    "    \n",
    "    \n",
    "display(results_kFold)\n",
    "display(results_kFold2)"
   ]
  },
  {
   "cell_type": "code",
   "execution_count": 163,
   "metadata": {},
   "outputs": [
    {
     "data": {
      "text/plain": [
       "'ROC_hyper1 = 0.735424 +- 0.009730'"
      ]
     },
     "metadata": {},
     "output_type": "display_data"
    },
    {
     "data": {
      "text/plain": [
       "'ROC_hyper2 = 0.735424 +- 0.009685'"
      ]
     },
     "metadata": {},
     "output_type": "display_data"
    }
   ],
   "source": [
    "display(f\"ROC_hyper1 = {results_kFold.ROC.mean():.6f} +- {results_kFold.ROC.std():.6f}\")\n",
    "display(f\"ROC_hyper2 = {results_kFold2.ROC.mean():.6f} +- {results_kFold2.ROC.std():.6f}\")"
   ]
  },
  {
   "cell_type": "markdown",
   "metadata": {},
   "source": [
    "Метрики, и матрица ошибок совподают в пределах погрешности с обычной разбивкой, поэтому модель можно считать устойчивой "
   ]
  },
  {
   "cell_type": "markdown",
   "metadata": {},
   "source": [
    "# Публикуем данные"
   ]
  },
  {
   "cell_type": "code",
   "execution_count": 80,
   "metadata": {},
   "outputs": [],
   "source": [
    "# P6all with hyp opt for P2all\n",
    "# model = model_P3all1\n",
    "# model = model_P3all1\n",
    "# S, _ = prepare_space(data_P3all[data_P3all._test], num_features_P3all, bin_features, cat_features, target)"
   ]
  },
  {
   "cell_type": "code",
   "execution_count": null,
   "metadata": {},
   "outputs": [],
   "source": [
    "col = [\"description_model\",\"modifications\",\"public_score\",\"ROC\",\"TN_00\",\"TP_11\",\"FP_01\",\"FN_10\"]\n",
    "\n",
    "X, Y = prepare_space(data_P2all[~data_P2all._test], num_features_P2all, bin_features, cat_features, target)\n",
    "\n",
    "with open('best_basic_hyperparamP2all.json', 'r') as fp:\n",
    "    params = json.load(fp)\n",
    "model = LogisticRegression(**params).fit(X, Y)\n",
    "\n",
    "model_P2allF = model"
   ]
  },
  {
   "cell_type": "code",
   "execution_count": 169,
   "metadata": {},
   "outputs": [],
   "source": [
    "#P2all, be sure that right model was tested\n",
    "# модель, которая предсказывает лучший roc_auc и profit\n",
    "# model = model_P2all1\n",
    "# model = model_P2all2\n",
    "# model = model_SSS1 # higherst roc_auc!\n",
    "# model = model_SSS2\n",
    "model = model_P2allF\n",
    "S, _ = prepare_space(data_P2all[data_P2all._test], num_features_P2all, bin_features, cat_features, target)"
   ]
  },
  {
   "cell_type": "code",
   "execution_count": 170,
   "metadata": {},
   "outputs": [],
   "source": [
    "# data without polinomes \n",
    "# S, _ = prepare_space(data[data._test], num_features, bin_features, cat_features, target)"
   ]
  },
  {
   "cell_type": "code",
   "execution_count": 171,
   "metadata": {},
   "outputs": [],
   "source": [
    "predict_submission = model.predict_proba(S)[:,1]\n",
    "\n",
    "sample_submission = data[data._test][['client_id', target]]\n",
    "sample_submission[target] = predict_submission\n",
    "sample_submission.to_csv('submission.csv', index=False)"
   ]
  },
  {
   "cell_type": "markdown",
   "metadata": {},
   "source": [
    "# Анализируем прикладную возможность такой модели"
   ]
  },
  {
   "cell_type": "code",
   "execution_count": 165,
   "metadata": {},
   "outputs": [
    {
     "data": {
      "text/html": [
       "<div>\n",
       "<style scoped>\n",
       "    .dataframe tbody tr th:only-of-type {\n",
       "        vertical-align: middle;\n",
       "    }\n",
       "\n",
       "    .dataframe tbody tr th {\n",
       "        vertical-align: top;\n",
       "    }\n",
       "\n",
       "    .dataframe thead th {\n",
       "        text-align: right;\n",
       "    }\n",
       "</style>\n",
       "<table border=\"1\" class=\"dataframe\">\n",
       "  <thead>\n",
       "    <tr style=\"text-align: right;\">\n",
       "      <th></th>\n",
       "      <th>description_model</th>\n",
       "      <th>modifications</th>\n",
       "      <th>public_score</th>\n",
       "      <th>ROC</th>\n",
       "      <th>TN_00</th>\n",
       "      <th>TP_11</th>\n",
       "      <th>FP_01</th>\n",
       "      <th>FN_10</th>\n",
       "      <th>profit</th>\n",
       "      <th>profit%</th>\n",
       "      <th>profit_loss</th>\n",
       "    </tr>\n",
       "  </thead>\n",
       "  <tbody>\n",
       "    <tr>\n",
       "      <th>0</th>\n",
       "      <td>divine knowledge</td>\n",
       "      <td>None</td>\n",
       "      <td>1</td>\n",
       "      <td>1</td>\n",
       "      <td>12926</td>\n",
       "      <td>1834</td>\n",
       "      <td>0</td>\n",
       "      <td>0</td>\n",
       "      <td>1292.6</td>\n",
       "      <td>1</td>\n",
       "      <td>0</td>\n",
       "    </tr>\n",
       "    <tr>\n",
       "      <th>14</th>\n",
       "      <td>baseline_best_hyperparam2_auc</td>\n",
       "      <td>log(num_features)_Polinome2:all6 edu_nan2SCH:all</td>\n",
       "      <td>0.73832</td>\n",
       "      <td>0.738478</td>\n",
       "      <td>12873</td>\n",
       "      <td>48</td>\n",
       "      <td>53</td>\n",
       "      <td>1786</td>\n",
       "      <td>394.3</td>\n",
       "      <td>0.305044</td>\n",
       "      <td>-898.3</td>\n",
       "    </tr>\n",
       "    <tr>\n",
       "      <th>19</th>\n",
       "      <td>best_basic_hyperparamP2all</td>\n",
       "      <td>SSS</td>\n",
       "      <td>0.73832</td>\n",
       "      <td>0.737206</td>\n",
       "      <td>8674</td>\n",
       "      <td>1256</td>\n",
       "      <td>4212</td>\n",
       "      <td>618</td>\n",
       "      <td>558.4</td>\n",
       "      <td>0.431998</td>\n",
       "      <td>-734.2</td>\n",
       "    </tr>\n",
       "    <tr>\n",
       "      <th>16</th>\n",
       "      <td>best_basic_hyperparamP2all</td>\n",
       "      <td>best_basic_hyperparamP2all</td>\n",
       "      <td>0.73822</td>\n",
       "      <td>0.7382</td>\n",
       "      <td>8709</td>\n",
       "      <td>1230</td>\n",
       "      <td>4217</td>\n",
       "      <td>604</td>\n",
       "      <td>568.9</td>\n",
       "      <td>0.440121</td>\n",
       "      <td>-723.7</td>\n",
       "    </tr>\n",
       "    <tr>\n",
       "      <th>12</th>\n",
       "      <td>baseline_best_hyperparam</td>\n",
       "      <td>log(num_features)_Polinome2:all6 edu_nan2SCH:all</td>\n",
       "      <td>0.73822</td>\n",
       "      <td>0.738243</td>\n",
       "      <td>8709</td>\n",
       "      <td>1230</td>\n",
       "      <td>4217</td>\n",
       "      <td>604</td>\n",
       "      <td>568.9</td>\n",
       "      <td>0.440121</td>\n",
       "      <td>-723.7</td>\n",
       "    </tr>\n",
       "    <tr>\n",
       "      <th>18</th>\n",
       "      <td>baseline_optbasichyperCP</td>\n",
       "      <td>Polinome3:all6</td>\n",
       "      <td>0.73821</td>\n",
       "      <td>0.737376</td>\n",
       "      <td>8708</td>\n",
       "      <td>1225</td>\n",
       "      <td>4218</td>\n",
       "      <td>609</td>\n",
       "      <td>566.3</td>\n",
       "      <td>0.438109</td>\n",
       "      <td>-726.3</td>\n",
       "    </tr>\n",
       "    <tr>\n",
       "      <th>20</th>\n",
       "      <td>baseline_optbasichyperCP</td>\n",
       "      <td>SSS</td>\n",
       "      <td>0.73815</td>\n",
       "      <td>0.737079</td>\n",
       "      <td>8684</td>\n",
       "      <td>1252</td>\n",
       "      <td>4202</td>\n",
       "      <td>622</td>\n",
       "      <td>557.4</td>\n",
       "      <td>0.431224</td>\n",
       "      <td>-735.2</td>\n",
       "    </tr>\n",
       "    <tr>\n",
       "      <th>21</th>\n",
       "      <td>best_basic_hyperparamP2all</td>\n",
       "      <td>SSS6</td>\n",
       "      <td>0.73809</td>\n",
       "      <td>0.747101</td>\n",
       "      <td>8600</td>\n",
       "      <td>1326</td>\n",
       "      <td>4286</td>\n",
       "      <td>548</td>\n",
       "      <td>586</td>\n",
       "      <td>0.45335</td>\n",
       "      <td>-706.6</td>\n",
       "    </tr>\n",
       "    <tr>\n",
       "      <th>15</th>\n",
       "      <td>best_basic_hyperparamP2all_CP</td>\n",
       "      <td>best_basic_hyperparamP2all_CP</td>\n",
       "      <td>0.73805</td>\n",
       "      <td>0.7383</td>\n",
       "      <td>8702</td>\n",
       "      <td>1231</td>\n",
       "      <td>4224</td>\n",
       "      <td>603</td>\n",
       "      <td>568.7</td>\n",
       "      <td>0.439966</td>\n",
       "      <td>-723.9</td>\n",
       "    </tr>\n",
       "    <tr>\n",
       "      <th>17</th>\n",
       "      <td>best_basic_hyperparamP2all</td>\n",
       "      <td>Polinome3:all6</td>\n",
       "      <td>0.73799</td>\n",
       "      <td>0.737044</td>\n",
       "      <td>8715</td>\n",
       "      <td>1220</td>\n",
       "      <td>4211</td>\n",
       "      <td>614</td>\n",
       "      <td>564.5</td>\n",
       "      <td>0.436717</td>\n",
       "      <td>-728.1</td>\n",
       "    </tr>\n",
       "    <tr>\n",
       "      <th>22</th>\n",
       "      <td>baseline_optbasichyperCP</td>\n",
       "      <td>SSS6</td>\n",
       "      <td>0.73791</td>\n",
       "      <td>0.747161</td>\n",
       "      <td>8589</td>\n",
       "      <td>1327</td>\n",
       "      <td>4297</td>\n",
       "      <td>547</td>\n",
       "      <td>585.4</td>\n",
       "      <td>0.452886</td>\n",
       "      <td>-707.2</td>\n",
       "    </tr>\n",
       "    <tr>\n",
       "      <th>11</th>\n",
       "      <td>baseline_best_hyperparam</td>\n",
       "      <td>log(num_features)_Poly6 all num edu_nan2SCH:all</td>\n",
       "      <td>0.7347</td>\n",
       "      <td>0.735008</td>\n",
       "      <td>8749</td>\n",
       "      <td>1222</td>\n",
       "      <td>4177</td>\n",
       "      <td>612</td>\n",
       "      <td>568.9</td>\n",
       "      <td>0.440121</td>\n",
       "      <td>-723.7</td>\n",
       "    </tr>\n",
       "    <tr>\n",
       "      <th>7</th>\n",
       "      <td>baseline_best_hyperparam</td>\n",
       "      <td>log(num_features)_Poly all num</td>\n",
       "      <td>0.73416</td>\n",
       "      <td>0.733737</td>\n",
       "      <td>8654</td>\n",
       "      <td>1237</td>\n",
       "      <td>4272</td>\n",
       "      <td>597</td>\n",
       "      <td>566.9</td>\n",
       "      <td>0.438573</td>\n",
       "      <td>-725.7</td>\n",
       "    </tr>\n",
       "    <tr>\n",
       "      <th>8</th>\n",
       "      <td>baseline_best_hyperparam2</td>\n",
       "      <td>log(num_features)_Poly all num</td>\n",
       "      <td>0.73412</td>\n",
       "      <td>0.733747</td>\n",
       "      <td>8682</td>\n",
       "      <td>1230</td>\n",
       "      <td>4244</td>\n",
       "      <td>604</td>\n",
       "      <td>566.2</td>\n",
       "      <td>0.438032</td>\n",
       "      <td>-726.4</td>\n",
       "    </tr>\n",
       "    <tr>\n",
       "      <th>10</th>\n",
       "      <td>baseline_best_hyperparam</td>\n",
       "      <td>log(num_features)_Poly all num edu_nan2SCH</td>\n",
       "      <td>0.73401</td>\n",
       "      <td>0.7335</td>\n",
       "      <td>8690</td>\n",
       "      <td>1231</td>\n",
       "      <td>4236</td>\n",
       "      <td>603</td>\n",
       "      <td>567.5</td>\n",
       "      <td>0.439038</td>\n",
       "      <td>-725.1</td>\n",
       "    </tr>\n",
       "    <tr>\n",
       "      <th>4</th>\n",
       "      <td>baseline</td>\n",
       "      <td>log(num_features)</td>\n",
       "      <td>0.73335</td>\n",
       "      <td>0.7329</td>\n",
       "      <td>12876</td>\n",
       "      <td>39</td>\n",
       "      <td>50</td>\n",
       "      <td>1795</td>\n",
       "      <td>390.1</td>\n",
       "      <td>0.301795</td>\n",
       "      <td>-902.5</td>\n",
       "    </tr>\n",
       "    <tr>\n",
       "      <th>9</th>\n",
       "      <td>baseline_best_hyperparam</td>\n",
       "      <td>log(num_features)_Poly all num StratifiedShuff...</td>\n",
       "      <td>0.7332</td>\n",
       "      <td>0.7249</td>\n",
       "      <td>8553</td>\n",
       "      <td>1230</td>\n",
       "      <td>4333</td>\n",
       "      <td>644</td>\n",
       "      <td>533.3</td>\n",
       "      <td>0.412579</td>\n",
       "      <td>-759.3</td>\n",
       "    </tr>\n",
       "    <tr>\n",
       "      <th>5</th>\n",
       "      <td>baseline_best_hyperparam</td>\n",
       "      <td>log(num_features)</td>\n",
       "      <td>0.73317</td>\n",
       "      <td>0.7329</td>\n",
       "      <td>8668</td>\n",
       "      <td>1226</td>\n",
       "      <td>4258</td>\n",
       "      <td>608</td>\n",
       "      <td>562.8</td>\n",
       "      <td>0.435402</td>\n",
       "      <td>-729.8</td>\n",
       "    </tr>\n",
       "    <tr>\n",
       "      <th>1</th>\n",
       "      <td>baseline</td>\n",
       "      <td>None</td>\n",
       "      <td>0.73196</td>\n",
       "      <td>0.732</td>\n",
       "      <td>12876</td>\n",
       "      <td>37</td>\n",
       "      <td>50</td>\n",
       "      <td>1797</td>\n",
       "      <td>389.1</td>\n",
       "      <td>0.301021</td>\n",
       "      <td>-903.5</td>\n",
       "    </tr>\n",
       "    <tr>\n",
       "      <th>2</th>\n",
       "      <td>baseline_best_hyperparam</td>\n",
       "      <td>None</td>\n",
       "      <td>0.73196</td>\n",
       "      <td>0.732</td>\n",
       "      <td>8658</td>\n",
       "      <td>1224</td>\n",
       "      <td>4268</td>\n",
       "      <td>610</td>\n",
       "      <td>560.8</td>\n",
       "      <td>0.433854</td>\n",
       "      <td>-731.8</td>\n",
       "    </tr>\n",
       "    <tr>\n",
       "      <th>3</th>\n",
       "      <td>baseline</td>\n",
       "      <td>log(age)</td>\n",
       "      <td>None</td>\n",
       "      <td>0.7318</td>\n",
       "      <td>12876</td>\n",
       "      <td>37</td>\n",
       "      <td>50</td>\n",
       "      <td>1797</td>\n",
       "      <td>389.1</td>\n",
       "      <td>0.301021</td>\n",
       "      <td>-903.5</td>\n",
       "    </tr>\n",
       "    <tr>\n",
       "      <th>6</th>\n",
       "      <td>baseline</td>\n",
       "      <td>log(num_features)_Poly all num</td>\n",
       "      <td>None</td>\n",
       "      <td>0.733729</td>\n",
       "      <td>12874</td>\n",
       "      <td>35</td>\n",
       "      <td>52</td>\n",
       "      <td>1799</td>\n",
       "      <td>387.9</td>\n",
       "      <td>0.300093</td>\n",
       "      <td>-904.7</td>\n",
       "    </tr>\n",
       "    <tr>\n",
       "      <th>13</th>\n",
       "      <td>baseline_best_hyperparam_auc</td>\n",
       "      <td>log(num_features)_Polinome2:all6 edu_nan2SCH:all</td>\n",
       "      <td>None</td>\n",
       "      <td>0.738404</td>\n",
       "      <td>12872</td>\n",
       "      <td>48</td>\n",
       "      <td>54</td>\n",
       "      <td>1786</td>\n",
       "      <td>394.2</td>\n",
       "      <td>0.304967</td>\n",
       "      <td>-898.4</td>\n",
       "    </tr>\n",
       "  </tbody>\n",
       "</table>\n",
       "</div>"
      ],
      "text/plain": [
       "                description_model  \\\n",
       "0                divine knowledge   \n",
       "14  baseline_best_hyperparam2_auc   \n",
       "19     best_basic_hyperparamP2all   \n",
       "16     best_basic_hyperparamP2all   \n",
       "12       baseline_best_hyperparam   \n",
       "18       baseline_optbasichyperCP   \n",
       "20       baseline_optbasichyperCP   \n",
       "21     best_basic_hyperparamP2all   \n",
       "15  best_basic_hyperparamP2all_CP   \n",
       "17     best_basic_hyperparamP2all   \n",
       "22       baseline_optbasichyperCP   \n",
       "11       baseline_best_hyperparam   \n",
       "7        baseline_best_hyperparam   \n",
       "8       baseline_best_hyperparam2   \n",
       "10       baseline_best_hyperparam   \n",
       "4                        baseline   \n",
       "9        baseline_best_hyperparam   \n",
       "5        baseline_best_hyperparam   \n",
       "1                        baseline   \n",
       "2        baseline_best_hyperparam   \n",
       "3                        baseline   \n",
       "6                        baseline   \n",
       "13   baseline_best_hyperparam_auc   \n",
       "\n",
       "                                        modifications public_score       ROC  \\\n",
       "0                                                None            1         1   \n",
       "14   log(num_features)_Polinome2:all6 edu_nan2SCH:all      0.73832  0.738478   \n",
       "19                                                SSS      0.73832  0.737206   \n",
       "16                         best_basic_hyperparamP2all      0.73822    0.7382   \n",
       "12   log(num_features)_Polinome2:all6 edu_nan2SCH:all      0.73822  0.738243   \n",
       "18                                     Polinome3:all6      0.73821  0.737376   \n",
       "20                                                SSS      0.73815  0.737079   \n",
       "21                                               SSS6      0.73809  0.747101   \n",
       "15                      best_basic_hyperparamP2all_CP      0.73805    0.7383   \n",
       "17                                     Polinome3:all6      0.73799  0.737044   \n",
       "22                                               SSS6      0.73791  0.747161   \n",
       "11    log(num_features)_Poly6 all num edu_nan2SCH:all       0.7347  0.735008   \n",
       "7                      log(num_features)_Poly all num      0.73416  0.733737   \n",
       "8                      log(num_features)_Poly all num      0.73412  0.733747   \n",
       "10         log(num_features)_Poly all num edu_nan2SCH      0.73401    0.7335   \n",
       "4                                   log(num_features)      0.73335    0.7329   \n",
       "9   log(num_features)_Poly all num StratifiedShuff...       0.7332    0.7249   \n",
       "5                                   log(num_features)      0.73317    0.7329   \n",
       "1                                                None      0.73196     0.732   \n",
       "2                                                None      0.73196     0.732   \n",
       "3                                            log(age)         None    0.7318   \n",
       "6                      log(num_features)_Poly all num         None  0.733729   \n",
       "13   log(num_features)_Polinome2:all6 edu_nan2SCH:all         None  0.738404   \n",
       "\n",
       "    TN_00 TP_11 FP_01 FN_10  profit   profit% profit_loss  \n",
       "0   12926  1834     0     0  1292.6         1           0  \n",
       "14  12873    48    53  1786   394.3  0.305044      -898.3  \n",
       "19   8674  1256  4212   618   558.4  0.431998      -734.2  \n",
       "16   8709  1230  4217   604   568.9  0.440121      -723.7  \n",
       "12   8709  1230  4217   604   568.9  0.440121      -723.7  \n",
       "18   8708  1225  4218   609   566.3  0.438109      -726.3  \n",
       "20   8684  1252  4202   622   557.4  0.431224      -735.2  \n",
       "21   8600  1326  4286   548     586   0.45335      -706.6  \n",
       "15   8702  1231  4224   603   568.7  0.439966      -723.9  \n",
       "17   8715  1220  4211   614   564.5  0.436717      -728.1  \n",
       "22   8589  1327  4297   547   585.4  0.452886      -707.2  \n",
       "11   8749  1222  4177   612   568.9  0.440121      -723.7  \n",
       "7    8654  1237  4272   597   566.9  0.438573      -725.7  \n",
       "8    8682  1230  4244   604   566.2  0.438032      -726.4  \n",
       "10   8690  1231  4236   603   567.5  0.439038      -725.1  \n",
       "4   12876    39    50  1795   390.1  0.301795      -902.5  \n",
       "9    8553  1230  4333   644   533.3  0.412579      -759.3  \n",
       "5    8668  1226  4258   608   562.8  0.435402      -729.8  \n",
       "1   12876    37    50  1797   389.1  0.301021      -903.5  \n",
       "2    8658  1224  4268   610   560.8  0.433854      -731.8  \n",
       "3   12876    37    50  1797   389.1  0.301021      -903.5  \n",
       "6   12874    35    52  1799   387.9  0.300093      -904.7  \n",
       "13  12872    48    54  1786   394.2  0.304967      -898.4  "
      ]
     },
     "metadata": {},
     "output_type": "display_data"
    }
   ],
   "source": [
    "# эти данные исторические, и помогали найти более оптимальный способ решения,\n",
    "# значения могут расходиться с полученными сейчас при оптимальных параметрах  \n",
    "\n",
    "col = [\"description_model\",\"modifications\",\"public_score\",\"ROC\",\"TN_00\",\"TP_11\",\"FP_01\",\"FN_10\"]\n",
    "results=pd.DataFrame(data=None, columns=col)\n",
    "results = results.append(pd.DataFrame(data=[[\"divine knowledge\",None,1,1,12926,1834,0,0]], \n",
    "                                      columns=col), ignore_index=True)\n",
    "\n",
    "results = results.append(pd.DataFrame(data=[[\"baseline\",    None,         \n",
    "                                             0.73196,0.732,12876,37,50,1797]], \n",
    "                                      columns=col), ignore_index=True)\n",
    "\n",
    "results = results.append(pd.DataFrame(data=[[\"baseline_best_hyperparam\",None,\n",
    "                                             0.73196,0.732,8658,1224,4268,610]], \n",
    "                                      columns=col), ignore_index=True)\n",
    "\n",
    "results = results.append(pd.DataFrame(data=[[\"baseline\",\"log(age)\",            \n",
    "                                             None,0.7318,12876,37,50,1797]], \n",
    "                                      columns=col), ignore_index=True)\n",
    "\n",
    "results = results.append(pd.DataFrame(data=[[\"baseline\",\"log(num_features)\",\n",
    "                                             0.73335,0.7329,12876,39,50,1795]], \n",
    "                                      columns=col), ignore_index=True)\n",
    "\n",
    "results = results.append(pd.DataFrame(data=[[\"baseline_best_hyperparam\",\"log(num_features)\",\n",
    "                                             0.73317,0.7329,8668,1226,4258,608]], \n",
    "                                      columns=col), ignore_index=True)\n",
    "\n",
    "\n",
    "results = results.append(pd.DataFrame(data=[[\"baseline\",\"log(num_features)_Poly all num\", \n",
    "                                             None,0.733729,12874,35,52,1799]], \n",
    "                                      columns=col), ignore_index=True)\n",
    "results = results.append(pd.DataFrame(data=[[\"baseline_best_hyperparam\",\"log(num_features)_Poly all num\", \n",
    "                                             0.73416,0.733737,8654,1237,4272,597]], \n",
    "                                      columns=col), ignore_index=True)\n",
    "\n",
    "results = results.append(pd.DataFrame(data=[[\"baseline_best_hyperparam2\",\"log(num_features)_Poly all num\", \n",
    "                                             0.73412,0.733747,8682,1230,4244,604]], \n",
    "                                      columns=col), ignore_index=True)\n",
    "results = results.append(pd.DataFrame(data=[[\"baseline_best_hyperparam\",\n",
    "                                             \"log(num_features)_Poly all num StratifiedShuffleSplit\", \n",
    "                                             0.73320,0.7249, 8553, 1230, 4333, 644]], \n",
    "                                      columns=col), ignore_index=True)\n",
    "\n",
    "results = results.append(pd.DataFrame(data=[[\"baseline_best_hyperparam\",\n",
    "                                             \"log(num_features)_Poly all num edu_nan2SCH\", \n",
    "                                             0.73401,0.7335, 8690, 1231, 4236, 603]], \n",
    "                                      columns=col), ignore_index=True)\n",
    "\n",
    "results = results.append(pd.DataFrame(data=[[\"baseline_best_hyperparam\",\n",
    "                                             \"log(num_features)_Poly6 all num edu_nan2SCH:all\",\n",
    "                                             0.73470,0.735008,8749,1222,4177,612]], \n",
    "                                      columns=col), ignore_index=True)\n",
    "\n",
    "results = results.append(pd.DataFrame(data=[[\"baseline_best_hyperparam\",\n",
    "                                             \"log(num_features)_Polinome2:all6 edu_nan2SCH:all\",\n",
    "                                             0.73822,0.738243,8709,1230,4217,604]], \n",
    "                                      columns=col), ignore_index=True)\n",
    "\n",
    "\n",
    "\n",
    "results = results.append(pd.DataFrame(data=[[\"baseline_best_hyperparam_auc\",\n",
    "                                             \"log(num_features)_Polinome2:all6 edu_nan2SCH:all\",\n",
    "                                             None,0.738404,12872,48,54,1786]], \n",
    "                                      columns=col), ignore_index=True)\n",
    "\n",
    "\n",
    "results = results.append(pd.DataFrame(data=[[\"baseline_best_hyperparam2_auc\",\n",
    "                                             \"log(num_features)_Polinome2:all6 edu_nan2SCH:all\",\n",
    "                                             0.73832,0.738478,12873,48,53,1786]], \n",
    "                                      columns=col), ignore_index=True)\n",
    "\n",
    "# this data are definately from the current version document\n",
    "results = results.append(pd.DataFrame(data=[[\"best_basic_hyperparamP2all_CP\",\n",
    "                                              \"best_basic_hyperparamP2all_CP\", \n",
    "                                              0.73805, 0.7383, 8702, 1231, 4224, 603]], \n",
    "                                      columns=col), ignore_index=True)  \n",
    "results = results.append(pd.DataFrame(data=[[\"best_basic_hyperparamP2all\",\n",
    "                                             \"best_basic_hyperparamP2all\",\n",
    "                                             0.73822,0.7382, 8709,1230,4217,604]], \n",
    "                                      columns=col), ignore_index=True)     \n",
    "\n",
    "results = results.append(pd.DataFrame(data=[[\"best_basic_hyperparamP2all\",\n",
    "                                             \"Polinome3:all6\",\n",
    "                                             0.73799,0.737044,8715,1220,4211,614]], \n",
    "                                      columns=col), ignore_index=True)\n",
    "\n",
    "results = results.append(pd.DataFrame(data=[[\"baseline_optbasichyperCP\",\n",
    "                                             \"Polinome3:all6\",\n",
    "                                             0.73821,0.737376,8708,1225,4218,609]], \n",
    "                                      columns=col), ignore_index=True)\n",
    " \n",
    "    \n",
    "results = results.append(pd.DataFrame(data=[[\"best_basic_hyperparamP2all\",\n",
    "                                             \"SSS\",\n",
    "                                             0.73832,0.737206,8674,1256,4212,618]], \n",
    "                                      columns=col), ignore_index=True)\n",
    "\n",
    "results = results.append(pd.DataFrame(data=[[\"baseline_optbasichyperCP\",\n",
    "                                             \"SSS\",\n",
    "                                             0.73815,0.737079,8684,1252,4202,622]], \n",
    "                                      columns=col), ignore_index=True)\n",
    "\n",
    "results = results.append(pd.DataFrame(data=[[\"best_basic_hyperparamP2all\",\n",
    "                                             \"SSS6\",\n",
    "                                             0.73809,0.747101,8600,1326,4286,548]], \n",
    "                                      columns=col), ignore_index=True)\n",
    "\n",
    "results = results.append(pd.DataFrame(data=[[\"baseline_optbasichyperCP\",\n",
    "                                             \"SSS6\",\n",
    "                                             0.73791,0.747161,8589,1327,4297,547]], \n",
    "                                      columns=col), ignore_index=True)\n",
    "\n",
    "\n",
    "# сделаем грубую оценку прибыльности предприятий, которые работают по данным моделям\n",
    "# допустим, что все заемы одинаковые\n",
    "# прибыль в среднем от всех одобренных клиентов, которые вернут заем 0.1 от этой суммы\n",
    "# убыток от каждого кредита 0.5 от этой суммы\n",
    "\n",
    "profit = 0.1 \n",
    "loss_default = 0.5\n",
    "\n",
    "results[\"profit\"]=profit*results[\"TN_00\"]-loss_default*results[\"FN_10\"]\n",
    "results[\"profit%\"]=results[\"profit\"]/results.iloc[0][\"profit\"]\n",
    "results[\"profit_loss\"]=results[\"profit\"]-results.iloc[0][\"profit\"]\n",
    "display(results.sort_values(by=['public_score'],ascending=False))\n"
   ]
  }
 ],
 "metadata": {
  "kernelspec": {
   "display_name": "Python 3",
   "language": "python",
   "name": "python3"
  },
  "language_info": {
   "codemirror_mode": {
    "name": "ipython",
    "version": 3
   },
   "file_extension": ".py",
   "mimetype": "text/x-python",
   "name": "python",
   "nbconvert_exporter": "python",
   "pygments_lexer": "ipython3",
   "version": "3.8.3"
  }
 },
 "nbformat": 4,
 "nbformat_minor": 4
}
